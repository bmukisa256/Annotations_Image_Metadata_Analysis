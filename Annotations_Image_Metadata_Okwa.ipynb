{
 "cells": [
  {
   "cell_type": "code",
   "execution_count": 23,
   "id": "8153aa07-bff3-4230-a0a3-0aa70cb46038",
   "metadata": {},
   "outputs": [],
   "source": [
    "import os\n",
    "import json\n",
    "import re\n",
    "import pandas as pd\n",
    "\n",
    "# Annotations and Metadata\n",
    "def load_json_files(folder_path):\n",
    "    data = []\n",
    "    for file_name in os.listdir(folder_path):\n",
    "        if file_name.endswith('.json'):\n",
    "            with open(os.path.join(folder_path, file_name), 'r') as f:\n",
    "                data.append(json.load(f))\n",
    "    return data\n",
    "\n",
    "# Folders\n",
    "annotations_folder = r\"B:\\annotations\\sample\\coco\\annotations_05\"\n",
    "metadata_folder = r\"B:\\annotations\\sample\\ocular-json\"\n",
    "\n",
    "# Load all annotations and metadata\n",
    "annotations = load_json_files(annotations_folder)\n",
    "metadata = load_json_files(metadata_folder)"
   ]
  },
  {
   "cell_type": "code",
   "execution_count": null,
   "id": "4a6658d4-e808-475c-b3a9-d9ecdb0e3209",
   "metadata": {},
   "outputs": [],
   "source": []
  },
  {
   "cell_type": "code",
   "execution_count": 24,
   "id": "efc350f9-2c7d-4af6-94c9-221473c7fcc9",
   "metadata": {},
   "outputs": [],
   "source": [
    "# Extract timestamp from file name or file path\n",
    "def extract_timestamp(file_path):\n",
    "    match = re.search(r'Ocular_(\\d{4}-\\d{2}-\\d{2}_\\d{2}_\\d{2}_\\d{2})', file_path)\n",
    "    return match.group(1) if match else None\n",
    "\n",
    "metadata_list = []\n",
    "for meta in metadata:\n",
    "    if isinstance(meta, dict):\n",
    "        # Processing each key-value pair in the dictionary\n",
    "        timestamp = extract_timestamp(meta.get('file_path', None))\n",
    "        if timestamp:\n",
    "            metadata_list.append({\n",
    "                'timestamp': timestamp,\n",
    "                'zoom_ration': meta.get('zoom_ration', None),\n",
    "                'slide_name': meta.get('slide_name', None),\n",
    "                'username': meta.get('username', None),\n",
    "                'stain': meta.get('stain', None)\n",
    "            })\n",
    "        else:\n",
    "            print('No timestamp found')\n",
    "\n",
    "metadata_df = pd.DataFrame(metadata_list)"
   ]
  },
  {
   "cell_type": "code",
   "execution_count": null,
   "id": "c3a1a9ad-9c8d-45db-a444-0d78499d14e4",
   "metadata": {},
   "outputs": [],
   "source": []
  },
  {
   "cell_type": "code",
   "execution_count": 45,
   "id": "54f4d151-712d-482e-bafc-2ad73bc0b485",
   "metadata": {},
   "outputs": [],
   "source": [
    "import pandas as pd\n",
    "\n",
    "# Based on the timestamp pattern in the file paths match annotations to metadata\n",
    "annotation_list = []\n",
    "for annotation_file in annotations:\n",
    "    for image in annotation_file['images']:\n",
    "        file_name = image['file_name']\n",
    "        image_id = image['id']\n",
    "        timestamp = extract_timestamp(file_name)\n",
    "        if timestamp:\n",
    "            matching_metadata = metadata_df[metadata_df['timestamp'] == timestamp]\n",
    "            if not matching_metadata.empty:\n",
    "                for annotation in annotation_file['annotations']:\n",
    "                    if annotation['image_id'] == image['id']:\n",
    "                        for category in annotation_file['categories']:\n",
    "                            category_name = category['name']\n",
    "                            category_id = category['id']\n",
    "                            if annotation['category_id'] == category_id:\n",
    "                             for _, row in matching_metadata.iterrows():\n",
    "                                annotation_list.append({\n",
    "                                'file_name': file_name,\n",
    "                                'category_id': annotation['category_id'],\n",
    "                                'category_name':category_name,\n",
    "                                'image_id': image_id,\n",
    "                                'zoom_ration': row['zoom_ration']\n",
    "                                })\n",
    "\n",
    "\n",
    "okwa_annotations_df = pd.DataFrame(annotation_list)"
   ]
  },
  {
   "cell_type": "code",
   "execution_count": 47,
   "id": "333c4f66-6279-4303-b742-be2aeb73f235",
   "metadata": {},
   "outputs": [],
   "source": [
    "#okwa_annotations_df.to_csv('okwa_annotations_df.csv', sep=',', header=True, index=False, na_rep='NA', float_format='%.2f')"
   ]
  },
  {
   "cell_type": "code",
   "execution_count": null,
   "id": "bacea6f6-d736-4ccc-9adb-6f68769753c6",
   "metadata": {},
   "outputs": [],
   "source": []
  },
  {
   "cell_type": "code",
   "execution_count": 26,
   "id": "4cf38f5d-f46e-4e12-86d6-745ff96ad1e3",
   "metadata": {},
   "outputs": [
    {
     "data": {
      "text/html": [
       "<div>\n",
       "<style scoped>\n",
       "    .dataframe tbody tr th:only-of-type {\n",
       "        vertical-align: middle;\n",
       "    }\n",
       "\n",
       "    .dataframe tbody tr th {\n",
       "        vertical-align: top;\n",
       "    }\n",
       "\n",
       "    .dataframe thead th {\n",
       "        text-align: right;\n",
       "    }\n",
       "</style>\n",
       "<table border=\"1\" class=\"dataframe\">\n",
       "  <thead>\n",
       "    <tr style=\"text-align: right;\">\n",
       "      <th></th>\n",
       "      <th>slide_name</th>\n",
       "      <th>zoom_ration</th>\n",
       "      <th>Number</th>\n",
       "    </tr>\n",
       "  </thead>\n",
       "  <tbody>\n",
       "    <tr>\n",
       "      <th>0</th>\n",
       "      <td>1</td>\n",
       "      <td>1.6</td>\n",
       "      <td>1</td>\n",
       "    </tr>\n",
       "    <tr>\n",
       "      <th>1</th>\n",
       "      <td>126_f_eu</td>\n",
       "      <td>1.0</td>\n",
       "      <td>20</td>\n",
       "    </tr>\n",
       "    <tr>\n",
       "      <th>2</th>\n",
       "      <td>1487</td>\n",
       "      <td>1.0</td>\n",
       "      <td>1</td>\n",
       "    </tr>\n",
       "    <tr>\n",
       "      <th>3</th>\n",
       "      <td>2</td>\n",
       "      <td>1.2</td>\n",
       "      <td>1</td>\n",
       "    </tr>\n",
       "    <tr>\n",
       "      <th>4</th>\n",
       "      <td>DSI AYE 013-G-NU</td>\n",
       "      <td>2.8</td>\n",
       "      <td>1</td>\n",
       "    </tr>\n",
       "  </tbody>\n",
       "</table>\n",
       "</div>"
      ],
      "text/plain": [
       "         slide_name zoom_ration  Number\n",
       "0                 1         1.6       1\n",
       "1          126_f_eu         1.0      20\n",
       "2              1487         1.0       1\n",
       "3                 2         1.2       1\n",
       "4  DSI AYE 013-G-NU         2.8       1"
      ]
     },
     "execution_count": 26,
     "metadata": {},
     "output_type": "execute_result"
    }
   ],
   "source": [
    "grouped_2 = metadata_df.groupby(['slide_name','zoom_ration']).size().reset_index(name='count')\n",
    "grouped_2.columns = ['slide_name','zoom_ration','Number']\n",
    "#print(grouped_2)\n",
    "slides = pd.DataFrame(grouped_2)\n",
    "slides.head()"
   ]
  },
  {
   "cell_type": "code",
   "execution_count": null,
   "id": "f6a40529-c9df-4adb-8b65-2a0cbe5df796",
   "metadata": {},
   "outputs": [],
   "source": []
  },
  {
   "cell_type": "code",
   "execution_count": 27,
   "id": "40f8003e-b080-421f-8eaa-63373bee19b4",
   "metadata": {},
   "outputs": [
    {
     "data": {
      "text/html": [
       "<div>\n",
       "<style scoped>\n",
       "    .dataframe tbody tr th:only-of-type {\n",
       "        vertical-align: middle;\n",
       "    }\n",
       "\n",
       "    .dataframe tbody tr th {\n",
       "        vertical-align: top;\n",
       "    }\n",
       "\n",
       "    .dataframe thead th {\n",
       "        text-align: right;\n",
       "    }\n",
       "</style>\n",
       "<table border=\"1\" class=\"dataframe\">\n",
       "  <thead>\n",
       "    <tr style=\"text-align: right;\">\n",
       "      <th></th>\n",
       "      <th>image_id</th>\n",
       "      <th>zoom_ration</th>\n",
       "      <th>category_name</th>\n",
       "      <th>number</th>\n",
       "    </tr>\n",
       "  </thead>\n",
       "  <tbody>\n",
       "    <tr>\n",
       "      <th>0</th>\n",
       "      <td>1</td>\n",
       "      <td>1.0</td>\n",
       "      <td>Artifact</td>\n",
       "      <td>1</td>\n",
       "    </tr>\n",
       "    <tr>\n",
       "      <th>1</th>\n",
       "      <td>1</td>\n",
       "      <td>1.0</td>\n",
       "      <td>PF</td>\n",
       "      <td>2</td>\n",
       "    </tr>\n",
       "    <tr>\n",
       "      <th>2</th>\n",
       "      <td>1</td>\n",
       "      <td>1.0</td>\n",
       "      <td>Trophozoite</td>\n",
       "      <td>41</td>\n",
       "    </tr>\n",
       "    <tr>\n",
       "      <th>3</th>\n",
       "      <td>1</td>\n",
       "      <td>1.0</td>\n",
       "      <td>WBC</td>\n",
       "      <td>12</td>\n",
       "    </tr>\n",
       "    <tr>\n",
       "      <th>4</th>\n",
       "      <td>1</td>\n",
       "      <td>1.4</td>\n",
       "      <td>Artifact</td>\n",
       "      <td>1</td>\n",
       "    </tr>\n",
       "  </tbody>\n",
       "</table>\n",
       "</div>"
      ],
      "text/plain": [
       "   image_id zoom_ration category_name  number\n",
       "0         1         1.0      Artifact       1\n",
       "1         1         1.0            PF       2\n",
       "2         1         1.0   Trophozoite      41\n",
       "3         1         1.0           WBC      12\n",
       "4         1         1.4      Artifact       1"
      ]
     },
     "execution_count": 27,
     "metadata": {},
     "output_type": "execute_result"
    }
   ],
   "source": [
    "grouped_annotations = okwa_annotations_df.groupby(['image_id','zoom_ration','category_name']).size().reset_index(name='number')\n",
    "#print(grouped_annotations)\n",
    "slides_2 = pd.DataFrame(grouped_annotations)\n",
    "slides_2.head()"
   ]
  },
  {
   "cell_type": "code",
   "execution_count": null,
   "id": "b6a86865-56bb-4e71-8317-861c2ea5fdef",
   "metadata": {},
   "outputs": [],
   "source": []
  },
  {
   "cell_type": "code",
   "execution_count": 28,
   "id": "86359bb2-363f-4994-b64d-1003156f1b39",
   "metadata": {},
   "outputs": [
    {
     "name": "stdout",
     "output_type": "stream",
     "text": [
      "image_id\n",
      "19     9\n",
      "51     9\n",
      "34     9\n",
      "108    9\n",
      "46     9\n",
      "      ..\n",
      "168    3\n",
      "194    3\n",
      "195    3\n",
      "173    3\n",
      "181    2\n",
      "Name: count, Length: 200, dtype: int64\n"
     ]
    }
   ],
   "source": [
    "grouped_annotations = okwa_annotations_df.groupby(['image_id','zoom_ration','category_name']).size().reset_index(name='number')\n",
    "#print(grouped_annotations)\n",
    "slides_2 = pd.DataFrame(grouped_annotations)\n",
    "#slides_2.head(26)\n",
    "slides_number = slides_2['image_id'].value_counts()\n",
    "print(slides_number)"
   ]
  },
  {
   "cell_type": "code",
   "execution_count": null,
   "id": "adc7f33f-7018-4412-b183-9b1616c3a38b",
   "metadata": {},
   "outputs": [],
   "source": []
  },
  {
   "cell_type": "code",
   "execution_count": 29,
   "id": "5c59cbd9-1c6a-4d9d-95b2-bb6beb05a6d6",
   "metadata": {},
   "outputs": [
    {
     "name": "stdout",
     "output_type": "stream",
     "text": [
      "image_id\n",
      "19     9\n",
      "51     9\n",
      "34     9\n",
      "108    9\n",
      "46     9\n",
      "      ..\n",
      "168    3\n",
      "194    3\n",
      "195    3\n",
      "173    3\n",
      "181    2\n",
      "Name: count, Length: 200, dtype: int64\n"
     ]
    }
   ],
   "source": [
    "# Number of images\n",
    "category_counts = slides_2['image_id'].value_counts()\n",
    "\n",
    "# Print the counts\n",
    "print(category_counts)"
   ]
  },
  {
   "cell_type": "code",
   "execution_count": null,
   "id": "bcb5ce7e-0b61-443f-8aaf-cbb8d93f5bfb",
   "metadata": {},
   "outputs": [],
   "source": []
  },
  {
   "cell_type": "code",
   "execution_count": 30,
   "id": "bfa61e74-1a8e-44fc-9ced-b286a9ebd156",
   "metadata": {},
   "outputs": [
    {
     "name": "stdout",
     "output_type": "stream",
     "text": [
      "category_name\n",
      "WBC            434\n",
      "Trophozoite    384\n",
      "PF             272\n",
      "Artifact        79\n",
      "Other           36\n",
      "Name: count, dtype: int64\n"
     ]
    }
   ],
   "source": [
    "# Get the count of each category\n",
    "category_counts = slides_2['category_name'].value_counts()\n",
    "\n",
    "# Print the counts\n",
    "print(category_counts)"
   ]
  },
  {
   "cell_type": "code",
   "execution_count": null,
   "id": "62f96cd8-8524-4ad7-87f6-e23cc66ed860",
   "metadata": {},
   "outputs": [],
   "source": []
  },
  {
   "cell_type": "code",
   "execution_count": 31,
   "id": "e6118f24-af20-4144-9257-8c5785d078ab",
   "metadata": {},
   "outputs": [
    {
     "data": {
      "image/png": "[encoded data removed]",
      "text/plain": [
       "<Figure size 1000x600 with 1 Axes>"
      ]
     },
     "metadata": {},
     "output_type": "display_data"
    }
   ],
   "source": [
    "import matplotlib.pyplot as plt\n",
    "\n",
    "# Get the count of each category\n",
    "category_counts = slides_2['category_name'].value_counts()\n",
    "\n",
    "# Create a bar plot\n",
    "plt.figure(figsize=(10, 6))\n",
    "plt.bar(category_counts.index, category_counts.values)\n",
    "plt.xlabel('Category Name')\n",
    "plt.ylabel('Count')\n",
    "plt.title('Category Counts')\n",
    "plt.xticks(rotation=90)\n",
    "plt.tight_layout()\n",
    "plt.show()"
   ]
  },
  {
   "cell_type": "code",
   "execution_count": null,
   "id": "382e4844-4baa-451f-a69b-c6310a8fb0cd",
   "metadata": {},
   "outputs": [],
   "source": []
  },
  {
   "cell_type": "code",
   "execution_count": 32,
   "id": "9004c0c5-292e-4e4c-9dcf-834878a70f55",
   "metadata": {},
   "outputs": [
    {
     "name": "stdout",
     "output_type": "stream",
     "text": [
      "462\n",
      "3049\n"
     ]
    }
   ],
   "source": [
    "import pandas as pd\n",
    "# Thick and Thin in annotations_df\n",
    "okwa_annotations_df['is_thick'] = okwa_annotations_df['file_name'].str.contains('THICK', case=False)\n",
    "okwa_annotations_df['is_thin'] = okwa_annotations_df['file_name'].str.contains('THIN', case=False)\n",
    "annotation_thick = okwa_annotations_df['is_thick']\n",
    "annotation_thin = okwa_annotations_df['is_thin']\n",
    "\n",
    "thick_annotations = okwa_annotations_df[annotation_thick]\n",
    "thick_annotations = thick_annotations.drop('is_thick', axis = 1)\n",
    "thick_annotations = thick_annotations.drop('is_thin', axis = 1)\n",
    "thick_annotations = thick_annotations.drop('category_id', axis = 1)\n",
    "thick_annotations= thick_annotations.drop('category_name', axis = 1)\n",
    "thick_annotations= thick_annotations.groupby(['file_name','image_id']).size().reset_index(name='count')\n",
    "length_thick_annotations = len(thick_annotations)\n",
    "print(length_thick_annotations)\n",
    "\n",
    "thin_annotations = okwa_annotations_df[annotation_thin]\n",
    "thin_annotations = thin_annotations.drop('is_thick', axis = 1)\n",
    "thin_annotations = thin_annotations.drop('is_thin', axis = 1)\n",
    "thin_annotations = thin_annotations.drop('category_id', axis = 1)\n",
    "thin_annotations = thin_annotations.drop('category_name', axis = 1)\n",
    "length_thin_annotations = len(thin_annotations)\n",
    "print(length_thin_annotations)"
   ]
  },
  {
   "cell_type": "code",
   "execution_count": null,
   "id": "bffebcb4-76a5-4f35-8afb-84c116212d13",
   "metadata": {},
   "outputs": [],
   "source": []
  },
  {
   "cell_type": "code",
   "execution_count": 33,
   "id": "8cf3f7af-c2b7-434d-9fce-e13e7aaf5fe5",
   "metadata": {},
   "outputs": [
    {
     "name": "stdout",
     "output_type": "stream",
     "text": [
      "2661\n",
      "2472\n"
     ]
    }
   ],
   "source": [
    "# Thick and Thin in metadata_df\n",
    "metadata_df['is_thick'] = metadata_df['slide_name'].str.contains('THICK', case=False)\n",
    "metadata_df['is_thin'] = metadata_df['slide_name'].str.contains('THIN', case=False)\n",
    "metadata_thick = metadata_df['is_thick']\n",
    "metadata_thin = metadata_df['is_thin']\n",
    "\n",
    "thick_meta = metadata_df[metadata_thick]\n",
    "thick_meta = thick_meta.drop('is_thick', axis = 1)\n",
    "thick_meta = thick_meta.drop('is_thin', axis = 1)\n",
    "thick_meta = thick_meta.drop('stain', axis = 1)\n",
    "thick_meta = thick_meta.drop('username', axis = 1)\n",
    "thick_meta = thick_meta.groupby(['timestamp','slide_name','zoom_ration']).size().reset_index(name='Number')\n",
    "thick_meta = thick_meta.drop('Number', axis = 1)\n",
    "length_thick_meta = len(thick_meta)\n",
    "print(length_thick_meta)\n",
    "\n",
    "thin_meta = metadata_df[metadata_thin]\n",
    "thin_meta = thin_meta.drop('is_thick', axis = 1)\n",
    "thin_meta = thin_meta.drop('is_thin', axis = 1)\n",
    "thin_meta = thin_meta.drop('stain', axis = 1)\n",
    "thin_meta = thin_meta.drop('username', axis = 1)\n",
    "thin_meta = thin_meta.groupby(['timestamp','slide_name','zoom_ration']).size().reset_index(name='Number')\n",
    "thin_meta = thin_meta.drop('Number', axis = 1)\n",
    "length_thin_meta = len(thin_meta)\n",
    "print(length_thin_meta)"
   ]
  },
  {
   "cell_type": "code",
   "execution_count": null,
   "id": "58bf094b-d5fe-4a13-a0f9-6eca85b7c709",
   "metadata": {},
   "outputs": [],
   "source": []
  },
  {
   "cell_type": "code",
   "execution_count": 34,
   "id": "1b7d149d-3273-41c6-9bc2-3e3f067bd6d5",
   "metadata": {},
   "outputs": [
    {
     "data": {
      "text/html": [
       "<div>\n",
       "<style scoped>\n",
       "    .dataframe tbody tr th:only-of-type {\n",
       "        vertical-align: middle;\n",
       "    }\n",
       "\n",
       "    .dataframe tbody tr th {\n",
       "        vertical-align: top;\n",
       "    }\n",
       "\n",
       "    .dataframe thead th {\n",
       "        text-align: right;\n",
       "    }\n",
       "</style>\n",
       "<table border=\"1\" class=\"dataframe\">\n",
       "  <thead>\n",
       "    <tr style=\"text-align: right;\">\n",
       "      <th></th>\n",
       "      <th>Image_ID</th>\n",
       "      <th>Category_name</th>\n",
       "      <th>Number</th>\n",
       "    </tr>\n",
       "  </thead>\n",
       "  <tbody>\n",
       "    <tr>\n",
       "      <th>0</th>\n",
       "      <td>1</td>\n",
       "      <td>Trophozoite</td>\n",
       "      <td>96</td>\n",
       "    </tr>\n",
       "    <tr>\n",
       "      <th>1</th>\n",
       "      <td>2</td>\n",
       "      <td>Trophozoite</td>\n",
       "      <td>87</td>\n",
       "    </tr>\n",
       "    <tr>\n",
       "      <th>2</th>\n",
       "      <td>3</td>\n",
       "      <td>Trophozoite</td>\n",
       "      <td>103</td>\n",
       "    </tr>\n",
       "    <tr>\n",
       "      <th>3</th>\n",
       "      <td>4</td>\n",
       "      <td>Trophozoite</td>\n",
       "      <td>107</td>\n",
       "    </tr>\n",
       "    <tr>\n",
       "      <th>4</th>\n",
       "      <td>5</td>\n",
       "      <td>Trophozoite</td>\n",
       "      <td>125</td>\n",
       "    </tr>\n",
       "  </tbody>\n",
       "</table>\n",
       "</div>"
      ],
      "text/plain": [
       "   Image_ID Category_name  Number\n",
       "0         1   Trophozoite      96\n",
       "1         2   Trophozoite      87\n",
       "2         3   Trophozoite     103\n",
       "3         4   Trophozoite     107\n",
       "4         5   Trophozoite     125"
      ]
     },
     "execution_count": 34,
     "metadata": {},
     "output_type": "execute_result"
    }
   ],
   "source": [
    "import numpy as np\n",
    "trophozoite_annotations = okwa_annotations_df[okwa_annotations_df['category_id'] == 1]\n",
    "\n",
    "# Create a mapping of category_id to category_name\n",
    "category_mapping = okwa_annotations_df.groupby('category_id')['category_name'].first()\n",
    "\n",
    "# Replacing category_id with category_name in the groupby column\n",
    "trophozoite_annotations.loc[:,'category_id'] = trophozoite_annotations['category_id'].map(category_mapping)\n",
    "\n",
    "trophozoite_annotations = trophozoite_annotations.groupby(['image_id','category_id']).size().reset_index(name='Number')\n",
    "trophozoite_annotations.columns = ['Image_ID','Category_name','Number']\n",
    "trophozoite_annotations.head()"
   ]
  },
  {
   "cell_type": "code",
   "execution_count": null,
   "id": "77daa4fc-bc1e-40c5-a0cb-88e6aee4351a",
   "metadata": {},
   "outputs": [],
   "source": []
  },
  {
   "cell_type": "code",
   "execution_count": 35,
   "id": "0df0847e-2cf9-4fa8-8b03-4b6bee7d5b42",
   "metadata": {},
   "outputs": [
    {
     "data": {
      "image/png": "[encoded data removed]",
      "text/plain": [
       "<Figure size 1200x600 with 1 Axes>"
      ]
     },
     "metadata": {},
     "output_type": "display_data"
    }
   ],
   "source": [
    "import seaborn as sns\n",
    "import matplotlib.pyplot as plt\n",
    "\n",
    "sns.set_theme(style=\"whitegrid\")\n",
    "\n",
    "# Range of images \n",
    "image_range = trophozoite_annotations['Image_ID'].unique()[:35]\n",
    "\n",
    "# Filter the data to only include the selected image range\n",
    "filtered_data = trophozoite_annotations[trophozoite_annotations['Image_ID'].isin(image_range)]\n",
    "\n",
    "# Bar plot\n",
    "plt.figure(figsize=(12, 6))\n",
    "sns.barplot(x='Image_ID', y='Number', hue='Category_name', data=filtered_data, palette='viridis')\n",
    "plt.title('Number of Trophozoite for Each Image')\n",
    "plt.xlabel('Image ID')\n",
    "plt.ylabel('Number of Annotations')\n",
    "plt.legend(title='Category Name')\n",
    "plt.xticks(rotation=90)\n",
    "plt.show()"
   ]
  },
  {
   "cell_type": "code",
   "execution_count": null,
   "id": "642150f2-4cc6-4ef6-8136-121e76c10c2c",
   "metadata": {},
   "outputs": [],
   "source": []
  },
  {
   "cell_type": "code",
   "execution_count": 36,
   "id": "deca08fe-8358-4b5c-8474-49be0f9d5b13",
   "metadata": {},
   "outputs": [
    {
     "data": {
      "text/html": [
       "<div>\n",
       "<style scoped>\n",
       "    .dataframe tbody tr th:only-of-type {\n",
       "        vertical-align: middle;\n",
       "    }\n",
       "\n",
       "    .dataframe tbody tr th {\n",
       "        vertical-align: top;\n",
       "    }\n",
       "\n",
       "    .dataframe thead th {\n",
       "        text-align: right;\n",
       "    }\n",
       "</style>\n",
       "<table border=\"1\" class=\"dataframe\">\n",
       "  <thead>\n",
       "    <tr style=\"text-align: right;\">\n",
       "      <th></th>\n",
       "      <th>Image_ID</th>\n",
       "      <th>Category_name</th>\n",
       "      <th>Number</th>\n",
       "      <th>Slide_Name</th>\n",
       "    </tr>\n",
       "  </thead>\n",
       "  <tbody>\n",
       "    <tr>\n",
       "      <th>0</th>\n",
       "      <td>1</td>\n",
       "      <td>Trophozoite</td>\n",
       "      <td>96</td>\n",
       "      <td>Thick</td>\n",
       "    </tr>\n",
       "    <tr>\n",
       "      <th>1</th>\n",
       "      <td>2</td>\n",
       "      <td>Trophozoite</td>\n",
       "      <td>87</td>\n",
       "      <td>Thick</td>\n",
       "    </tr>\n",
       "    <tr>\n",
       "      <th>2</th>\n",
       "      <td>3</td>\n",
       "      <td>Trophozoite</td>\n",
       "      <td>103</td>\n",
       "      <td>Thick</td>\n",
       "    </tr>\n",
       "    <tr>\n",
       "      <th>3</th>\n",
       "      <td>4</td>\n",
       "      <td>Trophozoite</td>\n",
       "      <td>107</td>\n",
       "      <td>Thick</td>\n",
       "    </tr>\n",
       "    <tr>\n",
       "      <th>4</th>\n",
       "      <td>5</td>\n",
       "      <td>Trophozoite</td>\n",
       "      <td>125</td>\n",
       "      <td>Thick</td>\n",
       "    </tr>\n",
       "  </tbody>\n",
       "</table>\n",
       "</div>"
      ],
      "text/plain": [
       "   Image_ID Category_name  Number Slide_Name\n",
       "0         1   Trophozoite      96      Thick\n",
       "1         2   Trophozoite      87      Thick\n",
       "2         3   Trophozoite     103      Thick\n",
       "3         4   Trophozoite     107      Thick\n",
       "4         5   Trophozoite     125      Thick"
      ]
     },
     "execution_count": 36,
     "metadata": {},
     "output_type": "execute_result"
    }
   ],
   "source": [
    "# For Thick\n",
    "trophozoite_annotations['is_thick'] = metadata_df['slide_name'].str.contains('THICK', case=False)\n",
    "trophozoite_thick = trophozoite_annotations['is_thick']\n",
    "\n",
    "# New column indicating whether the slide is thick or thin\n",
    "trophozoite_annotations.loc[:, 'Slide_Name'] = np.where(trophozoite_thick, 'Thick','Thin')\n",
    "trophozoite_annotations_thick = trophozoite_annotations[trophozoite_thick]\n",
    "trophozoite_annotations_thick = trophozoite_annotations_thick.drop('is_thick', axis = 1)\n",
    "trophozoite_annotations_thick.head()"
   ]
  },
  {
   "cell_type": "code",
   "execution_count": null,
   "id": "2615b781-f2f4-4c04-9bd9-833bfc032add",
   "metadata": {},
   "outputs": [],
   "source": []
  },
  {
   "cell_type": "code",
   "execution_count": 37,
   "id": "ba53beaf-1c76-446b-ba2b-2eec92fed17d",
   "metadata": {},
   "outputs": [
    {
     "data": {
      "image/png": "[encoded data removed]",
      "text/plain": [
       "<Figure size 1200x600 with 1 Axes>"
      ]
     },
     "metadata": {},
     "output_type": "display_data"
    }
   ],
   "source": [
    "import seaborn as sns\n",
    "import matplotlib.pyplot as plt\n",
    "\n",
    "sns.set_theme(style=\"whitegrid\")\n",
    "\n",
    "# Range of images \n",
    "image_range = trophozoite_annotations_thick['Image_ID'].unique()[:35]\n",
    "\n",
    "# Filter the data to only include the selected image range\n",
    "filtered_data_thick = trophozoite_annotations_thick[trophozoite_annotations_thick['Image_ID'].isin(image_range)]\n",
    "\n",
    "# Bar plot\n",
    "plt.figure(figsize=(12, 6))\n",
    "sns.barplot(x='Image_ID', y='Number', hue='Category_name', data=filtered_data_thick, palette='viridis')\n",
    "plt.title('Number of Trophozoite for Each Thick Image')\n",
    "plt.xlabel('Image ID')\n",
    "plt.ylabel('Number of Annotations')\n",
    "plt.legend(title='Category Name')\n",
    "plt.xticks(rotation=90)\n",
    "plt.show()"
   ]
  },
  {
   "cell_type": "code",
   "execution_count": null,
   "id": "b82d74ed-1c62-48cb-8cb7-a382e7af98de",
   "metadata": {},
   "outputs": [],
   "source": []
  },
  {
   "cell_type": "code",
   "execution_count": 38,
   "id": "3be91ff2-14df-43be-b016-26d6834189a7",
   "metadata": {},
   "outputs": [
    {
     "data": {
      "text/html": [
       "<div>\n",
       "<style scoped>\n",
       "    .dataframe tbody tr th:only-of-type {\n",
       "        vertical-align: middle;\n",
       "    }\n",
       "\n",
       "    .dataframe tbody tr th {\n",
       "        vertical-align: top;\n",
       "    }\n",
       "\n",
       "    .dataframe thead th {\n",
       "        text-align: right;\n",
       "    }\n",
       "</style>\n",
       "<table border=\"1\" class=\"dataframe\">\n",
       "  <thead>\n",
       "    <tr style=\"text-align: right;\">\n",
       "      <th></th>\n",
       "      <th>Image_ID</th>\n",
       "      <th>Category_name</th>\n",
       "      <th>Number</th>\n",
       "      <th>Slide_Name</th>\n",
       "    </tr>\n",
       "  </thead>\n",
       "  <tbody>\n",
       "    <tr>\n",
       "      <th>17</th>\n",
       "      <td>18</td>\n",
       "      <td>Trophozoite</td>\n",
       "      <td>55</td>\n",
       "      <td>Thin</td>\n",
       "    </tr>\n",
       "    <tr>\n",
       "      <th>18</th>\n",
       "      <td>19</td>\n",
       "      <td>Trophozoite</td>\n",
       "      <td>61</td>\n",
       "      <td>Thin</td>\n",
       "    </tr>\n",
       "    <tr>\n",
       "      <th>19</th>\n",
       "      <td>20</td>\n",
       "      <td>Trophozoite</td>\n",
       "      <td>47</td>\n",
       "      <td>Thin</td>\n",
       "    </tr>\n",
       "    <tr>\n",
       "      <th>20</th>\n",
       "      <td>21</td>\n",
       "      <td>Trophozoite</td>\n",
       "      <td>21</td>\n",
       "      <td>Thin</td>\n",
       "    </tr>\n",
       "    <tr>\n",
       "      <th>21</th>\n",
       "      <td>22</td>\n",
       "      <td>Trophozoite</td>\n",
       "      <td>28</td>\n",
       "      <td>Thin</td>\n",
       "    </tr>\n",
       "  </tbody>\n",
       "</table>\n",
       "</div>"
      ],
      "text/plain": [
       "    Image_ID Category_name  Number Slide_Name\n",
       "17        18   Trophozoite      55       Thin\n",
       "18        19   Trophozoite      61       Thin\n",
       "19        20   Trophozoite      47       Thin\n",
       "20        21   Trophozoite      21       Thin\n",
       "21        22   Trophozoite      28       Thin"
      ]
     },
     "execution_count": 38,
     "metadata": {},
     "output_type": "execute_result"
    }
   ],
   "source": [
    "# For Thin\n",
    "trophozoite_annotations['is_thin'] = metadata_df['slide_name'].str.contains('THIN', case=False)\n",
    "trophozoite_thin = trophozoite_annotations['is_thin']\n",
    "# For Zoomratio\n",
    "#trophozoite_annotations['zoom_ration'] = metadata_df['zoom_ration']\n",
    "\n",
    "# New column indicating whether the slide is thick or thin\n",
    "trophozoite_annotations.loc[:, 'Slide_Name'] = np.where(trophozoite_thin, 'Thin','Thick')\n",
    "trophozoite_annotations_thin = trophozoite_annotations[trophozoite_thin]\n",
    "trophozoite_annotations_thin = trophozoite_annotations_thin.drop('is_thin', axis = 1)\n",
    "trophozoite_annotations_thin = trophozoite_annotations_thin.drop('is_thick', axis = 1)\n",
    "trophozoite_annotations_thin.head()\n",
    "#trophozoite_annotations_thin.info()"
   ]
  },
  {
   "cell_type": "code",
   "execution_count": null,
   "id": "8d8d47cc-af42-43c5-bcea-24849a1a2e75",
   "metadata": {},
   "outputs": [],
   "source": []
  },
  {
   "cell_type": "code",
   "execution_count": 39,
   "id": "8c21a3ea-019e-4846-891c-3c8edbf22cd3",
   "metadata": {},
   "outputs": [
    {
     "data": {
      "image/png": "[encoded data removed]",
      "text/plain": [
       "<Figure size 1200x600 with 1 Axes>"
      ]
     },
     "metadata": {},
     "output_type": "display_data"
    }
   ],
   "source": [
    "import seaborn as sns\n",
    "import matplotlib.pyplot as plt\n",
    "\n",
    "sns.set_theme(style=\"whitegrid\")\n",
    "\n",
    "# Range of images \n",
    "image_range = trophozoite_annotations_thin['Image_ID'].unique()[:40]\n",
    "\n",
    "# Filter the data to only include the selected image range\n",
    "filtered_data_thin = trophozoite_annotations_thin[trophozoite_annotations_thin['Image_ID'].isin(image_range)]\n",
    "\n",
    "#annotation_range = filtered_data_thin['Number'].min(), filtered_data_thin['Number'].max()\n",
    "#annotation_range = (0,45)\n",
    "\n",
    "# Bar plot\n",
    "plt.figure(figsize=(12, 6))\n",
    "sns.barplot(x='Image_ID', y='Number', hue='Category_name', data=filtered_data_thin, palette='viridis')\n",
    "plt.title('Number of Trophozoite for Each Thin Image')\n",
    "plt.xlabel('Image ID')\n",
    "plt.ylabel('Number of Annotations')\n",
    "plt.legend(title='Category Name')\n",
    "plt.xticks(rotation=90)\n",
    "plt.show()"
   ]
  },
  {
   "cell_type": "code",
   "execution_count": null,
   "id": "6c146de1-5ccb-4a6f-a209-6de68d4b1a39",
   "metadata": {},
   "outputs": [],
   "source": []
  },
  {
   "cell_type": "code",
   "execution_count": 40,
   "id": "64471750-e958-4fa8-aa94-7d55eab49fa3",
   "metadata": {},
   "outputs": [
    {
     "name": "stdout",
     "output_type": "stream",
     "text": [
      "Empty DataFrame\n",
      "Columns: [Image_ID, Number, Category_name]\n",
      "Index: []\n"
     ]
    }
   ],
   "source": [
    "schizont_annotations = annotations_df[annotations_df['category_id'] == 2]\n",
    "\n",
    "schizont_annotations = schizont_annotations.groupby(['image_id']).size().reset_index(name='Number')\n",
    "schizont_annotations['category_id'] = 2\n",
    "\n",
    "category_mapping = annotations_df[['category_id', 'category_name']].drop_duplicates()\n",
    "schizont_annotations.loc[:,'category_id'] = schizont_annotations['category_id'].replace(category_mapping.set_index('category_id')['category_name'])\n",
    "schizont_annotations.columns = ['Image_ID','Number','Category_name']\n",
    "print(schizont_annotations.head())"
   ]
  },
  {
   "cell_type": "code",
   "execution_count": null,
   "id": "f4e053e5-b181-467e-9617-f159d27eae57",
   "metadata": {},
   "outputs": [],
   "source": []
  },
  {
   "cell_type": "code",
   "execution_count": 41,
   "id": "26eeb43d-b224-4df2-bec8-82dbab8830d3",
   "metadata": {},
   "outputs": [
    {
     "name": "stdout",
     "output_type": "stream",
     "text": [
      "Empty DataFrame\n",
      "Columns: [Image_ID, Number, Category_name]\n",
      "Index: []\n"
     ]
    }
   ],
   "source": [
    "gametocyte_annotations = okwa_annotations_df[okwa_annotations_df['category_id'] == 3]\n",
    "\n",
    "gametocyte_annotations = gametocyte_annotations.groupby(['image_id']).size().reset_index(name='Number')\n",
    "gametocyte_annotations['category_id'] = 3\n",
    "\n",
    "category_mapping = okwa_annotations_df[['category_id', 'category_name']].drop_duplicates()\n",
    "gametocyte_annotations.loc[:,'category_id'] = gametocyte_annotations['category_id'].replace(category_mapping.set_index('category_id')['category_name'])\n",
    "gametocyte_annotations.columns = ['Image_ID','Number','Category_name']\n",
    "print(gametocyte_annotations)"
   ]
  },
  {
   "cell_type": "code",
   "execution_count": null,
   "id": "240695f9-62ef-44e0-9cad-c9d2bc37f4c5",
   "metadata": {},
   "outputs": [],
   "source": []
  },
  {
   "cell_type": "code",
   "execution_count": 42,
   "id": "9c6877e7-9212-4a03-8bf0-37fef739fa2a",
   "metadata": {},
   "outputs": [
    {
     "name": "stdout",
     "output_type": "stream",
     "text": [
      "   image_id  category_id  count\n",
      "0         1            4     27\n",
      "1         2            4     26\n",
      "2         3            4     30\n",
      "3         4            4     23\n",
      "4         5            4     13\n"
     ]
    }
   ],
   "source": [
    "wbc_annotations = okwa_annotations_df[okwa_annotations_df['category_id'] == 4]\n",
    "wbc_annotations = wbc_annotations.drop('is_thick', axis = 1)\n",
    "wbc_annotations = wbc_annotations.drop('is_thin', axis = 1)\n",
    "wbc_annotations = wbc_annotations.groupby(['image_id','category_id']).size().reset_index(name='count')\n",
    "\n",
    "print(wbc_annotations.head())"
   ]
  },
  {
   "cell_type": "code",
   "execution_count": null,
   "id": "02c83a62-8fef-4207-b359-35d082efcb6f",
   "metadata": {},
   "outputs": [],
   "source": []
  },
  {
   "cell_type": "code",
   "execution_count": 43,
   "id": "a20f9ba4-a610-4b86-bd88-bef9cba92ad4",
   "metadata": {},
   "outputs": [
    {
     "name": "stdout",
     "output_type": "stream",
     "text": [
      "   image_id  category_id  count\n",
      "0         1            5      2\n",
      "1         2            5      2\n",
      "2         3            5      2\n",
      "3         4            5      3\n",
      "4         5            5      1\n"
     ]
    }
   ],
   "source": [
    "pf_annotations = okwa_annotations_df[okwa_annotations_df['category_id'] == 5]\n",
    "pf_annotations = pf_annotations.drop('is_thick', axis = 1)\n",
    "pf_annotations = pf_annotations.drop('is_thin', axis = 1)\n",
    "pf_annotations = pf_annotations.groupby(['image_id','category_id']).size().reset_index(name='count')\n",
    "\n",
    "print(pf_annotations.head())"
   ]
  },
  {
   "cell_type": "code",
   "execution_count": null,
   "id": "0c71cff0-a22c-4850-bcf2-32eacc6a94dc",
   "metadata": {},
   "outputs": [],
   "source": []
  },
  {
   "cell_type": "code",
   "execution_count": null,
   "id": "28e067d9-e377-4ce3-86d9-ee90d8b6c141",
   "metadata": {},
   "outputs": [],
   "source": []
  }
 ],
 "metadata": {
  "kernelspec": {
   "display_name": "Python 3 (ipykernel)",
   "language": "python",
   "name": "python3"
  },
  "language_info": {
   "codemirror_mode": {
    "name": "ipython",
    "version": 3
   },
   "file_extension": ".py",
   "mimetype": "text/x-python",
   "name": "python",
   "nbconvert_exporter": "python",
   "pygments_lexer": "ipython3",
   "version": "3.11.7"
  }
 },
 "nbformat": 4,
 "nbformat_minor": 5
}

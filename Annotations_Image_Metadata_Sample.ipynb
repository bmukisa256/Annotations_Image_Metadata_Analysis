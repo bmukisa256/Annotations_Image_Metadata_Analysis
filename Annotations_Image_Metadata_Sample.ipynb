{
 "cells": [
  {
   "cell_type": "code",
   "execution_count": 199,
   "id": "mRC-FYyJROco",
   "metadata": {
    "colab": {
     "base_uri": "https://localhost:8080/"
    },
    "id": "mRC-FYyJROco",
    "outputId": "2ad1f1fa-e92f-499e-b92d-5a86fa5f7395"
   },
   "outputs": [],
   "source": [
    "#from google.colab import drive\n",
    "#drive.mount('/content/drive')"
   ]
  },
  {
   "cell_type": "code",
   "execution_count": null,
   "id": "38d1c28c-8aba-474e-86b4-45ab0ad2e906",
   "metadata": {},
   "outputs": [],
   "source": []
  },
  {
   "cell_type": "code",
   "execution_count": 200,
   "id": "3b7bfc48-e25f-4594-bfe6-70af7ff25688",
   "metadata": {
    "id": "3b7bfc48-e25f-4594-bfe6-70af7ff25688"
   },
   "outputs": [],
   "source": [
    "import os\n",
    "import json\n",
    "import re\n",
    "import pandas as pd\n",
    "\n",
    "# Annotations and Metadata\n",
    "def load_json_files(folder_path):\n",
    "    data = []\n",
    "    for file_name in os.listdir(folder_path):\n",
    "        if file_name.endswith('.json'):\n",
    "            with open(os.path.join(folder_path, file_name), 'r') as f:\n",
    "                data.append(json.load(f))\n",
    "    return data\n",
    "\n",
    "# Folders\n",
    "annotations_folder = r\"B:\\annotations\\sample\\coco\\annotations\"\n",
    "metadata_folder = r\"B:\\annotations\\sample\\ocular-json\"\n",
    "\n",
    "# Load all annotations and metadata\n",
    "annotations = load_json_files(annotations_folder)\n",
    "metadata = load_json_files(metadata_folder)"
   ]
  },
  {
   "cell_type": "code",
   "execution_count": null,
   "id": "059bcfa2-6741-478c-9011-1e7569445796",
   "metadata": {
    "id": "059bcfa2-6741-478c-9011-1e7569445796"
   },
   "outputs": [],
   "source": []
  },
  {
   "cell_type": "code",
   "execution_count": 201,
   "id": "d16afc03-7c29-46ea-b745-9abeb4fc47dd",
   "metadata": {},
   "outputs": [],
   "source": [
    "# Extract timestamp from file name or file path\n",
    "def extract_timestamp(file_path):\n",
    "    match = re.search(r'Ocular_(\\d{4}-\\d{2}-\\d{2}_\\d{2}_\\d{2}_\\d{2})', file_path)\n",
    "    return match.group(1) if match else None"
   ]
  },
  {
   "cell_type": "code",
   "execution_count": null,
   "id": "bd155007-0615-4839-99d0-953b605fd822",
   "metadata": {},
   "outputs": [],
   "source": []
  },
  {
   "cell_type": "code",
   "execution_count": 279,
   "id": "4b01b27a-ad11-4f9e-b316-fb9e5b578e7c",
   "metadata": {
    "id": "4b01b27a-ad11-4f9e-b316-fb9e5b578e7c"
   },
   "outputs": [],
   "source": [
    "metadata_list = []\n",
    "for meta in metadata:\n",
    "    if isinstance(meta, dict):\n",
    "        # Processing each key-value pair in the dictionary\n",
    "        timestamp = extract_timestamp(meta.get('file_path', None))\n",
    "        if timestamp:\n",
    "            metadata_list.append({\n",
    "                'image_id' : image_id,\n",
    "                'timestamp': timestamp,\n",
    "                'zoom_ration': meta.get('zoom_ration', None),\n",
    "                'slide_name': meta.get('slide_name', None),\n",
    "                'username': meta.get('username', None),\n",
    "                'stain': meta.get('stain', None),\n",
    "            })\n",
    "        else:\n",
    "            print('No timestamp found')\n",
    "\n",
    "metadata_df = pd.DataFrame(metadata_list)"
   ]
  },
  {
   "cell_type": "code",
   "execution_count": null,
   "id": "24e5ad03-2d22-4090-8a86-93a141661d72",
   "metadata": {
    "id": "24e5ad03-2d22-4090-8a86-93a141661d72"
   },
   "outputs": [],
   "source": []
  },
  {
   "cell_type": "code",
   "execution_count": 232,
   "id": "99f7e849-11a4-41c8-aa88-b88a1fb88142",
   "metadata": {
    "id": "99f7e849-11a4-41c8-aa88-b88a1fb88142"
   },
   "outputs": [],
   "source": [
    "import pandas as pd\n",
    "\n",
    "# Based on the timestamp pattern in the file paths match annotations to metadata\n",
    "annotation_list = []\n",
    "for annotation_file in annotations:\n",
    "    for image in annotation_file['images']:\n",
    "        file_name = image['file_name']\n",
    "        image_id = image['id']\n",
    "        timestamp = extract_timestamp(file_name)\n",
    "        if timestamp:\n",
    "            matching_metadata = metadata_df[metadata_df['timestamp'] == timestamp]\n",
    "            if not matching_metadata.empty:\n",
    "                for annotation in annotation_file['annotations']:\n",
    "                    if annotation['image_id'] == image['id']:\n",
    "                        for category in annotation_file['categories']:\n",
    "                            category_name = category['name']\n",
    "                            category_id = category['id']\n",
    "                            if annotation['category_id'] == category_id:\n",
    "                             for _, row in matching_metadata.iterrows():\n",
    "                                annotation_list.append({\n",
    "                                'file_name': file_name,\n",
    "                                'category_id': annotation['category_id'],\n",
    "                                'category_name':category_name,\n",
    "                                'image_id': image_id,\n",
    "                                'zoom_ration': row['zoom_ration']\n",
    "                                })\n",
    "\n",
    "\n",
    "sample_annotations_df = pd.DataFrame(annotation_list)"
   ]
  },
  {
   "cell_type": "code",
   "execution_count": 233,
   "id": "5f3e0ade-dcb1-4455-9bd6-b46476427716",
   "metadata": {
    "id": "5f3e0ade-dcb1-4455-9bd6-b46476427716"
   },
   "outputs": [],
   "source": [
    "#sample_annotations_df.to_csv('annotations_df.csv', sep=',', header=True, index=False, na_rep='NA', float_format='%.2f')"
   ]
  },
  {
   "cell_type": "code",
   "execution_count": null,
   "id": "0539e597-4c56-4a43-a8ec-db074e239ae0",
   "metadata": {
    "id": "0539e597-4c56-4a43-a8ec-db074e239ae0"
   },
   "outputs": [],
   "source": []
  },
  {
   "cell_type": "code",
   "execution_count": 207,
   "id": "111cebe8-6d08-44f1-b001-58229a15cfd8",
   "metadata": {
    "colab": {
     "base_uri": "https://localhost:8080/"
    },
    "id": "111cebe8-6d08-44f1-b001-58229a15cfd8",
    "outputId": "7464da2e-591e-4265-975f-10f0e272cc67"
   },
   "outputs": [
    {
     "data": {
      "text/html": [
       "<div>\n",
       "<style scoped>\n",
       "    .dataframe tbody tr th:only-of-type {\n",
       "        vertical-align: middle;\n",
       "    }\n",
       "\n",
       "    .dataframe tbody tr th {\n",
       "        vertical-align: top;\n",
       "    }\n",
       "\n",
       "    .dataframe thead th {\n",
       "        text-align: right;\n",
       "    }\n",
       "</style>\n",
       "<table border=\"1\" class=\"dataframe\">\n",
       "  <thead>\n",
       "    <tr style=\"text-align: right;\">\n",
       "      <th></th>\n",
       "      <th>slide_name</th>\n",
       "      <th>zoom_ration</th>\n",
       "      <th>Number</th>\n",
       "    </tr>\n",
       "  </thead>\n",
       "  <tbody>\n",
       "    <tr>\n",
       "      <th>0</th>\n",
       "      <td>1</td>\n",
       "      <td>1.6</td>\n",
       "      <td>1</td>\n",
       "    </tr>\n",
       "    <tr>\n",
       "      <th>1</th>\n",
       "      <td>126_f_eu</td>\n",
       "      <td>1.0</td>\n",
       "      <td>20</td>\n",
       "    </tr>\n",
       "    <tr>\n",
       "      <th>2</th>\n",
       "      <td>1487</td>\n",
       "      <td>1.0</td>\n",
       "      <td>1</td>\n",
       "    </tr>\n",
       "    <tr>\n",
       "      <th>3</th>\n",
       "      <td>2</td>\n",
       "      <td>1.2</td>\n",
       "      <td>1</td>\n",
       "    </tr>\n",
       "    <tr>\n",
       "      <th>4</th>\n",
       "      <td>DSI AYE 013-G-NU</td>\n",
       "      <td>2.8</td>\n",
       "      <td>1</td>\n",
       "    </tr>\n",
       "  </tbody>\n",
       "</table>\n",
       "</div>"
      ],
      "text/plain": [
       "         slide_name zoom_ration  Number\n",
       "0                 1         1.6       1\n",
       "1          126_f_eu         1.0      20\n",
       "2              1487         1.0       1\n",
       "3                 2         1.2       1\n",
       "4  DSI AYE 013-G-NU         2.8       1"
      ]
     },
     "execution_count": 207,
     "metadata": {},
     "output_type": "execute_result"
    }
   ],
   "source": [
    "grouped_2 = metadata_df.groupby(['slide_name','zoom_ration']).size().reset_index(name='count')\n",
    "grouped_2.columns = ['slide_name','zoom_ration','Number']\n",
    "#print(grouped_2)\n",
    "slides = pd.DataFrame(grouped_2)\n",
    "slides.head()"
   ]
  },
  {
   "cell_type": "code",
   "execution_count": null,
   "id": "e2eed7d8-7d81-4526-b66b-9db30ad4c236",
   "metadata": {
    "id": "e2eed7d8-7d81-4526-b66b-9db30ad4c236"
   },
   "outputs": [],
   "source": []
  },
  {
   "cell_type": "code",
   "execution_count": 208,
   "id": "d913b2b3-07f7-407e-aa2e-c4a2a327c5fe",
   "metadata": {},
   "outputs": [
    {
     "data": {
      "text/html": [
       "<div>\n",
       "<style scoped>\n",
       "    .dataframe tbody tr th:only-of-type {\n",
       "        vertical-align: middle;\n",
       "    }\n",
       "\n",
       "    .dataframe tbody tr th {\n",
       "        vertical-align: top;\n",
       "    }\n",
       "\n",
       "    .dataframe thead th {\n",
       "        text-align: right;\n",
       "    }\n",
       "</style>\n",
       "<table border=\"1\" class=\"dataframe\">\n",
       "  <thead>\n",
       "    <tr style=\"text-align: right;\">\n",
       "      <th></th>\n",
       "      <th>image_id</th>\n",
       "      <th>zoom_ration</th>\n",
       "      <th>category_name</th>\n",
       "      <th>number</th>\n",
       "    </tr>\n",
       "  </thead>\n",
       "  <tbody>\n",
       "    <tr>\n",
       "      <th>0</th>\n",
       "      <td>1</td>\n",
       "      <td>1.0</td>\n",
       "      <td>PF</td>\n",
       "      <td>9</td>\n",
       "    </tr>\n",
       "    <tr>\n",
       "      <th>1</th>\n",
       "      <td>1</td>\n",
       "      <td>1.0</td>\n",
       "      <td>Trophozoite</td>\n",
       "      <td>1</td>\n",
       "    </tr>\n",
       "    <tr>\n",
       "      <th>2</th>\n",
       "      <td>1</td>\n",
       "      <td>1.2</td>\n",
       "      <td>Trophozoite</td>\n",
       "      <td>90</td>\n",
       "    </tr>\n",
       "    <tr>\n",
       "      <th>3</th>\n",
       "      <td>1</td>\n",
       "      <td>1.2</td>\n",
       "      <td>WBC</td>\n",
       "      <td>15</td>\n",
       "    </tr>\n",
       "    <tr>\n",
       "      <th>4</th>\n",
       "      <td>1</td>\n",
       "      <td>1.6</td>\n",
       "      <td>Trophozoite</td>\n",
       "      <td>27</td>\n",
       "    </tr>\n",
       "  </tbody>\n",
       "</table>\n",
       "</div>"
      ],
      "text/plain": [
       "   image_id zoom_ration category_name  number\n",
       "0         1         1.0            PF       9\n",
       "1         1         1.0   Trophozoite       1\n",
       "2         1         1.2   Trophozoite      90\n",
       "3         1         1.2           WBC      15\n",
       "4         1         1.6   Trophozoite      27"
      ]
     },
     "execution_count": 208,
     "metadata": {},
     "output_type": "execute_result"
    }
   ],
   "source": [
    "grouped_annotations = sample_annotations_df.groupby(['image_id','zoom_ration','category_name']).size().reset_index(name='number')\n",
    "#print(grouped_annotations)\n",
    "slides_2 = pd.DataFrame(grouped_annotations)\n",
    "slides_2.head()"
   ]
  },
  {
   "cell_type": "code",
   "execution_count": null,
   "id": "5a43cb9b-bfca-481a-8b2c-d4c95e040ecb",
   "metadata": {},
   "outputs": [],
   "source": []
  },
  {
   "cell_type": "code",
   "execution_count": 230,
   "id": "b3f2bedc-f32d-42b8-b552-796c56efffd8",
   "metadata": {
    "id": "b3f2bedc-f32d-42b8-b552-796c56efffd8"
   },
   "outputs": [
    {
     "data": {
      "text/plain": [
       "image_id\n",
       "12     8\n",
       "31     8\n",
       "102    8\n",
       "26     8\n",
       "91     8\n",
       "Name: count, dtype: int64"
      ]
     },
     "execution_count": 230,
     "metadata": {},
     "output_type": "execute_result"
    }
   ],
   "source": [
    "grouped_annotations = sample_annotations_df.groupby(['image_id','zoom_ration','category_name']).size().reset_index(name='number')\n",
    "#print(grouped_annotations)\n",
    "slides_2 = pd.DataFrame(grouped_annotations)\n",
    "#slides_2.head(26)\n",
    "slides_number = slides_2['image_id'].value_counts()\n",
    "slides_number.head()"
   ]
  },
  {
   "cell_type": "code",
   "execution_count": null,
   "id": "e06252ec-c35c-4bdf-9cba-b031a9a55550",
   "metadata": {},
   "outputs": [],
   "source": []
  },
  {
   "cell_type": "code",
   "execution_count": 278,
   "id": "171742d8-3e32-4682-ace6-5cbb8cb78534",
   "metadata": {},
   "outputs": [
    {
     "data": {
      "text/plain": [
       "slide_name\n",
       "Thin_Slide_ARR_04    15\n",
       "Thin-16-ARRH         11\n",
       "Thick-15-ARRH        11\n",
       "Thin_Slide_ARR_01    11\n",
       "Thin-14-ARRH         11\n",
       "Name: count, dtype: int64"
      ]
     },
     "execution_count": 278,
     "metadata": {},
     "output_type": "execute_result"
    }
   ],
   "source": [
    "grouped_meta = metadata_df.groupby(['zoom_ration','slide_name']).size().reset_index(name='number')\n",
    "#print(grouped_annotations)\n",
    "slides_3 = pd.DataFrame(grouped_meta)\n",
    "#slides_2.head(26)\n",
    "slides_number_3 = slides_3['slide_name'].value_counts()\n",
    "slides_number_3.head()"
   ]
  },
  {
   "cell_type": "code",
   "execution_count": null,
   "id": "d5706a5f-dbfe-4437-82d5-356481aa9fea",
   "metadata": {},
   "outputs": [],
   "source": []
  },
  {
   "cell_type": "code",
   "execution_count": 275,
   "id": "953f569e-41e2-4efa-b64d-969eba352436",
   "metadata": {},
   "outputs": [
    {
     "data": {
      "text/plain": [
       "image_id\n",
       "12     8\n",
       "31     8\n",
       "102    8\n",
       "26     8\n",
       "91     8\n",
       "      ..\n",
       "166    2\n",
       "165    2\n",
       "164    2\n",
       "200    2\n",
       "185    1\n",
       "Name: count, Length: 200, dtype: int64"
      ]
     },
     "execution_count": 275,
     "metadata": {},
     "output_type": "execute_result"
    }
   ],
   "source": [
    "# Number of images\n",
    "category_counts = slides_2['image_id'].value_counts()\n",
    "category_counts"
   ]
  },
  {
   "cell_type": "code",
   "execution_count": null,
   "id": "2d42e021-d9e0-404e-8d56-7f7bde6b8445",
   "metadata": {},
   "outputs": [],
   "source": []
  },
  {
   "cell_type": "code",
   "execution_count": 212,
   "id": "49e1d791-8d82-4627-88c0-ba123511bded",
   "metadata": {},
   "outputs": [
    {
     "data": {
      "image/png": "[encoded data removed]",
      "text/plain": [
       "<Figure size 1000x600 with 1 Axes>"
      ]
     },
     "metadata": {},
     "output_type": "display_data"
    }
   ],
   "source": [
    "import matplotlib.pyplot as plt\n",
    "\n",
    "# Get the count of each category\n",
    "category_counts = slides_2['category_name'].value_counts()\n",
    "\n",
    "# Create a bar plot\n",
    "plt.figure(figsize=(10, 6))\n",
    "plt.bar(category_counts.index, category_counts.values)\n",
    "plt.xlabel('Category Name')\n",
    "plt.ylabel('Count')\n",
    "plt.title('Category Counts')\n",
    "plt.xticks(rotation=90)\n",
    "plt.tight_layout()\n",
    "plt.show()"
   ]
  },
  {
   "cell_type": "code",
   "execution_count": null,
   "id": "05ca6604-e102-44ab-a5ea-14b41a78d6bc",
   "metadata": {},
   "outputs": [],
   "source": []
  },
  {
   "cell_type": "code",
   "execution_count": 213,
   "id": "209708aa-58a9-4548-898e-e0ef535c44cf",
   "metadata": {
    "colab": {
     "base_uri": "https://localhost:8080/"
    },
    "id": "209708aa-58a9-4548-898e-e0ef535c44cf",
    "outputId": "801f70ee-fcd3-436e-f63f-e8d530a0ec2b"
   },
   "outputs": [
    {
     "name": "stdout",
     "output_type": "stream",
     "text": [
      "365\n",
      "1476\n"
     ]
    }
   ],
   "source": [
    "import pandas as pd\n",
    "# Thick and Thin in annotations_df\n",
    "sample_annotations_df['is_thick'] = sample_annotations_df['file_name'].str.contains('THICK', case=False)\n",
    "sample_annotations_df['is_thin'] = sample_annotations_df['file_name'].str.contains('THIN', case=False)\n",
    "annotation_thick = sample_annotations_df['is_thick']\n",
    "annotation_thin = sample_annotations_df['is_thin']\n",
    "\n",
    "thick_annotations = sample_annotations_df[annotation_thick]\n",
    "thick_annotations = thick_annotations.drop('is_thick', axis = 1)\n",
    "thick_annotations = thick_annotations.drop('is_thin', axis = 1)\n",
    "thick_annotations = thick_annotations.drop('category_id', axis = 1)\n",
    "thick_annotations= thick_annotations.drop('category_name', axis = 1)\n",
    "thick_annotations= thick_annotations.groupby(['file_name','image_id']).size().reset_index(name='count')\n",
    "length_thick_annotations = len(thick_annotations)\n",
    "print(length_thick_annotations)\n",
    "\n",
    "thin_annotations = sample_annotations_df[annotation_thin]\n",
    "thin_annotations = thin_annotations.drop('is_thick', axis = 1)\n",
    "thin_annotations = thin_annotations.drop('is_thin', axis = 1)\n",
    "thin_annotations = thin_annotations.drop('category_id', axis = 1)\n",
    "thin_annotations = thin_annotations.drop('category_name', axis = 1)\n",
    "length_thin_annotations = len(thin_annotations)\n",
    "print(length_thin_annotations)"
   ]
  },
  {
   "cell_type": "code",
   "execution_count": null,
   "id": "fdb920be-ebb0-4890-9f5f-3a29aab6ec55",
   "metadata": {
    "id": "fdb920be-ebb0-4890-9f5f-3a29aab6ec55"
   },
   "outputs": [],
   "source": []
  },
  {
   "cell_type": "code",
   "execution_count": 214,
   "id": "cd203655-5c3d-457b-bf67-3e4149e870d8",
   "metadata": {
    "id": "cd203655-5c3d-457b-bf67-3e4149e870d8"
   },
   "outputs": [
    {
     "name": "stdout",
     "output_type": "stream",
     "text": [
      "2661\n",
      "2472\n"
     ]
    }
   ],
   "source": [
    "# Thick and Thin in metadata_df\n",
    "metadata_df['is_thick'] = metadata_df['slide_name'].str.contains('THICK', case=False)\n",
    "metadata_df['is_thin'] = metadata_df['slide_name'].str.contains('THIN', case=False)\n",
    "metadata_thick = metadata_df['is_thick']\n",
    "metadata_thin = metadata_df['is_thin']\n",
    "\n",
    "thick_meta = metadata_df[metadata_thick]\n",
    "thick_meta = thick_meta.drop('is_thick', axis = 1)\n",
    "thick_meta = thick_meta.drop('is_thin', axis = 1)\n",
    "thick_meta = thick_meta.drop('stain', axis = 1)\n",
    "thick_meta = thick_meta.drop('username', axis = 1)\n",
    "thick_meta = thick_meta.groupby(['timestamp','slide_name','zoom_ration']).size().reset_index(name='Number')\n",
    "thick_meta = thick_meta.drop('Number', axis = 1)\n",
    "length_thick_meta = len(thick_meta)\n",
    "print(length_thick_meta)\n",
    "\n",
    "thin_meta = metadata_df[metadata_thin]\n",
    "thin_meta = thin_meta.drop('is_thick', axis = 1)\n",
    "thin_meta = thin_meta.drop('is_thin', axis = 1)\n",
    "thin_meta = thin_meta.drop('stain', axis = 1)\n",
    "thin_meta = thin_meta.drop('username', axis = 1)\n",
    "thin_meta = thin_meta.groupby(['timestamp','slide_name','zoom_ration']).size().reset_index(name='Number')\n",
    "thin_meta = thin_meta.drop('Number', axis = 1)\n",
    "length_thin_meta = len(thin_meta)\n",
    "print(length_thin_meta)"
   ]
  },
  {
   "cell_type": "code",
   "execution_count": null,
   "id": "1437c738-fa75-44e6-97b5-0b4c289c87af",
   "metadata": {
    "id": "1437c738-fa75-44e6-97b5-0b4c289c87af"
   },
   "outputs": [],
   "source": []
  },
  {
   "cell_type": "code",
   "execution_count": 215,
   "id": "ec42b175-2f91-4e71-a2e6-de5f8fc66837",
   "metadata": {
    "id": "ec42b175-2f91-4e71-a2e6-de5f8fc66837"
   },
   "outputs": [],
   "source": [
    "#thick_images_2.to_csv('thick_images_2.csv', index = False)\n",
    "#thin_images_2.to_csv('thin_images_2.csv', index = False)\n",
    "\n",
    "#thick_images_3.to_csv('thick_images_3.csv', index = False)\n",
    "#thin_images_3.to_csv('thin_images_3.csv', index = False)"
   ]
  },
  {
   "cell_type": "code",
   "execution_count": null,
   "id": "43275962-b426-4fcb-9527-3cbc7eeae5be",
   "metadata": {
    "id": "43275962-b426-4fcb-9527-3cbc7eeae5be"
   },
   "outputs": [],
   "source": []
  },
  {
   "cell_type": "code",
   "execution_count": 216,
   "id": "3b24dc61-6cbd-4d13-a04d-93130fb084dd",
   "metadata": {
    "colab": {
     "base_uri": "https://localhost:8080/"
    },
    "id": "3b24dc61-6cbd-4d13-a04d-93130fb084dd",
    "outputId": "ae5cd744-c0bc-47e2-bc4c-5045015855e0"
   },
   "outputs": [
    {
     "data": {
      "text/html": [
       "<div>\n",
       "<style scoped>\n",
       "    .dataframe tbody tr th:only-of-type {\n",
       "        vertical-align: middle;\n",
       "    }\n",
       "\n",
       "    .dataframe tbody tr th {\n",
       "        vertical-align: top;\n",
       "    }\n",
       "\n",
       "    .dataframe thead th {\n",
       "        text-align: right;\n",
       "    }\n",
       "</style>\n",
       "<table border=\"1\" class=\"dataframe\">\n",
       "  <thead>\n",
       "    <tr style=\"text-align: right;\">\n",
       "      <th></th>\n",
       "      <th>Image_ID</th>\n",
       "      <th>Category_name</th>\n",
       "      <th>Number</th>\n",
       "    </tr>\n",
       "  </thead>\n",
       "  <tbody>\n",
       "    <tr>\n",
       "      <th>0</th>\n",
       "      <td>1</td>\n",
       "      <td>Trophozoite</td>\n",
       "      <td>118</td>\n",
       "    </tr>\n",
       "    <tr>\n",
       "      <th>1</th>\n",
       "      <td>2</td>\n",
       "      <td>Trophozoite</td>\n",
       "      <td>98</td>\n",
       "    </tr>\n",
       "    <tr>\n",
       "      <th>2</th>\n",
       "      <td>3</td>\n",
       "      <td>Trophozoite</td>\n",
       "      <td>137</td>\n",
       "    </tr>\n",
       "    <tr>\n",
       "      <th>3</th>\n",
       "      <td>4</td>\n",
       "      <td>Trophozoite</td>\n",
       "      <td>79</td>\n",
       "    </tr>\n",
       "    <tr>\n",
       "      <th>4</th>\n",
       "      <td>5</td>\n",
       "      <td>Trophozoite</td>\n",
       "      <td>122</td>\n",
       "    </tr>\n",
       "  </tbody>\n",
       "</table>\n",
       "</div>"
      ],
      "text/plain": [
       "   Image_ID Category_name  Number\n",
       "0         1   Trophozoite     118\n",
       "1         2   Trophozoite      98\n",
       "2         3   Trophozoite     137\n",
       "3         4   Trophozoite      79\n",
       "4         5   Trophozoite     122"
      ]
     },
     "execution_count": 216,
     "metadata": {},
     "output_type": "execute_result"
    }
   ],
   "source": [
    "import numpy as np\n",
    "trophozoite_annotations = sample_annotations_df[sample_annotations_df['category_id'] == 1]\n",
    "\n",
    "# Create a mapping of category_id to category_name\n",
    "category_mapping = sample_annotations_df.groupby('category_id')['category_name'].first()\n",
    "\n",
    "# Replacing category_id with category_name in the groupby column\n",
    "trophozoite_annotations.loc[:,'category_id'] = trophozoite_annotations['category_id'].map(category_mapping)\n",
    "\n",
    "trophozoite_annotations = trophozoite_annotations.groupby(['image_id','category_id']).size().reset_index(name='Number')\n",
    "trophozoite_annotations.columns = ['Image_ID','Category_name','Number']\n",
    "trophozoite_annotations.head()"
   ]
  },
  {
   "cell_type": "code",
   "execution_count": null,
   "id": "bb32facd-9b3d-413a-b28e-d56ba5e0cbbc",
   "metadata": {
    "id": "bb32facd-9b3d-413a-b28e-d56ba5e0cbbc"
   },
   "outputs": [],
   "source": []
  },
  {
   "cell_type": "code",
   "execution_count": 217,
   "id": "86adc992-3bb9-4e79-98e2-4243a564c839",
   "metadata": {
    "colab": {
     "base_uri": "https://localhost:8080/"
    },
    "id": "86adc992-3bb9-4e79-98e2-4243a564c839",
    "outputId": "4b15869d-7707-44d6-8009-f8c02a07d1d9"
   },
   "outputs": [
    {
     "data": {
      "image/png": "[encoded data removed]",
      "text/plain": [
       "<Figure size 1200x600 with 1 Axes>"
      ]
     },
     "metadata": {},
     "output_type": "display_data"
    }
   ],
   "source": [
    "import seaborn as sns\n",
    "import matplotlib.pyplot as plt\n",
    "\n",
    "sns.set_theme(style=\"whitegrid\")\n",
    "\n",
    "# Range of images \n",
    "image_range = trophozoite_annotations['Image_ID'].unique()[:35]\n",
    "\n",
    "# Filter the data to only include the selected image range\n",
    "filtered_data = trophozoite_annotations[trophozoite_annotations['Image_ID'].isin(image_range)]\n",
    "\n",
    "# Bar plot\n",
    "plt.figure(figsize=(12, 6))\n",
    "sns.barplot(x='Image_ID', y='Number', hue='Category_name', data=filtered_data, palette='viridis')\n",
    "plt.title('Number of Trophozoite for Each Image')\n",
    "plt.xlabel('Image ID')\n",
    "plt.ylabel('Number of Annotations')\n",
    "plt.legend(title='Category Name')\n",
    "plt.xticks(rotation=90)\n",
    "plt.show()"
   ]
  },
  {
   "cell_type": "code",
   "execution_count": null,
   "id": "6ae0ab96-9833-4f72-8d29-aeaae817265d",
   "metadata": {},
   "outputs": [],
   "source": []
  },
  {
   "cell_type": "code",
   "execution_count": 218,
   "id": "db6d7b95-6528-43a1-9416-f8715da7cc72",
   "metadata": {
    "colab": {
     "base_uri": "https://localhost:8080/"
    },
    "id": "db6d7b95-6528-43a1-9416-f8715da7cc72",
    "outputId": "ffa8b757-dccf-42c0-d53e-4fdcecb54ab8"
   },
   "outputs": [
    {
     "data": {
      "text/html": [
       "<div>\n",
       "<style scoped>\n",
       "    .dataframe tbody tr th:only-of-type {\n",
       "        vertical-align: middle;\n",
       "    }\n",
       "\n",
       "    .dataframe tbody tr th {\n",
       "        vertical-align: top;\n",
       "    }\n",
       "\n",
       "    .dataframe thead th {\n",
       "        text-align: right;\n",
       "    }\n",
       "</style>\n",
       "<table border=\"1\" class=\"dataframe\">\n",
       "  <thead>\n",
       "    <tr style=\"text-align: right;\">\n",
       "      <th></th>\n",
       "      <th>Image_ID</th>\n",
       "      <th>Category_name</th>\n",
       "      <th>Number</th>\n",
       "      <th>Slide_Name</th>\n",
       "    </tr>\n",
       "  </thead>\n",
       "  <tbody>\n",
       "    <tr>\n",
       "      <th>0</th>\n",
       "      <td>1</td>\n",
       "      <td>Trophozoite</td>\n",
       "      <td>118</td>\n",
       "      <td>Thick</td>\n",
       "    </tr>\n",
       "    <tr>\n",
       "      <th>1</th>\n",
       "      <td>2</td>\n",
       "      <td>Trophozoite</td>\n",
       "      <td>98</td>\n",
       "      <td>Thick</td>\n",
       "    </tr>\n",
       "    <tr>\n",
       "      <th>2</th>\n",
       "      <td>3</td>\n",
       "      <td>Trophozoite</td>\n",
       "      <td>137</td>\n",
       "      <td>Thick</td>\n",
       "    </tr>\n",
       "    <tr>\n",
       "      <th>3</th>\n",
       "      <td>4</td>\n",
       "      <td>Trophozoite</td>\n",
       "      <td>79</td>\n",
       "      <td>Thick</td>\n",
       "    </tr>\n",
       "    <tr>\n",
       "      <th>4</th>\n",
       "      <td>5</td>\n",
       "      <td>Trophozoite</td>\n",
       "      <td>122</td>\n",
       "      <td>Thick</td>\n",
       "    </tr>\n",
       "  </tbody>\n",
       "</table>\n",
       "</div>"
      ],
      "text/plain": [
       "   Image_ID Category_name  Number Slide_Name\n",
       "0         1   Trophozoite     118      Thick\n",
       "1         2   Trophozoite      98      Thick\n",
       "2         3   Trophozoite     137      Thick\n",
       "3         4   Trophozoite      79      Thick\n",
       "4         5   Trophozoite     122      Thick"
      ]
     },
     "execution_count": 218,
     "metadata": {},
     "output_type": "execute_result"
    }
   ],
   "source": [
    "# For Thick\n",
    "trophozoite_annotations['is_thick'] = metadata_df['slide_name'].str.contains('THICK', case=False)\n",
    "trophozoite_thick = trophozoite_annotations['is_thick']\n",
    "\n",
    "# New column indicating whether the slide is thick or thin\n",
    "trophozoite_annotations.loc[:, 'Slide_Name'] = np.where(trophozoite_thick, 'Thick','Thin')\n",
    "trophozoite_annotations_thick = trophozoite_annotations[trophozoite_thick]\n",
    "trophozoite_annotations_thick = trophozoite_annotations_thick.drop('is_thick', axis = 1)\n",
    "trophozoite_annotations_thick.head()"
   ]
  },
  {
   "cell_type": "code",
   "execution_count": 219,
   "id": "b8ef4137-638f-4605-9de8-f86a9145df65",
   "metadata": {
    "id": "b8ef4137-638f-4605-9de8-f86a9145df65"
   },
   "outputs": [],
   "source": [
    "#trophozoite_annotations_thick.to_csv('trophozoite_annotations_thick.csv', index = False)"
   ]
  },
  {
   "cell_type": "code",
   "execution_count": 220,
   "id": "f312582e-c572-47da-aa0f-20443ed1b7d1",
   "metadata": {
    "id": "f312582e-c572-47da-aa0f-20443ed1b7d1"
   },
   "outputs": [
    {
     "data": {
      "image/png": "[encoded data removed]",
      "text/plain": [
       "<Figure size 1200x600 with 1 Axes>"
      ]
     },
     "metadata": {},
     "output_type": "display_data"
    }
   ],
   "source": [
    "import seaborn as sns\n",
    "import matplotlib.pyplot as plt\n",
    "\n",
    "sns.set_theme(style=\"whitegrid\")\n",
    "\n",
    "# Range of images \n",
    "image_range = trophozoite_annotations_thick['Image_ID'].unique()[:35]\n",
    "\n",
    "# Filter the data to only include the selected image range\n",
    "filtered_data_thick = trophozoite_annotations_thick[trophozoite_annotations_thick['Image_ID'].isin(image_range)]\n",
    "\n",
    "# Bar plot\n",
    "plt.figure(figsize=(12, 6))\n",
    "sns.barplot(x='Image_ID', y='Number', hue='Category_name', data=filtered_data_thick, palette='viridis')\n",
    "plt.title('Number of Trophozoite for Each Thick Image')\n",
    "plt.xlabel('Image ID')\n",
    "plt.ylabel('Number of Annotations')\n",
    "plt.legend(title='Category Name')\n",
    "plt.xticks(rotation=90)\n",
    "plt.show()"
   ]
  },
  {
   "cell_type": "code",
   "execution_count": null,
   "id": "87ef8f47-024a-434c-933e-1e8a2f066e44",
   "metadata": {
    "id": "87ef8f47-024a-434c-933e-1e8a2f066e44"
   },
   "outputs": [],
   "source": []
  },
  {
   "cell_type": "code",
   "execution_count": 221,
   "id": "01e2ceca-a682-4961-bda2-a85d47c60510",
   "metadata": {
    "colab": {
     "base_uri": "https://localhost:8080/"
    },
    "id": "01e2ceca-a682-4961-bda2-a85d47c60510",
    "outputId": "9b290abf-2c6b-44a3-d0dc-99ffc3417c64"
   },
   "outputs": [
    {
     "data": {
      "text/html": [
       "<div>\n",
       "<style scoped>\n",
       "    .dataframe tbody tr th:only-of-type {\n",
       "        vertical-align: middle;\n",
       "    }\n",
       "\n",
       "    .dataframe tbody tr th {\n",
       "        vertical-align: top;\n",
       "    }\n",
       "\n",
       "    .dataframe thead th {\n",
       "        text-align: right;\n",
       "    }\n",
       "</style>\n",
       "<table border=\"1\" class=\"dataframe\">\n",
       "  <thead>\n",
       "    <tr style=\"text-align: right;\">\n",
       "      <th></th>\n",
       "      <th>Image_ID</th>\n",
       "      <th>Category_name</th>\n",
       "      <th>Number</th>\n",
       "      <th>Slide_Name</th>\n",
       "    </tr>\n",
       "  </thead>\n",
       "  <tbody>\n",
       "    <tr>\n",
       "      <th>17</th>\n",
       "      <td>18</td>\n",
       "      <td>Trophozoite</td>\n",
       "      <td>65</td>\n",
       "      <td>Thin</td>\n",
       "    </tr>\n",
       "    <tr>\n",
       "      <th>18</th>\n",
       "      <td>19</td>\n",
       "      <td>Trophozoite</td>\n",
       "      <td>76</td>\n",
       "      <td>Thin</td>\n",
       "    </tr>\n",
       "    <tr>\n",
       "      <th>19</th>\n",
       "      <td>20</td>\n",
       "      <td>Trophozoite</td>\n",
       "      <td>71</td>\n",
       "      <td>Thin</td>\n",
       "    </tr>\n",
       "    <tr>\n",
       "      <th>20</th>\n",
       "      <td>21</td>\n",
       "      <td>Trophozoite</td>\n",
       "      <td>76</td>\n",
       "      <td>Thin</td>\n",
       "    </tr>\n",
       "    <tr>\n",
       "      <th>21</th>\n",
       "      <td>22</td>\n",
       "      <td>Trophozoite</td>\n",
       "      <td>68</td>\n",
       "      <td>Thin</td>\n",
       "    </tr>\n",
       "  </tbody>\n",
       "</table>\n",
       "</div>"
      ],
      "text/plain": [
       "    Image_ID Category_name  Number Slide_Name\n",
       "17        18   Trophozoite      65       Thin\n",
       "18        19   Trophozoite      76       Thin\n",
       "19        20   Trophozoite      71       Thin\n",
       "20        21   Trophozoite      76       Thin\n",
       "21        22   Trophozoite      68       Thin"
      ]
     },
     "execution_count": 221,
     "metadata": {},
     "output_type": "execute_result"
    }
   ],
   "source": [
    "# For Thin\n",
    "trophozoite_annotations['is_thin'] = metadata_df['slide_name'].str.contains('THIN', case=False)\n",
    "trophozoite_thin = trophozoite_annotations['is_thin']\n",
    "# For Zoomratio\n",
    "#trophozoite_annotations['zoom_ration'] = metadata_df['zoom_ration']\n",
    "\n",
    "# New column indicating whether the slide is thick or thin\n",
    "trophozoite_annotations.loc[:, 'Slide_Name'] = np.where(trophozoite_thin, 'Thin','Thick')\n",
    "trophozoite_annotations_thin = trophozoite_annotations[trophozoite_thin]\n",
    "trophozoite_annotations_thin = trophozoite_annotations_thin.drop('is_thin', axis = 1)\n",
    "trophozoite_annotations_thin = trophozoite_annotations_thin.drop('is_thick', axis = 1)\n",
    "trophozoite_annotations_thin.head()\n",
    "#trophozoite_annotations_thin.info()"
   ]
  },
  {
   "cell_type": "code",
   "execution_count": 222,
   "id": "9c302d98-6623-4552-9f10-d70583185dcd",
   "metadata": {
    "id": "9c302d98-6623-4552-9f10-d70583185dcd"
   },
   "outputs": [
    {
     "data": {
      "image/png": "[encoded data removed]",
      "text/plain": [
       "<Figure size 1200x600 with 1 Axes>"
      ]
     },
     "metadata": {},
     "output_type": "display_data"
    }
   ],
   "source": [
    "import seaborn as sns\n",
    "import matplotlib.pyplot as plt\n",
    "\n",
    "sns.set_theme(style=\"whitegrid\")\n",
    "\n",
    "# Range of images \n",
    "image_range = trophozoite_annotations_thin['Image_ID'].unique()[:40]\n",
    "\n",
    "# Filter the data to only include the selected image range\n",
    "filtered_data_thin = trophozoite_annotations_thin[trophozoite_annotations_thin['Image_ID'].isin(image_range)]\n",
    "#annotation_range = filtered_data_thin['Number'].min(), filtered_data_thin['Number'].max()\n",
    "#annotation_range = (0,45)\n",
    "\n",
    "# Bar plot\n",
    "plt.figure(figsize=(12, 6))\n",
    "sns.barplot(x='Image_ID', y='Number', hue='Category_name', data=filtered_data_thin, palette='viridis')\n",
    "plt.title('Number of Trophozoite for Each Thin Image')\n",
    "plt.xlabel('Image ID')\n",
    "plt.ylabel('Number of Annotations')\n",
    "plt.legend(title='Category Name')\n",
    "plt.xticks(rotation=90)\n",
    "plt.show()"
   ]
  },
  {
   "cell_type": "code",
   "execution_count": null,
   "id": "22Ujc2P0a4CV",
   "metadata": {
    "id": "22Ujc2P0a4CV"
   },
   "outputs": [],
   "source": []
  },
  {
   "cell_type": "code",
   "execution_count": 224,
   "id": "s1D-kqpda3vg",
   "metadata": {
    "colab": {
     "base_uri": "https://localhost:8080/"
    },
    "id": "s1D-kqpda3vg",
    "outputId": "73c2d4e2-2c6c-4c5c-ba28-6e8cadbd38ea"
   },
   "outputs": [
    {
     "data": {
      "text/html": [
       "<div>\n",
       "<style scoped>\n",
       "    .dataframe tbody tr th:only-of-type {\n",
       "        vertical-align: middle;\n",
       "    }\n",
       "\n",
       "    .dataframe tbody tr th {\n",
       "        vertical-align: top;\n",
       "    }\n",
       "\n",
       "    .dataframe thead th {\n",
       "        text-align: right;\n",
       "    }\n",
       "</style>\n",
       "<table border=\"1\" class=\"dataframe\">\n",
       "  <thead>\n",
       "    <tr style=\"text-align: right;\">\n",
       "      <th></th>\n",
       "      <th>Image_ID</th>\n",
       "      <th>Number</th>\n",
       "      <th>Category_name</th>\n",
       "    </tr>\n",
       "  </thead>\n",
       "  <tbody>\n",
       "    <tr>\n",
       "      <th>0</th>\n",
       "      <td>144</td>\n",
       "      <td>1</td>\n",
       "      <td>Schizont</td>\n",
       "    </tr>\n",
       "  </tbody>\n",
       "</table>\n",
       "</div>"
      ],
      "text/plain": [
       "   Image_ID  Number Category_name\n",
       "0       144       1      Schizont"
      ]
     },
     "execution_count": 224,
     "metadata": {},
     "output_type": "execute_result"
    }
   ],
   "source": [
    "schizont_annotations = sample_annotations_df[annotations_df['category_id'] == 2]\n",
    "\n",
    "schizont_annotations = schizont_annotations.groupby(['image_id']).size().reset_index(name='Number')\n",
    "schizont_annotations['category_id'] = 2\n",
    "\n",
    "category_mapping = sample_annotations_df[['category_id', 'category_name']].drop_duplicates()\n",
    "schizont_annotations.loc[:,'category_id'] = schizont_annotations['category_id'].replace(category_mapping.set_index('category_id')['category_name'])\n",
    "schizont_annotations.columns = ['Image_ID','Number','Category_name']\n",
    "schizont_annotations.head()"
   ]
  },
  {
   "cell_type": "code",
   "execution_count": null,
   "id": "957960e1-06e6-46e9-bdff-943be8cd97b8",
   "metadata": {
    "id": "957960e1-06e6-46e9-bdff-943be8cd97b8"
   },
   "outputs": [],
   "source": []
  },
  {
   "cell_type": "code",
   "execution_count": 273,
   "id": "4bb9cf78-ea9f-4dd2-8332-a10afe89a5b3",
   "metadata": {
    "colab": {
     "base_uri": "https://localhost:8080/"
    },
    "id": "4bb9cf78-ea9f-4dd2-8332-a10afe89a5b3",
    "outputId": "50f4e313-626c-4892-d4b0-455885c27cb1"
   },
   "outputs": [
    {
     "data": {
      "text/html": [
       "<div>\n",
       "<style scoped>\n",
       "    .dataframe tbody tr th:only-of-type {\n",
       "        vertical-align: middle;\n",
       "    }\n",
       "\n",
       "    .dataframe tbody tr th {\n",
       "        vertical-align: top;\n",
       "    }\n",
       "\n",
       "    .dataframe thead th {\n",
       "        text-align: right;\n",
       "    }\n",
       "</style>\n",
       "<table border=\"1\" class=\"dataframe\">\n",
       "  <thead>\n",
       "    <tr style=\"text-align: right;\">\n",
       "      <th></th>\n",
       "      <th>Image_ID</th>\n",
       "      <th>Number</th>\n",
       "      <th>Category_name</th>\n",
       "    </tr>\n",
       "  </thead>\n",
       "  <tbody>\n",
       "    <tr>\n",
       "      <th>0</th>\n",
       "      <td>30</td>\n",
       "      <td>1</td>\n",
       "      <td>Gametocyte</td>\n",
       "    </tr>\n",
       "    <tr>\n",
       "      <th>1</th>\n",
       "      <td>102</td>\n",
       "      <td>1</td>\n",
       "      <td>Gametocyte</td>\n",
       "    </tr>\n",
       "  </tbody>\n",
       "</table>\n",
       "</div>"
      ],
      "text/plain": [
       "   Image_ID  Number Category_name\n",
       "0        30       1    Gametocyte\n",
       "1       102       1    Gametocyte"
      ]
     },
     "execution_count": 273,
     "metadata": {},
     "output_type": "execute_result"
    }
   ],
   "source": [
    "gametocyte_annotations = sample_annotations_df[sample_annotations_df['category_id'] == 3]\n",
    "\n",
    "gametocyte_annotations = gametocyte_annotations.groupby(['image_id']).size().reset_index(name='Number')\n",
    "gametocyte_annotations['category_id'] = 3\n",
    "\n",
    "category_mapping = sample_annotations_df[['category_id', 'category_name']].drop_duplicates()\n",
    "gametocyte_annotations.loc[:,'category_id'] = gametocyte_annotations['category_id'].replace(category_mapping.set_index('category_id')['category_name'])\n",
    "gametocyte_annotations.columns = ['Image_ID','Number','Category_name']\n",
    "gametocyte_annotations"
   ]
  },
  {
   "cell_type": "code",
   "execution_count": null,
   "id": "ffc1f014-df96-4ec7-9d15-09fd167c8728",
   "metadata": {
    "id": "ffc1f014-df96-4ec7-9d15-09fd167c8728"
   },
   "outputs": [],
   "source": []
  },
  {
   "cell_type": "code",
   "execution_count": 271,
   "id": "508a8976-990e-4c7d-940a-fecfd7dc128c",
   "metadata": {
    "colab": {
     "base_uri": "https://localhost:8080/"
    },
    "id": "508a8976-990e-4c7d-940a-fecfd7dc128c",
    "outputId": "f2698721-bbbf-4c77-8ba0-ea52b9f24226"
   },
   "outputs": [
    {
     "data": {
      "text/html": [
       "<div>\n",
       "<style scoped>\n",
       "    .dataframe tbody tr th:only-of-type {\n",
       "        vertical-align: middle;\n",
       "    }\n",
       "\n",
       "    .dataframe tbody tr th {\n",
       "        vertical-align: top;\n",
       "    }\n",
       "\n",
       "    .dataframe thead th {\n",
       "        text-align: right;\n",
       "    }\n",
       "</style>\n",
       "<table border=\"1\" class=\"dataframe\">\n",
       "  <thead>\n",
       "    <tr style=\"text-align: right;\">\n",
       "      <th></th>\n",
       "      <th>image_id</th>\n",
       "      <th>category_id</th>\n",
       "      <th>count</th>\n",
       "    </tr>\n",
       "  </thead>\n",
       "  <tbody>\n",
       "    <tr>\n",
       "      <th>0</th>\n",
       "      <td>1</td>\n",
       "      <td>4</td>\n",
       "      <td>37</td>\n",
       "    </tr>\n",
       "    <tr>\n",
       "      <th>1</th>\n",
       "      <td>2</td>\n",
       "      <td>4</td>\n",
       "      <td>49</td>\n",
       "    </tr>\n",
       "    <tr>\n",
       "      <th>2</th>\n",
       "      <td>3</td>\n",
       "      <td>4</td>\n",
       "      <td>42</td>\n",
       "    </tr>\n",
       "    <tr>\n",
       "      <th>3</th>\n",
       "      <td>4</td>\n",
       "      <td>4</td>\n",
       "      <td>35</td>\n",
       "    </tr>\n",
       "    <tr>\n",
       "      <th>4</th>\n",
       "      <td>5</td>\n",
       "      <td>4</td>\n",
       "      <td>38</td>\n",
       "    </tr>\n",
       "  </tbody>\n",
       "</table>\n",
       "</div>"
      ],
      "text/plain": [
       "   image_id  category_id  count\n",
       "0         1            4     37\n",
       "1         2            4     49\n",
       "2         3            4     42\n",
       "3         4            4     35\n",
       "4         5            4     38"
      ]
     },
     "execution_count": 271,
     "metadata": {},
     "output_type": "execute_result"
    }
   ],
   "source": [
    "wbc_annotations = sample_annotations_df[sample_annotations_df['category_id'] == 4]\n",
    "wbc_annotations = wbc_annotations.drop('is_thick', axis = 1)\n",
    "wbc_annotations = wbc_annotations.drop('is_thin', axis = 1)\n",
    "wbc_annotations = wbc_annotations.groupby(['image_id','category_id']).size().reset_index(name='count')\n",
    "\n",
    "wbc_annotations.head()"
   ]
  },
  {
   "cell_type": "code",
   "execution_count": null,
   "id": "c99dd685-8abf-4b82-aefc-db8f8aadbdef",
   "metadata": {
    "id": "c99dd685-8abf-4b82-aefc-db8f8aadbdef"
   },
   "outputs": [],
   "source": []
  },
  {
   "cell_type": "code",
   "execution_count": 272,
   "id": "236e0718-3537-4a25-b27d-8d5492dfdc5f",
   "metadata": {
    "colab": {
     "base_uri": "https://localhost:8080/"
    },
    "id": "236e0718-3537-4a25-b27d-8d5492dfdc5f",
    "outputId": "a22032f4-a012-46eb-f3e9-acf4841d0516"
   },
   "outputs": [
    {
     "data": {
      "text/html": [
       "<div>\n",
       "<style scoped>\n",
       "    .dataframe tbody tr th:only-of-type {\n",
       "        vertical-align: middle;\n",
       "    }\n",
       "\n",
       "    .dataframe tbody tr th {\n",
       "        vertical-align: top;\n",
       "    }\n",
       "\n",
       "    .dataframe thead th {\n",
       "        text-align: right;\n",
       "    }\n",
       "</style>\n",
       "<table border=\"1\" class=\"dataframe\">\n",
       "  <thead>\n",
       "    <tr style=\"text-align: right;\">\n",
       "      <th></th>\n",
       "      <th>image_id</th>\n",
       "      <th>category_id</th>\n",
       "      <th>count</th>\n",
       "    </tr>\n",
       "  </thead>\n",
       "  <tbody>\n",
       "    <tr>\n",
       "      <th>0</th>\n",
       "      <td>1</td>\n",
       "      <td>5</td>\n",
       "      <td>10</td>\n",
       "    </tr>\n",
       "    <tr>\n",
       "      <th>1</th>\n",
       "      <td>2</td>\n",
       "      <td>5</td>\n",
       "      <td>13</td>\n",
       "    </tr>\n",
       "    <tr>\n",
       "      <th>2</th>\n",
       "      <td>3</td>\n",
       "      <td>5</td>\n",
       "      <td>10</td>\n",
       "    </tr>\n",
       "    <tr>\n",
       "      <th>3</th>\n",
       "      <td>4</td>\n",
       "      <td>5</td>\n",
       "      <td>15</td>\n",
       "    </tr>\n",
       "    <tr>\n",
       "      <th>4</th>\n",
       "      <td>5</td>\n",
       "      <td>5</td>\n",
       "      <td>26</td>\n",
       "    </tr>\n",
       "  </tbody>\n",
       "</table>\n",
       "</div>"
      ],
      "text/plain": [
       "   image_id  category_id  count\n",
       "0         1            5     10\n",
       "1         2            5     13\n",
       "2         3            5     10\n",
       "3         4            5     15\n",
       "4         5            5     26"
      ]
     },
     "execution_count": 272,
     "metadata": {},
     "output_type": "execute_result"
    }
   ],
   "source": [
    "pf_annotations = sample_annotations_df[sample_annotations_df['category_id'] == 5]\n",
    "pf_annotations = pf_annotations.drop('is_thick', axis = 1)\n",
    "pf_annotations = pf_annotations.drop('is_thin', axis = 1)\n",
    "pf_annotations = pf_annotations.groupby(['image_id','category_id']).size().reset_index(name='count')\n",
    "pf_annotations.head()"
   ]
  },
  {
   "cell_type": "code",
   "execution_count": null,
   "id": "sB3HxObjfEgC",
   "metadata": {
    "id": "sB3HxObjfEgC"
   },
   "outputs": [],
   "source": []
  }
 ],
 "metadata": {
  "colab": {
   "provenance": []
  },
  "kernelspec": {
   "display_name": "Python 3 (ipykernel)",
   "language": "python",
   "name": "python3"
  },
  "language_info": {
   "codemirror_mode": {
    "name": "ipython",
    "version": 3
   },
   "file_extension": ".py",
   "mimetype": "text/x-python",
   "name": "python",
   "nbconvert_exporter": "python",
   "pygments_lexer": "ipython3",
   "version": "3.11.7"
  }
 },
 "nbformat": 4,
 "nbformat_minor": 5
}

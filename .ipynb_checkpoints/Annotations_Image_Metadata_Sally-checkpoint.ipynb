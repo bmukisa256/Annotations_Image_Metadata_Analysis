{
 "cells": [
  {
   "cell_type": "code",
   "execution_count": 368,
   "id": "4c5d1d09-ce28-4ff3-8f76-f8df0a6af3f1",
   "metadata": {},
   "outputs": [],
   "source": [
    "import os\n",
    "import json\n",
    "import re\n",
    "import pandas as pd\n",
    "\n",
    "# Annotations and Metadata\n",
    "def load_json_files(folder_path):\n",
    "    data = []\n",
    "    for file_name in os.listdir(folder_path):\n",
    "        if file_name.endswith('.json'):\n",
    "            with open(os.path.join(folder_path, file_name), 'r') as f:\n",
    "                data.append(json.load(f))\n",
    "    return data\n",
    "\n",
    "# Folders\n",
    "annotations_folder = r\"B:\\annotations\\sample\\coco\\annotations_06\"\n",
    "metadata_folder = r\"B:\\annotations\\sample\\ocular-json\"\n",
    "\n",
    "# Load all annotations and metadata\n",
    "annotations = load_json_files(annotations_folder)\n",
    "metadata = load_json_files(metadata_folder)"
   ]
  },
  {
   "cell_type": "code",
   "execution_count": null,
   "id": "5bcfa71c-fca9-4bdc-999f-94f1050a8242",
   "metadata": {},
   "outputs": [],
   "source": []
  },
  {
   "cell_type": "code",
   "execution_count": 369,
   "id": "5ed0d309-a62b-499a-a9e1-5c574c448510",
   "metadata": {},
   "outputs": [],
   "source": [
    "# Extract timestamp from file name or file path\n",
    "def extract_timestamp(file_path):\n",
    "    match = re.search(r'Ocular_(\\d{4}-\\d{2}-\\d{2}_\\d{2}_\\d{2}_\\d{2})', file_path)\n",
    "    return match.group(1) if match else None\n",
    "\n",
    "metadata_list = []\n",
    "for meta in metadata:\n",
    "    if isinstance(meta, dict):\n",
    "        # Processing each key-value pair in the dictionary\n",
    "        timestamp = extract_timestamp(meta.get('file_path', None))\n",
    "        if timestamp:\n",
    "            metadata_list.append({\n",
    "                'timestamp': timestamp,\n",
    "                'zoom_ration': meta.get('zoom_ration', None),\n",
    "                'slide_name': meta.get('slide_name', None),\n",
    "                'username': meta.get('username', None),\n",
    "                'stain': meta.get('stain', None)\n",
    "            })\n",
    "        else:\n",
    "            print('No timestamp found')\n",
    "\n",
    "metadata_df = pd.DataFrame(metadata_list)"
   ]
  },
  {
   "cell_type": "code",
   "execution_count": null,
   "id": "35520627-bcb3-4613-9315-495bae8bba6a",
   "metadata": {},
   "outputs": [],
   "source": []
  },
  {
   "cell_type": "code",
   "execution_count": 370,
   "id": "a1606fa8-835d-41a5-9759-992a9dbc17d8",
   "metadata": {},
   "outputs": [],
   "source": [
    "import pandas as pd\n",
    "\n",
    "# Based on the timestamp pattern in the file paths match annotations to metadata\n",
    "annotation_list = []\n",
    "for annotation_file in annotations:\n",
    "    for image in annotation_file['images']:\n",
    "        file_name = image['file_name']\n",
    "        image_id = image['id']\n",
    "        timestamp = extract_timestamp(file_name)\n",
    "        if timestamp:\n",
    "            matching_metadata = metadata_df[metadata_df['timestamp'] == timestamp]\n",
    "            if not matching_metadata.empty:\n",
    "                for annotation in annotation_file['annotations']:\n",
    "                    if annotation['image_id'] == image['id']:\n",
    "                        for category in annotation_file['categories']:\n",
    "                            category_name = category['name']\n",
    "                            category_id = category['id']\n",
    "                            if annotation['category_id'] == category_id:\n",
    "                             for _, row in matching_metadata.iterrows():\n",
    "                                annotation_list.append({\n",
    "                                'file_name': file_name,\n",
    "                                'category_id': annotation['category_id'],\n",
    "                                'category_name':category_name,\n",
    "                                'image_id': image_id,\n",
    "                                'zoom_ration': row['zoom_ration']\n",
    "                                })\n",
    "\n",
    "\n",
    "sally_annotations_df = pd.DataFrame(annotation_list)"
   ]
  },
  {
   "cell_type": "code",
   "execution_count": 392,
   "id": "e2d2fc44-3651-4c6e-997b-65bcfc692983",
   "metadata": {},
   "outputs": [],
   "source": [
    "#sally_annotations_df.to_csv('sally_annotations_df.csv', sep=',', header=True, index=False, na_rep='NA', float_format='%.2f')"
   ]
  },
  {
   "cell_type": "code",
   "execution_count": null,
   "id": "878c3238-cd92-4cfe-93b1-a1def5ce44e3",
   "metadata": {},
   "outputs": [],
   "source": []
  },
  {
   "cell_type": "code",
   "execution_count": 391,
   "id": "c5b34f1e-5050-492c-90c7-9478ad06ef0f",
   "metadata": {},
   "outputs": [
    {
     "data": {
      "text/html": [
       "<div>\n",
       "<style scoped>\n",
       "    .dataframe tbody tr th:only-of-type {\n",
       "        vertical-align: middle;\n",
       "    }\n",
       "\n",
       "    .dataframe tbody tr th {\n",
       "        vertical-align: top;\n",
       "    }\n",
       "\n",
       "    .dataframe thead th {\n",
       "        text-align: right;\n",
       "    }\n",
       "</style>\n",
       "<table border=\"1\" class=\"dataframe\">\n",
       "  <thead>\n",
       "    <tr style=\"text-align: right;\">\n",
       "      <th></th>\n",
       "      <th>slide_name</th>\n",
       "      <th>zoom_ration</th>\n",
       "      <th>Number</th>\n",
       "    </tr>\n",
       "  </thead>\n",
       "  <tbody>\n",
       "    <tr>\n",
       "      <th>0</th>\n",
       "      <td>1</td>\n",
       "      <td>1.6</td>\n",
       "      <td>1</td>\n",
       "    </tr>\n",
       "    <tr>\n",
       "      <th>1</th>\n",
       "      <td>126_f_eu</td>\n",
       "      <td>1.0</td>\n",
       "      <td>20</td>\n",
       "    </tr>\n",
       "    <tr>\n",
       "      <th>2</th>\n",
       "      <td>1487</td>\n",
       "      <td>1.0</td>\n",
       "      <td>1</td>\n",
       "    </tr>\n",
       "    <tr>\n",
       "      <th>3</th>\n",
       "      <td>2</td>\n",
       "      <td>1.2</td>\n",
       "      <td>1</td>\n",
       "    </tr>\n",
       "    <tr>\n",
       "      <th>4</th>\n",
       "      <td>DSI AYE 013-G-NU</td>\n",
       "      <td>2.8</td>\n",
       "      <td>1</td>\n",
       "    </tr>\n",
       "  </tbody>\n",
       "</table>\n",
       "</div>"
      ],
      "text/plain": [
       "         slide_name zoom_ration  Number\n",
       "0                 1         1.6       1\n",
       "1          126_f_eu         1.0      20\n",
       "2              1487         1.0       1\n",
       "3                 2         1.2       1\n",
       "4  DSI AYE 013-G-NU         2.8       1"
      ]
     },
     "execution_count": 391,
     "metadata": {},
     "output_type": "execute_result"
    }
   ],
   "source": [
    "grouped_2 = metadata_df.groupby(['slide_name','zoom_ration']).size().reset_index(name='count')\n",
    "grouped_2.columns = ['slide_name','zoom_ration','Number']\n",
    "#print(grouped_2)\n",
    "slides = pd.DataFrame(grouped_2)\n",
    "slides.head()"
   ]
  },
  {
   "cell_type": "code",
   "execution_count": null,
   "id": "32490746-66a5-4575-aa64-c6e7390f7ed7",
   "metadata": {},
   "outputs": [],
   "source": []
  },
  {
   "cell_type": "code",
   "execution_count": 373,
   "id": "28d524e1-a275-4295-8d2e-51426cfa5626",
   "metadata": {},
   "outputs": [
    {
     "data": {
      "text/html": [
       "<div>\n",
       "<style scoped>\n",
       "    .dataframe tbody tr th:only-of-type {\n",
       "        vertical-align: middle;\n",
       "    }\n",
       "\n",
       "    .dataframe tbody tr th {\n",
       "        vertical-align: top;\n",
       "    }\n",
       "\n",
       "    .dataframe thead th {\n",
       "        text-align: right;\n",
       "    }\n",
       "</style>\n",
       "<table border=\"1\" class=\"dataframe\">\n",
       "  <thead>\n",
       "    <tr style=\"text-align: right;\">\n",
       "      <th></th>\n",
       "      <th>image_id</th>\n",
       "      <th>zoom_ration</th>\n",
       "      <th>category_name</th>\n",
       "      <th>number</th>\n",
       "    </tr>\n",
       "  </thead>\n",
       "  <tbody>\n",
       "    <tr>\n",
       "      <th>0</th>\n",
       "      <td>1</td>\n",
       "      <td>1.0</td>\n",
       "      <td>Trophozoite</td>\n",
       "      <td>14</td>\n",
       "    </tr>\n",
       "    <tr>\n",
       "      <th>1</th>\n",
       "      <td>1</td>\n",
       "      <td>1.0</td>\n",
       "      <td>WBC</td>\n",
       "      <td>2</td>\n",
       "    </tr>\n",
       "    <tr>\n",
       "      <th>2</th>\n",
       "      <td>1</td>\n",
       "      <td>1.4</td>\n",
       "      <td>PF</td>\n",
       "      <td>5</td>\n",
       "    </tr>\n",
       "    <tr>\n",
       "      <th>3</th>\n",
       "      <td>1</td>\n",
       "      <td>1.6</td>\n",
       "      <td>Trophozoite</td>\n",
       "      <td>114</td>\n",
       "    </tr>\n",
       "    <tr>\n",
       "      <th>4</th>\n",
       "      <td>1</td>\n",
       "      <td>1.6</td>\n",
       "      <td>WBC</td>\n",
       "      <td>10</td>\n",
       "    </tr>\n",
       "  </tbody>\n",
       "</table>\n",
       "</div>"
      ],
      "text/plain": [
       "   image_id zoom_ration category_name  number\n",
       "0         1         1.0   Trophozoite      14\n",
       "1         1         1.0           WBC       2\n",
       "2         1         1.4            PF       5\n",
       "3         1         1.6   Trophozoite     114\n",
       "4         1         1.6           WBC      10"
      ]
     },
     "execution_count": 373,
     "metadata": {},
     "output_type": "execute_result"
    }
   ],
   "source": [
    "grouped_annotations = sally_annotations_df.groupby(['image_id','zoom_ration','category_name']).size().reset_index(name='number')\n",
    "#print(grouped_annotations)\n",
    "slides_2 = pd.DataFrame(grouped_annotations)\n",
    "slides_2.head()"
   ]
  },
  {
   "cell_type": "code",
   "execution_count": null,
   "id": "9be2b3a6-9d7c-491c-9e1f-b2e3d3e9463d",
   "metadata": {},
   "outputs": [],
   "source": []
  },
  {
   "cell_type": "code",
   "execution_count": 374,
   "id": "4e7550d4-63db-46f1-a941-e0216f00373c",
   "metadata": {},
   "outputs": [
    {
     "data": {
      "text/plain": [
       "image_id\n",
       "54     11\n",
       "44     11\n",
       "104    10\n",
       "49     10\n",
       "123    10\n",
       "Name: count, dtype: int64"
      ]
     },
     "execution_count": 374,
     "metadata": {},
     "output_type": "execute_result"
    }
   ],
   "source": [
    "grouped_annotations = sally_annotations_df.groupby(['image_id','zoom_ration','category_name']).size().reset_index(name='number')\n",
    "#print(grouped_annotations)\n",
    "slides_2 = pd.DataFrame(grouped_annotations)\n",
    "#slides_2.head(26)\n",
    "slides_number = slides_2['image_id'].value_counts()\n",
    "slides_number.head()"
   ]
  },
  {
   "cell_type": "code",
   "execution_count": null,
   "id": "7987bd1a-4b7c-484d-8a51-af1aa99e88a8",
   "metadata": {},
   "outputs": [],
   "source": []
  },
  {
   "cell_type": "code",
   "execution_count": 395,
   "id": "3c845074-4803-4cac-ac42-1835bbbab59c",
   "metadata": {},
   "outputs": [
    {
     "data": {
      "text/plain": [
       "category_name\n",
       "Trophozoite    417\n",
       "WBC            362\n",
       "PF             261\n",
       "Artifact        66\n",
       "Gametocyte      56\n",
       "PV              31\n",
       "PM              24\n",
       "Schizont        13\n",
       "PO               7\n",
       "Name: count, dtype: int64"
      ]
     },
     "execution_count": 395,
     "metadata": {},
     "output_type": "execute_result"
    }
   ],
   "source": [
    "# Get the count of each category\n",
    "category_counts = slides_2['category_name'].value_counts()\n",
    "category_counts"
   ]
  },
  {
   "cell_type": "code",
   "execution_count": null,
   "id": "bb57e1dd-4867-459b-856b-23ff19a94317",
   "metadata": {},
   "outputs": [],
   "source": []
  },
  {
   "cell_type": "code",
   "execution_count": 376,
   "id": "2ee68de0-59c4-4e55-b1de-cfdbfa78e065",
   "metadata": {},
   "outputs": [
    {
     "data": {
      "image/png": "[encoded data removed]",
      "text/plain": [
       "<Figure size 1000x600 with 1 Axes>"
      ]
     },
     "metadata": {},
     "output_type": "display_data"
    }
   ],
   "source": [
    "import matplotlib.pyplot as plt\n",
    "\n",
    "# Get the count of each category\n",
    "category_counts = slides_2['category_name'].value_counts()\n",
    "\n",
    "# Create a bar plot\n",
    "plt.figure(figsize=(10, 6))\n",
    "plt.bar(category_counts.index, category_counts.values)\n",
    "plt.xlabel('Category Name')\n",
    "plt.ylabel('Count')\n",
    "plt.title('Category Counts')\n",
    "plt.xticks(rotation=90)\n",
    "plt.tight_layout()\n",
    "plt.show()"
   ]
  },
  {
   "cell_type": "code",
   "execution_count": null,
   "id": "e7361494-f2d6-4b68-b407-e8768082e7c0",
   "metadata": {},
   "outputs": [],
   "source": []
  },
  {
   "cell_type": "code",
   "execution_count": 377,
   "id": "47f729e0-7507-4882-a666-d01d30f90ba3",
   "metadata": {},
   "outputs": [
    {
     "name": "stdout",
     "output_type": "stream",
     "text": [
      "262\n",
      "4513\n"
     ]
    }
   ],
   "source": [
    "import pandas as pd\n",
    "# Thick and Thin in annotations_df\n",
    "sally_annotations_df['is_thick'] = sally_annotations_df['file_name'].str.contains('THICK', case=False)\n",
    "sally_annotations_df['is_thin'] = sally_annotations_df['file_name'].str.contains('THIN', case=False)\n",
    "annotation_thick = annotations_df['is_thick']\n",
    "annotation_thin = annotations_df['is_thin']\n",
    "\n",
    "thick_annotations = sally_annotations_df[annotation_thick]\n",
    "thick_annotations = thick_annotations.drop('is_thick', axis = 1)\n",
    "thick_annotations = thick_annotations.drop('is_thin', axis = 1)\n",
    "thick_annotations = thick_annotations.drop('category_id', axis = 1)\n",
    "thick_annotations= thick_annotations.drop('category_name', axis = 1)\n",
    "thick_annotations= thick_annotations.groupby(['file_name','image_id']).size().reset_index(name='count')\n",
    "length_thick_annotations = len(thick_annotations)\n",
    "print(length_thick_annotations)\n",
    "\n",
    "thin_annotations = sally_annotations_df[annotation_thin]\n",
    "thin_annotations = thin_annotations.drop('is_thick', axis = 1)\n",
    "thin_annotations = thin_annotations.drop('is_thin', axis = 1)\n",
    "thin_annotations = thin_annotations.drop('category_id', axis = 1)\n",
    "thin_annotations = thin_annotations.drop('category_name', axis = 1)\n",
    "length_thin_annotations = len(thin_annotations)\n",
    "print(length_thin_annotations)"
   ]
  },
  {
   "cell_type": "code",
   "execution_count": null,
   "id": "3f58314c-2b10-4704-82cf-addd51e304f3",
   "metadata": {},
   "outputs": [],
   "source": []
  },
  {
   "cell_type": "code",
   "execution_count": 378,
   "id": "a96b499e-98b2-4d85-8eb7-d28d46eaed5a",
   "metadata": {},
   "outputs": [
    {
     "name": "stdout",
     "output_type": "stream",
     "text": [
      "2661\n",
      "2472\n"
     ]
    }
   ],
   "source": [
    "# Thick and Thin in metadata_df\n",
    "metadata_df['is_thick'] = metadata_df['slide_name'].str.contains('THICK', case=False)\n",
    "metadata_df['is_thin'] = metadata_df['slide_name'].str.contains('THIN', case=False)\n",
    "metadata_thick = metadata_df['is_thick']\n",
    "metadata_thin = metadata_df['is_thin']\n",
    "\n",
    "thick_meta = metadata_df[metadata_thick]\n",
    "thick_meta = thick_meta.drop('is_thick', axis = 1)\n",
    "thick_meta = thick_meta.drop('is_thin', axis = 1)\n",
    "thick_meta = thick_meta.drop('stain', axis = 1)\n",
    "thick_meta = thick_meta.drop('username', axis = 1)\n",
    "thick_meta = thick_meta.groupby(['timestamp','slide_name','zoom_ration']).size().reset_index(name='Number')\n",
    "thick_meta = thick_meta.drop('Number', axis = 1)\n",
    "length_thick_meta = len(thick_meta)\n",
    "print(length_thick_meta)\n",
    "\n",
    "thin_meta = metadata_df[metadata_thin]\n",
    "thin_meta = thin_meta.drop('is_thick', axis = 1)\n",
    "thin_meta = thin_meta.drop('is_thin', axis = 1)\n",
    "thin_meta = thin_meta.drop('stain', axis = 1)\n",
    "thin_meta = thin_meta.drop('username', axis = 1)\n",
    "thin_meta = thin_meta.groupby(['timestamp','slide_name','zoom_ration']).size().reset_index(name='Number')\n",
    "thin_meta = thin_meta.drop('Number', axis = 1)\n",
    "length_thin_meta = len(thin_meta)\n",
    "print(length_thin_meta)"
   ]
  },
  {
   "cell_type": "code",
   "execution_count": null,
   "id": "735d2ce9-9504-4ed7-a433-14030f4e1798",
   "metadata": {},
   "outputs": [],
   "source": []
  },
  {
   "cell_type": "code",
   "execution_count": 393,
   "id": "a5f3ee27-2552-4618-a5b3-a73581ba7c2a",
   "metadata": {},
   "outputs": [
    {
     "data": {
      "text/plain": [
       "200"
      ]
     },
     "execution_count": 393,
     "metadata": {},
     "output_type": "execute_result"
    }
   ],
   "source": [
    "import numpy as np\n",
    "trophozoite_annotations = sally_annotations_df[sally_annotations_df['category_id'] == 1]\n",
    "\n",
    "# Create a mapping of category_id to category_name\n",
    "category_mapping = sally_annotations_df.groupby('category_id')['category_name'].first()\n",
    "\n",
    "# Replacing category_id with category_name in the groupby column\n",
    "trophozoite_annotations.loc[:,'category_id'] = trophozoite_annotations['category_id'].map(category_mapping)\n",
    "\n",
    "trophozoite_annotations = trophozoite_annotations.groupby(['image_id','category_id']).size().reset_index(name='Number')\n",
    "trophozoite_annotations.columns = ['Image_ID','Category_name','Number']\n",
    "#sally_trop_annot = trophozoite_annotations\n",
    "#sally_trop_annot.head()\n",
    "#sally_trop_annot_number = len(sally_trop_annot)\n",
    "#sally_trop_annot_number"
   ]
  },
  {
   "cell_type": "code",
   "execution_count": null,
   "id": "a517f8df-e13b-41f5-8bc1-4b7a65878eb7",
   "metadata": {},
   "outputs": [],
   "source": []
  },
  {
   "cell_type": "code",
   "execution_count": 398,
   "id": "36dbbf9d-ef5e-4ac5-aa9b-c8345ebcd721",
   "metadata": {},
   "outputs": [
    {
     "data": {
      "text/plain": [
       "114"
      ]
     },
     "execution_count": 398,
     "metadata": {},
     "output_type": "execute_result"
    }
   ],
   "source": [
    "# For Thick\n",
    "trophozoite_annotations['is_thick'] = metadata_df['slide_name'].str.contains('THICK', case=False)\n",
    "sally_trophozoite_thick = trophozoite_annotations['is_thick']\n",
    "\n",
    "# New column indicating whether the slide is thick or thin\n",
    "trophozoite_annotations.loc[:, 'Slide_Name'] = np.where(trophozoite_thick, 'Thick','Thin')\n",
    "trophozoite_annotations_thick = trophozoite_annotations[trophozoite_thick]\n",
    "trophozoite_annotations_thick = trophozoite_annotations_thick.drop('is_thick', axis = 1)\n",
    "trophozoite_annotations_thick.head()\n",
    "trophozoite_annotations_number_thick  = len(trophozoite_annotations_thick)\n",
    "trophozoite_annotations_number_thick "
   ]
  },
  {
   "cell_type": "code",
   "execution_count": null,
   "id": "155ab48d-3098-4267-9a46-3ca96b913f6e",
   "metadata": {},
   "outputs": [],
   "source": []
  },
  {
   "cell_type": "code",
   "execution_count": 397,
   "id": "6a36e085-08aa-4062-b983-9e84fd031bfe",
   "metadata": {},
   "outputs": [
    {
     "data": {
      "text/plain": [
       "86"
      ]
     },
     "execution_count": 397,
     "metadata": {},
     "output_type": "execute_result"
    }
   ],
   "source": [
    "# For Thin\n",
    "trophozoite_annotations['is_thin'] = metadata_df['slide_name'].str.contains('THIN', case=False)\n",
    "trophozoite_thin = trophozoite_annotations['is_thin']\n",
    "# For Zoomratio\n",
    "#trophozoite_annotations['zoom_ration'] = metadata_df['zoom_ration']\n",
    "\n",
    "# New column indicating whether the slide is thick or thin\n",
    "trophozoite_annotations.loc[:, 'Slide_Name'] = np.where(trophozoite_thin, 'Thin','Thick')\n",
    "trophozoite_annotations_thin = trophozoite_annotations[trophozoite_thin]\n",
    "trophozoite_annotations_thin = trophozoite_annotations_thin.drop('is_thin', axis = 1)\n",
    "trophozoite_annotations_thin = trophozoite_annotations_thin.drop('is_thick', axis = 1)\n",
    "trophozoite_annotations_thin.head()\n",
    "trophozoite_annotations_number_thin  = len(trophozoite_annotations_thin)\n",
    "trophozoite_annotations_number_thin"
   ]
  },
  {
   "cell_type": "code",
   "execution_count": null,
   "id": "e2a1fc9e-4704-4840-abfd-fe34d939fd72",
   "metadata": {},
   "outputs": [],
   "source": []
  },
  {
   "cell_type": "code",
   "execution_count": 382,
   "id": "e229b42a-abac-4eb0-a40c-37ddacc4a025",
   "metadata": {},
   "outputs": [
    {
     "name": "stdout",
     "output_type": "stream",
     "text": [
      "   Image_ID  Number Category_name\n",
      "0        20       1      Schizont\n",
      "1        78       1      Schizont\n",
      "2        85       2      Schizont\n",
      "3       157       1      Schizont\n",
      "4       158       1      Schizont\n"
     ]
    }
   ],
   "source": [
    "schizont_annotations = sally_annotations_df[sally_annotations_df['category_id'] == 2]\n",
    "\n",
    "schizont_annotations = schizont_annotations.groupby(['image_id']).size().reset_index(name='Number')\n",
    "schizont_annotations['category_id'] = 2\n",
    "\n",
    "category_mapping = sally_annotations_df[['category_id', 'category_name']].drop_duplicates()\n",
    "schizont_annotations.loc[:,'category_id'] = schizont_annotations['category_id'].replace(category_mapping.set_index('category_id')['category_name'])\n",
    "schizont_annotations.columns = ['Image_ID','Number','Category_name']\n",
    "print(schizont_annotations.head())"
   ]
  },
  {
   "cell_type": "code",
   "execution_count": null,
   "id": "04363955-804d-4495-b814-79ac0749e4ff",
   "metadata": {},
   "outputs": [],
   "source": []
  },
  {
   "cell_type": "code",
   "execution_count": 383,
   "id": "fe8ec230-79a2-46d6-ab9b-97ff99293f2b",
   "metadata": {},
   "outputs": [
    {
     "data": {
      "text/html": [
       "<div>\n",
       "<style scoped>\n",
       "    .dataframe tbody tr th:only-of-type {\n",
       "        vertical-align: middle;\n",
       "    }\n",
       "\n",
       "    .dataframe tbody tr th {\n",
       "        vertical-align: top;\n",
       "    }\n",
       "\n",
       "    .dataframe thead th {\n",
       "        text-align: right;\n",
       "    }\n",
       "</style>\n",
       "<table border=\"1\" class=\"dataframe\">\n",
       "  <thead>\n",
       "    <tr style=\"text-align: right;\">\n",
       "      <th></th>\n",
       "      <th>Image_ID</th>\n",
       "      <th>Number</th>\n",
       "      <th>Category_name</th>\n",
       "    </tr>\n",
       "  </thead>\n",
       "  <tbody>\n",
       "    <tr>\n",
       "      <th>0</th>\n",
       "      <td>3</td>\n",
       "      <td>1</td>\n",
       "      <td>Gametocyte</td>\n",
       "    </tr>\n",
       "    <tr>\n",
       "      <th>1</th>\n",
       "      <td>4</td>\n",
       "      <td>1</td>\n",
       "      <td>Gametocyte</td>\n",
       "    </tr>\n",
       "    <tr>\n",
       "      <th>2</th>\n",
       "      <td>5</td>\n",
       "      <td>1</td>\n",
       "      <td>Gametocyte</td>\n",
       "    </tr>\n",
       "    <tr>\n",
       "      <th>3</th>\n",
       "      <td>12</td>\n",
       "      <td>1</td>\n",
       "      <td>Gametocyte</td>\n",
       "    </tr>\n",
       "    <tr>\n",
       "      <th>4</th>\n",
       "      <td>13</td>\n",
       "      <td>1</td>\n",
       "      <td>Gametocyte</td>\n",
       "    </tr>\n",
       "  </tbody>\n",
       "</table>\n",
       "</div>"
      ],
      "text/plain": [
       "   Image_ID  Number Category_name\n",
       "0         3       1    Gametocyte\n",
       "1         4       1    Gametocyte\n",
       "2         5       1    Gametocyte\n",
       "3        12       1    Gametocyte\n",
       "4        13       1    Gametocyte"
      ]
     },
     "execution_count": 383,
     "metadata": {},
     "output_type": "execute_result"
    }
   ],
   "source": [
    "gametocyte_annotations = sally_annotations_df[sally_annotations_df['category_id'] == 3]\n",
    "\n",
    "gametocyte_annotations = gametocyte_annotations.groupby(['image_id']).size().reset_index(name='Number')\n",
    "gametocyte_annotations['category_id'] = 3\n",
    "\n",
    "category_mapping = sally_annotations_df[['category_id', 'category_name']].drop_duplicates()\n",
    "gametocyte_annotations.loc[:,'category_id'] = gametocyte_annotations['category_id'].replace(category_mapping.set_index('category_id')['category_name'])\n",
    "gametocyte_annotations.columns = ['Image_ID','Number','Category_name']\n",
    "gametocyte_annotations.head()"
   ]
  },
  {
   "cell_type": "code",
   "execution_count": null,
   "id": "43c7587a-e04b-4c7c-8681-783b53058a1d",
   "metadata": {},
   "outputs": [],
   "source": []
  },
  {
   "cell_type": "code",
   "execution_count": 384,
   "id": "41dc0daf-c623-45a8-93ee-040c04eb1440",
   "metadata": {},
   "outputs": [
    {
     "data": {
      "text/html": [
       "<div>\n",
       "<style scoped>\n",
       "    .dataframe tbody tr th:only-of-type {\n",
       "        vertical-align: middle;\n",
       "    }\n",
       "\n",
       "    .dataframe tbody tr th {\n",
       "        vertical-align: top;\n",
       "    }\n",
       "\n",
       "    .dataframe thead th {\n",
       "        text-align: right;\n",
       "    }\n",
       "</style>\n",
       "<table border=\"1\" class=\"dataframe\">\n",
       "  <thead>\n",
       "    <tr style=\"text-align: right;\">\n",
       "      <th></th>\n",
       "      <th>image_id</th>\n",
       "      <th>category_id</th>\n",
       "      <th>count</th>\n",
       "    </tr>\n",
       "  </thead>\n",
       "  <tbody>\n",
       "    <tr>\n",
       "      <th>0</th>\n",
       "      <td>1</td>\n",
       "      <td>4</td>\n",
       "      <td>16</td>\n",
       "    </tr>\n",
       "    <tr>\n",
       "      <th>1</th>\n",
       "      <td>2</td>\n",
       "      <td>4</td>\n",
       "      <td>18</td>\n",
       "    </tr>\n",
       "    <tr>\n",
       "      <th>2</th>\n",
       "      <td>3</td>\n",
       "      <td>4</td>\n",
       "      <td>13</td>\n",
       "    </tr>\n",
       "    <tr>\n",
       "      <th>3</th>\n",
       "      <td>4</td>\n",
       "      <td>4</td>\n",
       "      <td>11</td>\n",
       "    </tr>\n",
       "    <tr>\n",
       "      <th>4</th>\n",
       "      <td>5</td>\n",
       "      <td>4</td>\n",
       "      <td>13</td>\n",
       "    </tr>\n",
       "  </tbody>\n",
       "</table>\n",
       "</div>"
      ],
      "text/plain": [
       "   image_id  category_id  count\n",
       "0         1            4     16\n",
       "1         2            4     18\n",
       "2         3            4     13\n",
       "3         4            4     11\n",
       "4         5            4     13"
      ]
     },
     "execution_count": 384,
     "metadata": {},
     "output_type": "execute_result"
    }
   ],
   "source": [
    "wbc_annotations = annotations_df[annotations_df['category_id'] == 4]\n",
    "wbc_annotations = wbc_annotations.drop('is_thick', axis = 1)\n",
    "wbc_annotations = wbc_annotations.drop('is_thin', axis = 1)\n",
    "wbc_annotations = wbc_annotations.groupby(['image_id','category_id']).size().reset_index(name='count')\n",
    "wbc_annotations.head()"
   ]
  },
  {
   "cell_type": "code",
   "execution_count": null,
   "id": "1b2e05c4-de99-4fa7-968c-e2ea7c07fde4",
   "metadata": {},
   "outputs": [],
   "source": []
  }
 ],
 "metadata": {
  "kernelspec": {
   "display_name": "Python 3 (ipykernel)",
   "language": "python",
   "name": "python3"
  },
  "language_info": {
   "codemirror_mode": {
    "name": "ipython",
    "version": 3
   },
   "file_extension": ".py",
   "mimetype": "text/x-python",
   "name": "python",
   "nbconvert_exporter": "python",
   "pygments_lexer": "ipython3",
   "version": "3.11.7"
  }
 },
 "nbformat": 4,
 "nbformat_minor": 5
}

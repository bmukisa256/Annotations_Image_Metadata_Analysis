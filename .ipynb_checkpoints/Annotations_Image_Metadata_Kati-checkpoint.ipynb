{
 "cells": [
  {
   "cell_type": "code",
   "execution_count": 95,
   "id": "21e70e38-6f06-4768-b641-78c96d1d777e",
   "metadata": {},
   "outputs": [],
   "source": [
    "import os\n",
    "import json\n",
    "import re\n",
    "import pandas as pd\n",
    "\n",
    "# Annotations and Metadata\n",
    "def load_json_files(folder_path):\n",
    "    data = []\n",
    "    for file_name in os.listdir(folder_path):\n",
    "        if file_name.endswith('.json'):\n",
    "            with open(os.path.join(folder_path, file_name), 'r') as f:\n",
    "                data.append(json.load(f))\n",
    "    return data\n",
    "\n",
    "# Folders\n",
    "annotations_folder = r\"B:\\annotations\\sample\\coco\\annotations_04\"\n",
    "metadata_folder = r\"B:\\annotations\\sample\\ocular-json\"\n",
    "\n",
    "# Load all annotations and metadata\n",
    "annotations = load_json_files(annotations_folder)\n",
    "metadata = load_json_files(metadata_folder)"
   ]
  },
  {
   "cell_type": "code",
   "execution_count": null,
   "id": "85bf4ee1-a186-447c-a992-e5f90ee59302",
   "metadata": {},
   "outputs": [],
   "source": []
  },
  {
   "cell_type": "code",
   "execution_count": 96,
   "id": "aacb3013-b102-4810-bc4b-e335b53b8952",
   "metadata": {},
   "outputs": [],
   "source": [
    "# Extract timestamp from file name or file path\n",
    "def extract_timestamp(file_path):\n",
    "    match = re.search(r'Ocular_(\\d{4}-\\d{2}-\\d{2}_\\d{2}_\\d{2}_\\d{2})', file_path)\n",
    "    return match.group(1) if match else None\n",
    "\n",
    "metadata_list = []\n",
    "for meta in metadata:\n",
    "    if isinstance(meta, dict):\n",
    "        # Processing each key-value pair in the dictionary\n",
    "        timestamp = extract_timestamp(meta.get('file_path', None))\n",
    "        if timestamp:\n",
    "            metadata_list.append({\n",
    "                'timestamp': timestamp,\n",
    "                'zoom_ration': meta.get('zoom_ration', None),\n",
    "                'slide_name': meta.get('slide_name', None),\n",
    "                'username': meta.get('username', None),\n",
    "                'stain': meta.get('stain', None)\n",
    "            })\n",
    "        else:\n",
    "            print('No timestamp found')\n",
    "\n",
    "metadata_df = pd.DataFrame(metadata_list)"
   ]
  },
  {
   "cell_type": "code",
   "execution_count": null,
   "id": "ce46fb28-0a33-4bcf-9669-8f999d49baca",
   "metadata": {},
   "outputs": [],
   "source": []
  },
  {
   "cell_type": "code",
   "execution_count": 117,
   "id": "bd29659d-33d3-43d7-a39d-35b3f016e365",
   "metadata": {},
   "outputs": [],
   "source": [
    "import pandas as pd\n",
    "\n",
    "# Based on the timestamp pattern in the file paths match annotations to metadata\n",
    "annotation_list = []\n",
    "for annotation_file in annotations:\n",
    "    for image in annotation_file['images']:\n",
    "        file_name = image['file_name']\n",
    "        image_id = image['id']\n",
    "        timestamp = extract_timestamp(file_name)\n",
    "        if timestamp:\n",
    "            matching_metadata = metadata_df[metadata_df['timestamp'] == timestamp]\n",
    "            if not matching_metadata.empty:\n",
    "                for annotation in annotation_file['annotations']:\n",
    "                    if annotation['image_id'] == image['id']:\n",
    "                        for category in annotation_file['categories']:\n",
    "                            category_name = category['name']\n",
    "                            category_id = category['id']\n",
    "                            if annotation['category_id'] == category_id:\n",
    "                             for _, row in matching_metadata.iterrows():\n",
    "                                annotation_list.append({\n",
    "                                'file_name': file_name,\n",
    "                                'category_id': annotation['category_id'],\n",
    "                                'category_name':category_name,\n",
    "                                'image_id': image_id,\n",
    "                                'zoom_ration': row['zoom_ration']\n",
    "                                })\n",
    "\n",
    "\n",
    "kati_annotations_df = pd.DataFrame(annotation_list)"
   ]
  },
  {
   "cell_type": "code",
   "execution_count": 1,
   "id": "3e135d2b-a55c-4b0b-9afe-1503b169f017",
   "metadata": {},
   "outputs": [],
   "source": [
    "#kati_annotations_df.to_csv('kati_annotations_df.csv', sep=',', header=True, index=False, na_rep='NA', float_format='%.2f')"
   ]
  },
  {
   "cell_type": "code",
   "execution_count": null,
   "id": "9cac12c0-0818-4864-8d37-a98807743a33",
   "metadata": {},
   "outputs": [],
   "source": []
  },
  {
   "cell_type": "code",
   "execution_count": 99,
   "id": "cd288c24-c2b2-40df-984a-5b35ad593d05",
   "metadata": {},
   "outputs": [
    {
     "data": {
      "text/html": [
       "<div>\n",
       "<style scoped>\n",
       "    .dataframe tbody tr th:only-of-type {\n",
       "        vertical-align: middle;\n",
       "    }\n",
       "\n",
       "    .dataframe tbody tr th {\n",
       "        vertical-align: top;\n",
       "    }\n",
       "\n",
       "    .dataframe thead th {\n",
       "        text-align: right;\n",
       "    }\n",
       "</style>\n",
       "<table border=\"1\" class=\"dataframe\">\n",
       "  <thead>\n",
       "    <tr style=\"text-align: right;\">\n",
       "      <th></th>\n",
       "      <th>slide_name</th>\n",
       "      <th>zoom_ration</th>\n",
       "      <th>Number</th>\n",
       "    </tr>\n",
       "  </thead>\n",
       "  <tbody>\n",
       "    <tr>\n",
       "      <th>0</th>\n",
       "      <td>1</td>\n",
       "      <td>1.6</td>\n",
       "      <td>1</td>\n",
       "    </tr>\n",
       "    <tr>\n",
       "      <th>1</th>\n",
       "      <td>126_f_eu</td>\n",
       "      <td>1.0</td>\n",
       "      <td>20</td>\n",
       "    </tr>\n",
       "    <tr>\n",
       "      <th>2</th>\n",
       "      <td>1487</td>\n",
       "      <td>1.0</td>\n",
       "      <td>1</td>\n",
       "    </tr>\n",
       "    <tr>\n",
       "      <th>3</th>\n",
       "      <td>2</td>\n",
       "      <td>1.2</td>\n",
       "      <td>1</td>\n",
       "    </tr>\n",
       "    <tr>\n",
       "      <th>4</th>\n",
       "      <td>DSI AYE 013-G-NU</td>\n",
       "      <td>2.8</td>\n",
       "      <td>1</td>\n",
       "    </tr>\n",
       "    <tr>\n",
       "      <th>5</th>\n",
       "      <td>DSI-Awach</td>\n",
       "      <td>1.0</td>\n",
       "      <td>1</td>\n",
       "    </tr>\n",
       "    <tr>\n",
       "      <th>6</th>\n",
       "      <td>DSI-Awach</td>\n",
       "      <td>1.6</td>\n",
       "      <td>1</td>\n",
       "    </tr>\n",
       "    <tr>\n",
       "      <th>7</th>\n",
       "      <td>DSI-Awach</td>\n",
       "      <td>1.8</td>\n",
       "      <td>1</td>\n",
       "    </tr>\n",
       "    <tr>\n",
       "      <th>8</th>\n",
       "      <td>THICK-19-KAMB</td>\n",
       "      <td>1.0</td>\n",
       "      <td>24</td>\n",
       "    </tr>\n",
       "    <tr>\n",
       "      <th>9</th>\n",
       "      <td>THICK-20-KAMB</td>\n",
       "      <td>1.0</td>\n",
       "      <td>21</td>\n",
       "    </tr>\n",
       "    <tr>\n",
       "      <th>10</th>\n",
       "      <td>THICK-21-KAMB</td>\n",
       "      <td>1.0</td>\n",
       "      <td>39</td>\n",
       "    </tr>\n",
       "    <tr>\n",
       "      <th>11</th>\n",
       "      <td>THICK-28-ARRH</td>\n",
       "      <td>1.0</td>\n",
       "      <td>1</td>\n",
       "    </tr>\n",
       "    <tr>\n",
       "      <th>12</th>\n",
       "      <td>THICK-28-ARRH</td>\n",
       "      <td>1.8</td>\n",
       "      <td>2</td>\n",
       "    </tr>\n",
       "    <tr>\n",
       "      <th>13</th>\n",
       "      <td>THICK-28-ARRH</td>\n",
       "      <td>2</td>\n",
       "      <td>1</td>\n",
       "    </tr>\n",
       "    <tr>\n",
       "      <th>14</th>\n",
       "      <td>THICK-28-ARRH</td>\n",
       "      <td>2.2</td>\n",
       "      <td>6</td>\n",
       "    </tr>\n",
       "  </tbody>\n",
       "</table>\n",
       "</div>"
      ],
      "text/plain": [
       "          slide_name zoom_ration  Number\n",
       "0                  1         1.6       1\n",
       "1           126_f_eu         1.0      20\n",
       "2               1487         1.0       1\n",
       "3                  2         1.2       1\n",
       "4   DSI AYE 013-G-NU         2.8       1\n",
       "5          DSI-Awach         1.0       1\n",
       "6          DSI-Awach         1.6       1\n",
       "7          DSI-Awach         1.8       1\n",
       "8      THICK-19-KAMB         1.0      24\n",
       "9      THICK-20-KAMB         1.0      21\n",
       "10     THICK-21-KAMB         1.0      39\n",
       "11     THICK-28-ARRH         1.0       1\n",
       "12     THICK-28-ARRH         1.8       2\n",
       "13     THICK-28-ARRH           2       1\n",
       "14     THICK-28-ARRH         2.2       6"
      ]
     },
     "execution_count": 99,
     "metadata": {},
     "output_type": "execute_result"
    }
   ],
   "source": [
    "grouped_2 = metadata_df.groupby(['slide_name','zoom_ration']).size().reset_index(name='count')\n",
    "grouped_2.columns = ['slide_name','zoom_ration','Number']\n",
    "#print(grouped_2)\n",
    "slides = pd.DataFrame(grouped_2)\n",
    "slides.head(15)"
   ]
  },
  {
   "cell_type": "code",
   "execution_count": null,
   "id": "16b26675-1080-4705-a673-3f837bfcb1ef",
   "metadata": {},
   "outputs": [],
   "source": []
  },
  {
   "cell_type": "code",
   "execution_count": 100,
   "id": "12e8f1d9-3625-45ec-9281-3bba70153ea0",
   "metadata": {},
   "outputs": [
    {
     "data": {
      "text/html": [
       "<div>\n",
       "<style scoped>\n",
       "    .dataframe tbody tr th:only-of-type {\n",
       "        vertical-align: middle;\n",
       "    }\n",
       "\n",
       "    .dataframe tbody tr th {\n",
       "        vertical-align: top;\n",
       "    }\n",
       "\n",
       "    .dataframe thead th {\n",
       "        text-align: right;\n",
       "    }\n",
       "</style>\n",
       "<table border=\"1\" class=\"dataframe\">\n",
       "  <thead>\n",
       "    <tr style=\"text-align: right;\">\n",
       "      <th></th>\n",
       "      <th>image_id</th>\n",
       "      <th>zoom_ration</th>\n",
       "      <th>category_name</th>\n",
       "      <th>number</th>\n",
       "    </tr>\n",
       "  </thead>\n",
       "  <tbody>\n",
       "    <tr>\n",
       "      <th>0</th>\n",
       "      <td>1</td>\n",
       "      <td>1.0</td>\n",
       "      <td>Artifact</td>\n",
       "      <td>1</td>\n",
       "    </tr>\n",
       "    <tr>\n",
       "      <th>1</th>\n",
       "      <td>1</td>\n",
       "      <td>1.0</td>\n",
       "      <td>Other</td>\n",
       "      <td>1</td>\n",
       "    </tr>\n",
       "    <tr>\n",
       "      <th>2</th>\n",
       "      <td>1</td>\n",
       "      <td>1.0</td>\n",
       "      <td>Trophozoite</td>\n",
       "      <td>2</td>\n",
       "    </tr>\n",
       "    <tr>\n",
       "      <th>3</th>\n",
       "      <td>1</td>\n",
       "      <td>1.4</td>\n",
       "      <td>Trophozoite</td>\n",
       "      <td>8</td>\n",
       "    </tr>\n",
       "    <tr>\n",
       "      <th>4</th>\n",
       "      <td>1</td>\n",
       "      <td>1.4</td>\n",
       "      <td>WBC</td>\n",
       "      <td>4</td>\n",
       "    </tr>\n",
       "  </tbody>\n",
       "</table>\n",
       "</div>"
      ],
      "text/plain": [
       "   image_id zoom_ration category_name  number\n",
       "0         1         1.0      Artifact       1\n",
       "1         1         1.0         Other       1\n",
       "2         1         1.0   Trophozoite       2\n",
       "3         1         1.4   Trophozoite       8\n",
       "4         1         1.4           WBC       4"
      ]
     },
     "execution_count": 100,
     "metadata": {},
     "output_type": "execute_result"
    }
   ],
   "source": [
    "grouped_annotations = kati_annotations_df.groupby(['image_id','zoom_ration','category_name']).size().reset_index(name='number')\n",
    "#print(grouped_annotations)\n",
    "slides_2 = pd.DataFrame(grouped_annotations)\n",
    "slides_2.head()"
   ]
  },
  {
   "cell_type": "code",
   "execution_count": null,
   "id": "2fbe200d-996d-41ee-8ee7-cff839342e05",
   "metadata": {},
   "outputs": [],
   "source": []
  },
  {
   "cell_type": "code",
   "execution_count": 101,
   "id": "81c3b2a1-3faf-4d51-8331-1aa006490345",
   "metadata": {},
   "outputs": [
    {
     "name": "stdout",
     "output_type": "stream",
     "text": [
      "image_id\n",
      "1      9\n",
      "156    9\n",
      "16     9\n",
      "21     8\n",
      "14     8\n",
      "117    8\n",
      "32     8\n",
      "77     8\n",
      "62     8\n",
      "106    7\n",
      "97     7\n",
      "109    7\n",
      "42     7\n",
      "27     7\n",
      "80     7\n",
      "118    7\n",
      "65     7\n",
      "37     7\n",
      "36     7\n",
      "119    7\n",
      "34     7\n",
      "40     7\n",
      "29     7\n",
      "12     7\n",
      "2      7\n",
      "8      7\n",
      "4      7\n",
      "13     7\n",
      "17     7\n",
      "149    7\n",
      "152    7\n",
      "96     6\n",
      "158    6\n",
      "94     6\n",
      "95     6\n",
      "86     6\n",
      "85     6\n",
      "160    6\n",
      "161    6\n",
      "64     6\n",
      "154    6\n",
      "134    6\n",
      "112    6\n",
      "133    6\n",
      "150    6\n",
      "Name: count, dtype: int64\n"
     ]
    }
   ],
   "source": [
    "grouped_annotations = kati_annotations_df.groupby(['image_id','zoom_ration','category_name']).size().reset_index(name='number')\n",
    "#print(grouped_annotations)\n",
    "slides_2 = pd.DataFrame(grouped_annotations)\n",
    "#slides_2.head(26)\n",
    "slides_number = slides_2['image_id'].value_counts()\n",
    "print(slides_number.head(45))"
   ]
  },
  {
   "cell_type": "code",
   "execution_count": null,
   "id": "eaea2a32-0fc2-4d0c-b17e-1f04694bef02",
   "metadata": {},
   "outputs": [],
   "source": []
  },
  {
   "cell_type": "code",
   "execution_count": 102,
   "id": "fff638a7-ab2f-42a2-b685-356da9560a3e",
   "metadata": {},
   "outputs": [
    {
     "name": "stdout",
     "output_type": "stream",
     "text": [
      "image_id\n",
      "1      9\n",
      "156    9\n",
      "16     9\n",
      "21     8\n",
      "14     8\n",
      "      ..\n",
      "279    1\n",
      "280    1\n",
      "281    1\n",
      "282    1\n",
      "410    1\n",
      "Name: count, Length: 410, dtype: int64\n"
     ]
    }
   ],
   "source": [
    "# Number of images\n",
    "category_counts = slides_2['image_id'].value_counts()\n",
    "\n",
    "# Print the counts\n",
    "print(category_counts)"
   ]
  },
  {
   "cell_type": "code",
   "execution_count": null,
   "id": "8b002f41-c530-4111-90db-8c199f8197d8",
   "metadata": {},
   "outputs": [],
   "source": []
  },
  {
   "cell_type": "code",
   "execution_count": 103,
   "id": "f9ac6ad0-a376-492b-bd80-f090d84fc9fb",
   "metadata": {},
   "outputs": [
    {
     "name": "stdout",
     "output_type": "stream",
     "text": [
      "category_name\n",
      "WBC            447\n",
      "Trophozoite    439\n",
      "Other          224\n",
      "Artifact       165\n",
      "PF               9\n",
      "PO               1\n",
      "Name: count, dtype: int64\n"
     ]
    }
   ],
   "source": [
    "# Get the count of each category\n",
    "category_counts = slides_2['category_name'].value_counts()\n",
    "\n",
    "# Print the counts\n",
    "print(category_counts)"
   ]
  },
  {
   "cell_type": "code",
   "execution_count": null,
   "id": "ed6a1cd0-eaf5-48f9-8d9b-8b0cdf38f84b",
   "metadata": {},
   "outputs": [],
   "source": []
  },
  {
   "cell_type": "code",
   "execution_count": 104,
   "id": "866205bd-8bdf-43a7-8622-004d0ed37962",
   "metadata": {},
   "outputs": [
    {
     "data": {
      "image/png": "[encoded data removed]",
      "text/plain": [
       "<Figure size 1000x600 with 1 Axes>"
      ]
     },
     "metadata": {},
     "output_type": "display_data"
    }
   ],
   "source": [
    "import matplotlib.pyplot as plt\n",
    "\n",
    "# Get the count of each category\n",
    "category_counts = slides_2['category_name'].value_counts()\n",
    "\n",
    "# Create a bar plot\n",
    "plt.figure(figsize=(10, 6))\n",
    "plt.bar(category_counts.index, category_counts.values)\n",
    "plt.xlabel('Category Name')\n",
    "plt.ylabel('Count')\n",
    "plt.title('Category Counts')\n",
    "plt.xticks(rotation=90)\n",
    "plt.tight_layout()\n",
    "plt.show()\n"
   ]
  },
  {
   "cell_type": "code",
   "execution_count": null,
   "id": "42b47154-e771-4b1b-9e39-0a22f5f61d98",
   "metadata": {},
   "outputs": [],
   "source": []
  },
  {
   "cell_type": "code",
   "execution_count": 105,
   "id": "ac7a0361-ee82-4d6d-b854-45ba52d40f0d",
   "metadata": {},
   "outputs": [
    {
     "name": "stdout",
     "output_type": "stream",
     "text": [
      "662\n",
      "1819\n"
     ]
    }
   ],
   "source": [
    "import pandas as pd\n",
    "# Thick and Thin in annotations_df\n",
    "kati_annotations_df['is_thick'] = kati_annotations_df['file_name'].str.contains('THICK', case=False)\n",
    "kati_annotations_df['is_thin'] = kati_annotations_df['file_name'].str.contains('THIN', case=False)\n",
    "annotation_thick = kati_annotations_df['is_thick']\n",
    "annotation_thin = kati_annotations_df['is_thin']\n",
    "\n",
    "thick_annotations = kati_annotations_df[annotation_thick]\n",
    "thick_annotations = thick_annotations.drop('is_thick', axis = 1)\n",
    "thick_annotations = thick_annotations.drop('is_thin', axis = 1)\n",
    "thick_annotations = thick_annotations.drop('category_id', axis = 1)\n",
    "thick_annotations= thick_annotations.drop('category_name', axis = 1)\n",
    "thick_annotations= thick_annotations.groupby(['file_name','image_id']).size().reset_index(name='count')\n",
    "length_thick_annotations = len(thick_annotations)\n",
    "print(length_thick_annotations)\n",
    "\n",
    "thin_annotations = kati_annotations_df[annotation_thin]\n",
    "thin_annotations = thin_annotations.drop('is_thick', axis = 1)\n",
    "thin_annotations = thin_annotations.drop('is_thin', axis = 1)\n",
    "thin_annotations = thin_annotations.drop('category_id', axis = 1)\n",
    "thin_annotations = thin_annotations.drop('category_name', axis = 1)\n",
    "length_thin_annotations = len(thin_annotations)\n",
    "print(length_thin_annotations)"
   ]
  },
  {
   "cell_type": "code",
   "execution_count": null,
   "id": "8d5773d9-4448-4b08-a03c-a01f6f7f8596",
   "metadata": {},
   "outputs": [],
   "source": []
  },
  {
   "cell_type": "code",
   "execution_count": 106,
   "id": "91985b75-b447-40ea-8fea-57875a9e98ce",
   "metadata": {},
   "outputs": [
    {
     "name": "stdout",
     "output_type": "stream",
     "text": [
      "2661\n",
      "2472\n"
     ]
    }
   ],
   "source": [
    "# Thick and Thin in metadata_df\n",
    "metadata_df['is_thick'] = metadata_df['slide_name'].str.contains('THICK', case=False)\n",
    "metadata_df['is_thin'] = metadata_df['slide_name'].str.contains('THIN', case=False)\n",
    "metadata_thick = metadata_df['is_thick']\n",
    "metadata_thin = metadata_df['is_thin']\n",
    "\n",
    "thick_meta = metadata_df[metadata_thick]\n",
    "thick_meta = thick_meta.drop('is_thick', axis = 1)\n",
    "thick_meta = thick_meta.drop('is_thin', axis = 1)\n",
    "thick_meta = thick_meta.drop('stain', axis = 1)\n",
    "thick_meta = thick_meta.drop('username', axis = 1)\n",
    "thick_meta = thick_meta.groupby(['timestamp','slide_name','zoom_ration']).size().reset_index(name='Number')\n",
    "thick_meta = thick_meta.drop('Number', axis = 1)\n",
    "length_thick_meta = len(thick_meta)\n",
    "print(length_thick_meta)\n",
    "\n",
    "thin_meta = metadata_df[metadata_thin]\n",
    "thin_meta = thin_meta.drop('is_thick', axis = 1)\n",
    "thin_meta = thin_meta.drop('is_thin', axis = 1)\n",
    "thin_meta = thin_meta.drop('stain', axis = 1)\n",
    "thin_meta = thin_meta.drop('username', axis = 1)\n",
    "thin_meta = thin_meta.groupby(['timestamp','slide_name','zoom_ration']).size().reset_index(name='Number')\n",
    "thin_meta = thin_meta.drop('Number', axis = 1)\n",
    "length_thin_meta = len(thin_meta)\n",
    "print(length_thin_meta)"
   ]
  },
  {
   "cell_type": "code",
   "execution_count": null,
   "id": "cbb976c1-68be-455f-b737-3a4fd288fa63",
   "metadata": {},
   "outputs": [],
   "source": []
  },
  {
   "cell_type": "code",
   "execution_count": 107,
   "id": "3226c59e-2040-4a4b-9353-107463d21c8c",
   "metadata": {},
   "outputs": [
    {
     "data": {
      "text/html": [
       "<div>\n",
       "<style scoped>\n",
       "    .dataframe tbody tr th:only-of-type {\n",
       "        vertical-align: middle;\n",
       "    }\n",
       "\n",
       "    .dataframe tbody tr th {\n",
       "        vertical-align: top;\n",
       "    }\n",
       "\n",
       "    .dataframe thead th {\n",
       "        text-align: right;\n",
       "    }\n",
       "</style>\n",
       "<table border=\"1\" class=\"dataframe\">\n",
       "  <thead>\n",
       "    <tr style=\"text-align: right;\">\n",
       "      <th></th>\n",
       "      <th>Image_ID</th>\n",
       "      <th>Category_name</th>\n",
       "      <th>Number</th>\n",
       "    </tr>\n",
       "  </thead>\n",
       "  <tbody>\n",
       "    <tr>\n",
       "      <th>0</th>\n",
       "      <td>1</td>\n",
       "      <td>Trophozoite</td>\n",
       "      <td>27</td>\n",
       "    </tr>\n",
       "    <tr>\n",
       "      <th>1</th>\n",
       "      <td>2</td>\n",
       "      <td>Trophozoite</td>\n",
       "      <td>10</td>\n",
       "    </tr>\n",
       "    <tr>\n",
       "      <th>2</th>\n",
       "      <td>3</td>\n",
       "      <td>Trophozoite</td>\n",
       "      <td>36</td>\n",
       "    </tr>\n",
       "    <tr>\n",
       "      <th>3</th>\n",
       "      <td>4</td>\n",
       "      <td>Trophozoite</td>\n",
       "      <td>23</td>\n",
       "    </tr>\n",
       "    <tr>\n",
       "      <th>4</th>\n",
       "      <td>5</td>\n",
       "      <td>Trophozoite</td>\n",
       "      <td>35</td>\n",
       "    </tr>\n",
       "    <tr>\n",
       "      <th>5</th>\n",
       "      <td>6</td>\n",
       "      <td>Trophozoite</td>\n",
       "      <td>42</td>\n",
       "    </tr>\n",
       "    <tr>\n",
       "      <th>6</th>\n",
       "      <td>7</td>\n",
       "      <td>Trophozoite</td>\n",
       "      <td>36</td>\n",
       "    </tr>\n",
       "    <tr>\n",
       "      <th>7</th>\n",
       "      <td>8</td>\n",
       "      <td>Trophozoite</td>\n",
       "      <td>45</td>\n",
       "    </tr>\n",
       "    <tr>\n",
       "      <th>8</th>\n",
       "      <td>9</td>\n",
       "      <td>Trophozoite</td>\n",
       "      <td>36</td>\n",
       "    </tr>\n",
       "    <tr>\n",
       "      <th>9</th>\n",
       "      <td>10</td>\n",
       "      <td>Trophozoite</td>\n",
       "      <td>40</td>\n",
       "    </tr>\n",
       "  </tbody>\n",
       "</table>\n",
       "</div>"
      ],
      "text/plain": [
       "   Image_ID Category_name  Number\n",
       "0         1   Trophozoite      27\n",
       "1         2   Trophozoite      10\n",
       "2         3   Trophozoite      36\n",
       "3         4   Trophozoite      23\n",
       "4         5   Trophozoite      35\n",
       "5         6   Trophozoite      42\n",
       "6         7   Trophozoite      36\n",
       "7         8   Trophozoite      45\n",
       "8         9   Trophozoite      36\n",
       "9        10   Trophozoite      40"
      ]
     },
     "execution_count": 107,
     "metadata": {},
     "output_type": "execute_result"
    }
   ],
   "source": [
    "import numpy as np\n",
    "trophozoite_annotations = kati_annotations_df[kati_annotations_df['category_id'] == 1]\n",
    "\n",
    "# Create a mapping of category_id to category_name\n",
    "category_mapping = kati_annotations_df.groupby('category_id')['category_name'].first()\n",
    "\n",
    "# Replacing category_id with category_name in the groupby column\n",
    "trophozoite_annotations.loc[:,'category_id'] = trophozoite_annotations['category_id'].map(category_mapping)\n",
    "\n",
    "trophozoite_annotations = trophozoite_annotations.groupby(['image_id','category_id']).size().reset_index(name='Number')\n",
    "trophozoite_annotations.columns = ['Image_ID','Category_name','Number']\n",
    "trophozoite_annotations.head(10)"
   ]
  },
  {
   "cell_type": "code",
   "execution_count": null,
   "id": "d38ec299-6917-4600-b2e7-a8d2828be391",
   "metadata": {},
   "outputs": [],
   "source": []
  },
  {
   "cell_type": "code",
   "execution_count": 108,
   "id": "086e191c-e6fe-44ea-86e4-d664bc06de32",
   "metadata": {},
   "outputs": [
    {
     "data": {
      "image/png": "[encoded data removed]",
      "text/plain": [
       "<Figure size 1200x600 with 1 Axes>"
      ]
     },
     "metadata": {},
     "output_type": "display_data"
    }
   ],
   "source": [
    "import seaborn as sns\n",
    "import matplotlib.pyplot as plt\n",
    "\n",
    "# Assuming trophozoite_annotations is already defined as in your code\n",
    "sns.set_theme(style=\"whitegrid\")\n",
    "\n",
    "# Select a range of images (e.g., the first 20 images)\n",
    "image_range = trophozoite_annotations['Image_ID'].unique()[:35]\n",
    "\n",
    "# Filter the data to only include the selected image range\n",
    "filtered_data = trophozoite_annotations[trophozoite_annotations['Image_ID'].isin(image_range)]\n",
    "\n",
    "# Bar plot\n",
    "plt.figure(figsize=(12, 6))\n",
    "sns.barplot(x='Image_ID', y='Number', hue='Category_name', data=filtered_data, palette='viridis')\n",
    "plt.title('Number of Trophozoite for Each Image')\n",
    "plt.xlabel('Image ID')\n",
    "plt.ylabel('Number of Annotations')\n",
    "plt.legend(title='Category Name')\n",
    "plt.xticks(rotation=90)\n",
    "plt.show()"
   ]
  },
  {
   "cell_type": "raw",
   "id": "c9e648c2-d187-4bf7-a00a-566f678b2155",
   "metadata": {},
   "source": []
  },
  {
   "cell_type": "code",
   "execution_count": null,
   "id": "eb34eea6-d8c2-49d1-91ee-b1528616e904",
   "metadata": {},
   "outputs": [],
   "source": []
  },
  {
   "cell_type": "code",
   "execution_count": 109,
   "id": "183aeab0-7f34-442f-8790-7b52e61e2870",
   "metadata": {},
   "outputs": [
    {
     "data": {
      "text/html": [
       "<div>\n",
       "<style scoped>\n",
       "    .dataframe tbody tr th:only-of-type {\n",
       "        vertical-align: middle;\n",
       "    }\n",
       "\n",
       "    .dataframe tbody tr th {\n",
       "        vertical-align: top;\n",
       "    }\n",
       "\n",
       "    .dataframe thead th {\n",
       "        text-align: right;\n",
       "    }\n",
       "</style>\n",
       "<table border=\"1\" class=\"dataframe\">\n",
       "  <thead>\n",
       "    <tr style=\"text-align: right;\">\n",
       "      <th></th>\n",
       "      <th>Image_ID</th>\n",
       "      <th>Category_name</th>\n",
       "      <th>Number</th>\n",
       "      <th>Slide_Name</th>\n",
       "    </tr>\n",
       "  </thead>\n",
       "  <tbody>\n",
       "    <tr>\n",
       "      <th>0</th>\n",
       "      <td>1</td>\n",
       "      <td>Trophozoite</td>\n",
       "      <td>27</td>\n",
       "      <td>Thick</td>\n",
       "    </tr>\n",
       "    <tr>\n",
       "      <th>1</th>\n",
       "      <td>2</td>\n",
       "      <td>Trophozoite</td>\n",
       "      <td>10</td>\n",
       "      <td>Thick</td>\n",
       "    </tr>\n",
       "    <tr>\n",
       "      <th>2</th>\n",
       "      <td>3</td>\n",
       "      <td>Trophozoite</td>\n",
       "      <td>36</td>\n",
       "      <td>Thick</td>\n",
       "    </tr>\n",
       "    <tr>\n",
       "      <th>3</th>\n",
       "      <td>4</td>\n",
       "      <td>Trophozoite</td>\n",
       "      <td>23</td>\n",
       "      <td>Thick</td>\n",
       "    </tr>\n",
       "    <tr>\n",
       "      <th>4</th>\n",
       "      <td>5</td>\n",
       "      <td>Trophozoite</td>\n",
       "      <td>35</td>\n",
       "      <td>Thick</td>\n",
       "    </tr>\n",
       "  </tbody>\n",
       "</table>\n",
       "</div>"
      ],
      "text/plain": [
       "   Image_ID Category_name  Number Slide_Name\n",
       "0         1   Trophozoite      27      Thick\n",
       "1         2   Trophozoite      10      Thick\n",
       "2         3   Trophozoite      36      Thick\n",
       "3         4   Trophozoite      23      Thick\n",
       "4         5   Trophozoite      35      Thick"
      ]
     },
     "execution_count": 109,
     "metadata": {},
     "output_type": "execute_result"
    }
   ],
   "source": [
    "# For Thick\n",
    "trophozoite_annotations['is_thick'] = metadata_df['slide_name'].str.contains('THICK', case=False)\n",
    "trophozoite_thick = trophozoite_annotations['is_thick']\n",
    "\n",
    "# New column indicating whether the slide is thick or thin\n",
    "trophozoite_annotations.loc[:, 'Slide_Name'] = np.where(trophozoite_thick, 'Thick','Thin')\n",
    "trophozoite_annotations_thick = trophozoite_annotations[trophozoite_thick]\n",
    "trophozoite_annotations_thick = trophozoite_annotations_thick.drop('is_thick', axis = 1)\n",
    "\n",
    "trophozoite_annotations_thick.head()\n",
    "#trophozoite_annotations_thick.info()"
   ]
  },
  {
   "cell_type": "code",
   "execution_count": 110,
   "id": "e78d12ae-eabb-48d0-bdb4-1d864deee2d9",
   "metadata": {},
   "outputs": [
    {
     "data": {
      "image/png": "[encoded data removed]",
      "text/plain": [
       "<Figure size 1200x600 with 1 Axes>"
      ]
     },
     "metadata": {},
     "output_type": "display_data"
    }
   ],
   "source": [
    "import seaborn as sns\n",
    "import matplotlib.pyplot as plt\n",
    "\n",
    "sns.set_theme(style=\"whitegrid\")\n",
    "\n",
    "# Range of images \n",
    "image_range = trophozoite_annotations_thick['Image_ID'].unique()[:35]\n",
    "\n",
    "# Filter the data to only include the selected image range\n",
    "filtered_data_thick = trophozoite_annotations_thick[trophozoite_annotations_thick['Image_ID'].isin(image_range)]\n",
    "\n",
    "# Bar plot\n",
    "plt.figure(figsize=(12, 6))\n",
    "sns.barplot(x='Image_ID', y='Number', hue='Category_name', data=filtered_data_thick, palette='viridis')\n",
    "plt.title('Number of Trophozoite for Each Thick Image')\n",
    "plt.xlabel('Image ID')\n",
    "plt.ylabel('Number of Annotations')\n",
    "plt.legend(title='Category Name')\n",
    "plt.xticks(rotation=90)\n",
    "plt.show()"
   ]
  },
  {
   "cell_type": "code",
   "execution_count": null,
   "id": "0b9a618a-c29a-44b2-be1f-d5f5db2509b8",
   "metadata": {},
   "outputs": [],
   "source": []
  },
  {
   "cell_type": "code",
   "execution_count": null,
   "id": "f91037b2-87f3-4de3-a9a1-37b37f317009",
   "metadata": {},
   "outputs": [],
   "source": []
  },
  {
   "cell_type": "code",
   "execution_count": 111,
   "id": "0d40beb2-cf3e-4b69-a9d9-ccaefee01cdc",
   "metadata": {},
   "outputs": [
    {
     "data": {
      "text/html": [
       "<div>\n",
       "<style scoped>\n",
       "    .dataframe tbody tr th:only-of-type {\n",
       "        vertical-align: middle;\n",
       "    }\n",
       "\n",
       "    .dataframe tbody tr th {\n",
       "        vertical-align: top;\n",
       "    }\n",
       "\n",
       "    .dataframe thead th {\n",
       "        text-align: right;\n",
       "    }\n",
       "</style>\n",
       "<table border=\"1\" class=\"dataframe\">\n",
       "  <thead>\n",
       "    <tr style=\"text-align: right;\">\n",
       "      <th></th>\n",
       "      <th>Image_ID</th>\n",
       "      <th>Category_name</th>\n",
       "      <th>Number</th>\n",
       "      <th>Slide_Name</th>\n",
       "    </tr>\n",
       "  </thead>\n",
       "  <tbody>\n",
       "    <tr>\n",
       "      <th>17</th>\n",
       "      <td>18</td>\n",
       "      <td>Trophozoite</td>\n",
       "      <td>31</td>\n",
       "      <td>Thin</td>\n",
       "    </tr>\n",
       "    <tr>\n",
       "      <th>18</th>\n",
       "      <td>19</td>\n",
       "      <td>Trophozoite</td>\n",
       "      <td>27</td>\n",
       "      <td>Thin</td>\n",
       "    </tr>\n",
       "    <tr>\n",
       "      <th>19</th>\n",
       "      <td>20</td>\n",
       "      <td>Trophozoite</td>\n",
       "      <td>30</td>\n",
       "      <td>Thin</td>\n",
       "    </tr>\n",
       "    <tr>\n",
       "      <th>20</th>\n",
       "      <td>21</td>\n",
       "      <td>Trophozoite</td>\n",
       "      <td>11</td>\n",
       "      <td>Thin</td>\n",
       "    </tr>\n",
       "    <tr>\n",
       "      <th>21</th>\n",
       "      <td>22</td>\n",
       "      <td>Trophozoite</td>\n",
       "      <td>18</td>\n",
       "      <td>Thin</td>\n",
       "    </tr>\n",
       "  </tbody>\n",
       "</table>\n",
       "</div>"
      ],
      "text/plain": [
       "    Image_ID Category_name  Number Slide_Name\n",
       "17        18   Trophozoite      31       Thin\n",
       "18        19   Trophozoite      27       Thin\n",
       "19        20   Trophozoite      30       Thin\n",
       "20        21   Trophozoite      11       Thin\n",
       "21        22   Trophozoite      18       Thin"
      ]
     },
     "execution_count": 111,
     "metadata": {},
     "output_type": "execute_result"
    }
   ],
   "source": [
    "# For Thin\n",
    "trophozoite_annotations['is_thin'] = metadata_df['slide_name'].str.contains('THIN', case=False)\n",
    "trophozoite_thin = trophozoite_annotations['is_thin']\n",
    "# For Zoomratio\n",
    "#trophozoite_annotations['zoom_ration'] = metadata_df['zoom_ration']\n",
    "\n",
    "# New column indicating whether the slide is thick or thin\n",
    "trophozoite_annotations.loc[:, 'Slide_Name'] = np.where(trophozoite_thin, 'Thin','Thick')\n",
    "trophozoite_annotations_thin = trophozoite_annotations[trophozoite_thin]\n",
    "trophozoite_annotations_thin = trophozoite_annotations_thin.drop('is_thin', axis = 1)\n",
    "trophozoite_annotations_thin = trophozoite_annotations_thin.drop('is_thick', axis = 1)\n",
    "trophozoite_annotations_thin.head()"
   ]
  },
  {
   "cell_type": "code",
   "execution_count": null,
   "id": "8ac6f8bc-ab3e-427e-bd38-80fbc38dee1c",
   "metadata": {},
   "outputs": [],
   "source": []
  },
  {
   "cell_type": "code",
   "execution_count": 112,
   "id": "b595cda5-8f39-4c98-9d94-a21ad440c46c",
   "metadata": {},
   "outputs": [
    {
     "data": {
      "image/png": "[encoded data removed]",
      "text/plain": [
       "<Figure size 1200x600 with 1 Axes>"
      ]
     },
     "metadata": {},
     "output_type": "display_data"
    }
   ],
   "source": [
    "import seaborn as sns\n",
    "import matplotlib.pyplot as plt\n",
    "\n",
    "sns.set_theme(style=\"whitegrid\")\n",
    "\n",
    "# Range of images \n",
    "image_range = trophozoite_annotations_thin['Image_ID'].unique()[:35]\n",
    "\n",
    "# Filter the data to only include the selected image range\n",
    "filtered_data_thin = trophozoite_annotations_thin[trophozoite_annotations_thin['Image_ID'].isin(image_range)]\n",
    "\n",
    "#annotation_range = filtered_data_thin['Number'].min(), filtered_data_thin['Number'].max()\n",
    "#annotation_range = (0,45)\n",
    "\n",
    "# Bar plot\n",
    "plt.figure(figsize=(12, 6))\n",
    "sns.barplot(x='Image_ID', y='Number', hue='Category_name', data=filtered_data_thin, palette='viridis')\n",
    "plt.title('Number of Trophozoite for Each Thin Image')\n",
    "plt.xlabel('Image ID')\n",
    "plt.ylabel('Number of Annotations')\n",
    "plt.legend(title='Category Name')\n",
    "plt.xticks(rotation=90)\n",
    "plt.show()"
   ]
  },
  {
   "cell_type": "code",
   "execution_count": null,
   "id": "286e3ce7-6de4-419e-a39d-34315ecacf4c",
   "metadata": {},
   "outputs": [],
   "source": []
  },
  {
   "cell_type": "code",
   "execution_count": 113,
   "id": "5e508ee3-bba4-4d74-a4b6-23bb0d7b6b9d",
   "metadata": {},
   "outputs": [
    {
     "name": "stdout",
     "output_type": "stream",
     "text": [
      "Empty DataFrame\n",
      "Columns: [Image_ID, Number, Category_name]\n",
      "Index: []\n"
     ]
    }
   ],
   "source": [
    "schizont_annotations = kati_annotations_df[kati_annotations_df['category_id'] == 2]\n",
    "\n",
    "schizont_annotations = schizont_annotations.groupby(['image_id']).size().reset_index(name='Number')\n",
    "schizont_annotations['category_id'] = 2\n",
    "\n",
    "category_mapping = kati_annotations_df[['category_id', 'category_name']].drop_duplicates()\n",
    "schizont_annotations.loc[:,'category_id'] = schizont_annotations['category_id'].replace(category_mapping.set_index('category_id')['category_name'])\n",
    "schizont_annotations.columns = ['Image_ID','Number','Category_name']\n",
    "print(schizont_annotations.head())"
   ]
  },
  {
   "cell_type": "code",
   "execution_count": null,
   "id": "48974728-77b6-42a3-bccb-2b6613a617bf",
   "metadata": {},
   "outputs": [],
   "source": []
  },
  {
   "cell_type": "code",
   "execution_count": 115,
   "id": "b088caa3-f6e7-4fac-b27d-5f5e341e40c9",
   "metadata": {},
   "outputs": [
    {
     "name": "stdout",
     "output_type": "stream",
     "text": [
      "Empty DataFrame\n",
      "Columns: [Image_ID, Number, Category_name]\n",
      "Index: []\n"
     ]
    }
   ],
   "source": [
    "gametocyte_annotations = kati_annotations_df[kati_annotations_df['category_id'] == 3]\n",
    "\n",
    "gametocyte_annotations = gametocyte_annotations.groupby(['image_id']).size().reset_index(name='Number')\n",
    "gametocyte_annotations['category_id'] = 3\n",
    "\n",
    "category_mapping = kati_annotations_df[['category_id', 'category_name']].drop_duplicates()\n",
    "gametocyte_annotations.loc[:,'category_id'] = gametocyte_annotations['category_id'].replace(category_mapping.set_index('category_id')['category_name'])\n",
    "gametocyte_annotations.columns = ['Image_ID','Number','Category_name']\n",
    "print(gametocyte_annotations)"
   ]
  },
  {
   "cell_type": "code",
   "execution_count": null,
   "id": "a6699645-1e46-4656-9272-24db29730747",
   "metadata": {},
   "outputs": [],
   "source": []
  },
  {
   "cell_type": "code",
   "execution_count": 116,
   "id": "44bcf03f-4c4f-48f7-b06d-54b0a41fc5d5",
   "metadata": {},
   "outputs": [
    {
     "name": "stdout",
     "output_type": "stream",
     "text": [
      "   image_id  category_id  count\n",
      "0         1            4      5\n",
      "1         2            4      7\n",
      "2         3            4     10\n",
      "3         4            4     11\n",
      "4         5            4     18\n"
     ]
    }
   ],
   "source": [
    "wbc_annotations = kati_annotations_df[kati_annotations_df['category_id'] == 4]\n",
    "wbc_annotations = wbc_annotations.drop('is_thick', axis = 1)\n",
    "wbc_annotations = wbc_annotations.drop('is_thin', axis = 1)\n",
    "wbc_annotations = wbc_annotations.groupby(['image_id','category_id']).size().reset_index(name='count')\n",
    "\n",
    "print(wbc_annotations.head())"
   ]
  },
  {
   "cell_type": "code",
   "execution_count": null,
   "id": "4839869e-d364-4c34-bde2-49b8af97265f",
   "metadata": {},
   "outputs": [],
   "source": []
  }
 ],
 "metadata": {
  "kernelspec": {
   "display_name": "Python 3 (ipykernel)",
   "language": "python",
   "name": "python3"
  },
  "language_info": {
   "codemirror_mode": {
    "name": "ipython",
    "version": 3
   },
   "file_extension": ".py",
   "mimetype": "text/x-python",
   "name": "python",
   "nbconvert_exporter": "python",
   "pygments_lexer": "ipython3",
   "version": "3.11.7"
  }
 },
 "nbformat": 4,
 "nbformat_minor": 5
}

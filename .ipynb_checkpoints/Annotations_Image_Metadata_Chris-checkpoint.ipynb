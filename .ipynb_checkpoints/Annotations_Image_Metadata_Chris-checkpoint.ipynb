{
 "cells": [
  {
   "cell_type": "code",
   "execution_count": 46,
   "id": "e17ed9f7-6a56-4f43-a548-086e8a8ea6da",
   "metadata": {},
   "outputs": [],
   "source": [
    "import os\n",
    "import json\n",
    "import re\n",
    "import pandas as pd\n",
    "\n",
    "# Annotations and Metadata\n",
    "def load_json_files(folder_path):\n",
    "    data = []\n",
    "    for file_name in os.listdir(folder_path):\n",
    "        if file_name.endswith('.json'):\n",
    "            with open(os.path.join(folder_path, file_name), 'r') as f:\n",
    "                data.append(json.load(f))\n",
    "    return data\n",
    "\n",
    "# Folders\n",
    "annotations_folder = r\"B:\\annotations\\sample\\coco\\annotations_02\"\n",
    "metadata_folder = r\"B:\\annotations\\sample\\ocular-json\"\n",
    "\n",
    "# Load all annotations and metadata\n",
    "annotations = load_json_files(annotations_folder)\n",
    "metadata = load_json_files(metadata_folder)"
   ]
  },
  {
   "cell_type": "code",
   "execution_count": null,
   "id": "0b8a9866-aa07-4628-bfac-4aac83908de3",
   "metadata": {},
   "outputs": [],
   "source": []
  },
  {
   "cell_type": "code",
   "execution_count": 47,
   "id": "2b75a110-3db8-421f-a6e9-ea4d1bbfd627",
   "metadata": {},
   "outputs": [],
   "source": [
    "# Extract timestamp from file name or file path\n",
    "def extract_timestamp(file_path):\n",
    "    match = re.search(r'Ocular_(\\d{4}-\\d{2}-\\d{2}_\\d{2}_\\d{2}_\\d{2})', file_path)\n",
    "    return match.group(1) if match else None\n",
    "\n",
    "metadata_list = []\n",
    "for meta in metadata:\n",
    "    if isinstance(meta, dict):\n",
    "        # Processing each key-value pair in the dictionary\n",
    "        timestamp = extract_timestamp(meta.get('file_path', None))\n",
    "        if timestamp:\n",
    "            metadata_list.append({\n",
    "                'timestamp': timestamp,\n",
    "                'zoom_ration': meta.get('zoom_ration', None),\n",
    "                'slide_name': meta.get('slide_name', None),\n",
    "                'username': meta.get('username', None),\n",
    "                'stain': meta.get('stain', None)\n",
    "            })\n",
    "        else:\n",
    "            print('No timestamp found')\n",
    "\n",
    "metadata_df = pd.DataFrame(metadata_list)"
   ]
  },
  {
   "cell_type": "code",
   "execution_count": null,
   "id": "70c7a436-df5a-4a1e-9d1d-b3347cd9300a",
   "metadata": {},
   "outputs": [],
   "source": []
  },
  {
   "cell_type": "code",
   "execution_count": 68,
   "id": "a4731d4c-8e60-450a-8735-1ad2a2187951",
   "metadata": {},
   "outputs": [],
   "source": [
    "import pandas as pd\n",
    "\n",
    "# Based on the timestamp pattern in the file paths match annotations to metadata\n",
    "annotation_list = []\n",
    "for annotation_file in annotations:\n",
    "    for image in annotation_file['images']:\n",
    "        file_name = image['file_name']\n",
    "        image_id = image['id']\n",
    "        timestamp = extract_timestamp(file_name)\n",
    "        if timestamp:\n",
    "            matching_metadata = metadata_df[metadata_df['timestamp'] == timestamp]\n",
    "            if not matching_metadata.empty:\n",
    "                for annotation in annotation_file['annotations']:\n",
    "                    if annotation['image_id'] == image['id']:\n",
    "                        for category in annotation_file['categories']:\n",
    "                            category_name = category['name']\n",
    "                            category_id = category['id']\n",
    "                            if annotation['category_id'] == category_id:\n",
    "                             for _, row in matching_metadata.iterrows():\n",
    "                                annotation_list.append({\n",
    "                                'file_name': file_name,\n",
    "                                'category_id': annotation['category_id'],\n",
    "                                'category_name':category_name,\n",
    "                                'image_id': image_id,\n",
    "                                'zoom_ration': row['zoom_ration']\n",
    "                                })\n",
    "\n",
    "\n",
    "chris_annotations_df = pd.DataFrame(annotation_list)"
   ]
  },
  {
   "cell_type": "code",
   "execution_count": 69,
   "id": "fb473611-68dd-4f63-952c-24e2cc2f2d96",
   "metadata": {},
   "outputs": [],
   "source": [
    "#chris_annotations_df.to_csv('chris_annotations_df.csv', sep=',', header=True, index=False, na_rep='NA', float_format='%.2f')"
   ]
  },
  {
   "cell_type": "code",
   "execution_count": null,
   "id": "ca92605c-4b10-465b-91d7-a5c52e9d566b",
   "metadata": {},
   "outputs": [],
   "source": []
  },
  {
   "cell_type": "code",
   "execution_count": 50,
   "id": "66486a80-e30f-4ab1-8594-0ca6d944f9ae",
   "metadata": {},
   "outputs": [
    {
     "data": {
      "text/html": [
       "<div>\n",
       "<style scoped>\n",
       "    .dataframe tbody tr th:only-of-type {\n",
       "        vertical-align: middle;\n",
       "    }\n",
       "\n",
       "    .dataframe tbody tr th {\n",
       "        vertical-align: top;\n",
       "    }\n",
       "\n",
       "    .dataframe thead th {\n",
       "        text-align: right;\n",
       "    }\n",
       "</style>\n",
       "<table border=\"1\" class=\"dataframe\">\n",
       "  <thead>\n",
       "    <tr style=\"text-align: right;\">\n",
       "      <th></th>\n",
       "      <th>slide_name</th>\n",
       "      <th>zoom_ration</th>\n",
       "      <th>Number</th>\n",
       "    </tr>\n",
       "  </thead>\n",
       "  <tbody>\n",
       "    <tr>\n",
       "      <th>0</th>\n",
       "      <td>1</td>\n",
       "      <td>1.6</td>\n",
       "      <td>1</td>\n",
       "    </tr>\n",
       "    <tr>\n",
       "      <th>1</th>\n",
       "      <td>126_f_eu</td>\n",
       "      <td>1.0</td>\n",
       "      <td>20</td>\n",
       "    </tr>\n",
       "    <tr>\n",
       "      <th>2</th>\n",
       "      <td>1487</td>\n",
       "      <td>1.0</td>\n",
       "      <td>1</td>\n",
       "    </tr>\n",
       "    <tr>\n",
       "      <th>3</th>\n",
       "      <td>2</td>\n",
       "      <td>1.2</td>\n",
       "      <td>1</td>\n",
       "    </tr>\n",
       "    <tr>\n",
       "      <th>4</th>\n",
       "      <td>DSI AYE 013-G-NU</td>\n",
       "      <td>2.8</td>\n",
       "      <td>1</td>\n",
       "    </tr>\n",
       "    <tr>\n",
       "      <th>5</th>\n",
       "      <td>DSI-Awach</td>\n",
       "      <td>1.0</td>\n",
       "      <td>1</td>\n",
       "    </tr>\n",
       "    <tr>\n",
       "      <th>6</th>\n",
       "      <td>DSI-Awach</td>\n",
       "      <td>1.6</td>\n",
       "      <td>1</td>\n",
       "    </tr>\n",
       "    <tr>\n",
       "      <th>7</th>\n",
       "      <td>DSI-Awach</td>\n",
       "      <td>1.8</td>\n",
       "      <td>1</td>\n",
       "    </tr>\n",
       "    <tr>\n",
       "      <th>8</th>\n",
       "      <td>THICK-19-KAMB</td>\n",
       "      <td>1.0</td>\n",
       "      <td>24</td>\n",
       "    </tr>\n",
       "    <tr>\n",
       "      <th>9</th>\n",
       "      <td>THICK-20-KAMB</td>\n",
       "      <td>1.0</td>\n",
       "      <td>21</td>\n",
       "    </tr>\n",
       "  </tbody>\n",
       "</table>\n",
       "</div>"
      ],
      "text/plain": [
       "         slide_name zoom_ration  Number\n",
       "0                 1         1.6       1\n",
       "1          126_f_eu         1.0      20\n",
       "2              1487         1.0       1\n",
       "3                 2         1.2       1\n",
       "4  DSI AYE 013-G-NU         2.8       1\n",
       "5         DSI-Awach         1.0       1\n",
       "6         DSI-Awach         1.6       1\n",
       "7         DSI-Awach         1.8       1\n",
       "8     THICK-19-KAMB         1.0      24\n",
       "9     THICK-20-KAMB         1.0      21"
      ]
     },
     "execution_count": 50,
     "metadata": {},
     "output_type": "execute_result"
    }
   ],
   "source": [
    "grouped_2 = metadata_df.groupby(['slide_name','zoom_ration']).size().reset_index(name='count')\n",
    "grouped_2.columns = ['slide_name','zoom_ration','Number']\n",
    "#print(grouped_2)\n",
    "slides = pd.DataFrame(grouped_2)\n",
    "slides.head(10)"
   ]
  },
  {
   "cell_type": "code",
   "execution_count": null,
   "id": "4d222f75-e118-440c-a12c-3d7c55a41853",
   "metadata": {},
   "outputs": [],
   "source": []
  },
  {
   "cell_type": "code",
   "execution_count": 51,
   "id": "84b6e547-fff7-4104-96b6-7d27eadbcc15",
   "metadata": {},
   "outputs": [
    {
     "data": {
      "text/html": [
       "<div>\n",
       "<style scoped>\n",
       "    .dataframe tbody tr th:only-of-type {\n",
       "        vertical-align: middle;\n",
       "    }\n",
       "\n",
       "    .dataframe tbody tr th {\n",
       "        vertical-align: top;\n",
       "    }\n",
       "\n",
       "    .dataframe thead th {\n",
       "        text-align: right;\n",
       "    }\n",
       "</style>\n",
       "<table border=\"1\" class=\"dataframe\">\n",
       "  <thead>\n",
       "    <tr style=\"text-align: right;\">\n",
       "      <th></th>\n",
       "      <th>image_id</th>\n",
       "      <th>zoom_ration</th>\n",
       "      <th>category_name</th>\n",
       "      <th>number</th>\n",
       "    </tr>\n",
       "  </thead>\n",
       "  <tbody>\n",
       "    <tr>\n",
       "      <th>0</th>\n",
       "      <td>1</td>\n",
       "      <td>1.4</td>\n",
       "      <td>Trophozoite</td>\n",
       "      <td>115</td>\n",
       "    </tr>\n",
       "    <tr>\n",
       "      <th>1</th>\n",
       "      <td>1</td>\n",
       "      <td>1.4</td>\n",
       "      <td>WBC</td>\n",
       "      <td>13</td>\n",
       "    </tr>\n",
       "    <tr>\n",
       "      <th>2</th>\n",
       "      <td>1</td>\n",
       "      <td>1.8</td>\n",
       "      <td>PF</td>\n",
       "      <td>7</td>\n",
       "    </tr>\n",
       "    <tr>\n",
       "      <th>3</th>\n",
       "      <td>2</td>\n",
       "      <td>1.6</td>\n",
       "      <td>Trophozoite</td>\n",
       "      <td>142</td>\n",
       "    </tr>\n",
       "    <tr>\n",
       "      <th>4</th>\n",
       "      <td>2</td>\n",
       "      <td>1.6</td>\n",
       "      <td>WBC</td>\n",
       "      <td>4</td>\n",
       "    </tr>\n",
       "  </tbody>\n",
       "</table>\n",
       "</div>"
      ],
      "text/plain": [
       "   image_id zoom_ration category_name  number\n",
       "0         1         1.4   Trophozoite     115\n",
       "1         1         1.4           WBC      13\n",
       "2         1         1.8            PF       7\n",
       "3         2         1.6   Trophozoite     142\n",
       "4         2         1.6           WBC       4"
      ]
     },
     "execution_count": 51,
     "metadata": {},
     "output_type": "execute_result"
    }
   ],
   "source": [
    "grouped_annotations = chris_annotations_df.groupby(['image_id','zoom_ration','category_name']).size().reset_index(name='number')\n",
    "#print(grouped_annotations)\n",
    "slides_2 = pd.DataFrame(grouped_annotations)\n",
    "slides_2.head()"
   ]
  },
  {
   "cell_type": "code",
   "execution_count": null,
   "id": "b391b082-cefc-49c4-84a2-45eb0137cd70",
   "metadata": {},
   "outputs": [],
   "source": []
  },
  {
   "cell_type": "code",
   "execution_count": 52,
   "id": "34685114-0f86-4350-b2e4-54f6e8ac7e01",
   "metadata": {},
   "outputs": [
    {
     "name": "stdout",
     "output_type": "stream",
     "text": [
      "image_id\n",
      "65     7\n",
      "75     5\n",
      "66     5\n",
      "70     5\n",
      "88     5\n",
      "76     4\n",
      "69     4\n",
      "25     4\n",
      "109    4\n",
      "30     4\n",
      "32     4\n",
      "71     4\n",
      "68     4\n",
      "103    4\n",
      "113    4\n",
      "63     4\n",
      "61     4\n",
      "44     4\n",
      "60     4\n",
      "58     4\n",
      "104    4\n",
      "121    4\n",
      "21     4\n",
      "84     4\n",
      "4      4\n",
      "6      4\n",
      "7      4\n",
      "90     4\n",
      "9      4\n",
      "11     4\n",
      "86     4\n",
      "89     4\n",
      "83     4\n",
      "102    4\n",
      "80     4\n",
      "100    3\n",
      "98     3\n",
      "120    3\n",
      "119    3\n",
      "118    3\n",
      "97     3\n",
      "117    3\n",
      "116    3\n",
      "122    3\n",
      "110    3\n",
      "Name: count, dtype: int64\n"
     ]
    }
   ],
   "source": [
    "grouped_annotations = chris_annotations_df.groupby(['image_id','zoom_ration','category_name']).size().reset_index(name='number')\n",
    "#print(grouped_annotations)\n",
    "slides_2 = pd.DataFrame(grouped_annotations)\n",
    "#slides_2.head(26)\n",
    "slides_number = slides_2['image_id'].value_counts()\n",
    "print(slides_number.head(45))"
   ]
  },
  {
   "cell_type": "code",
   "execution_count": null,
   "id": "7e8bbe19-6417-4cbb-9bac-537993524fbc",
   "metadata": {},
   "outputs": [],
   "source": []
  },
  {
   "cell_type": "code",
   "execution_count": 53,
   "id": "fa4ae636-c035-4b18-8c5d-6046adcf4948",
   "metadata": {},
   "outputs": [
    {
     "name": "stdout",
     "output_type": "stream",
     "text": [
      "slide_name\n",
      "Thin_Slide_ARR_04    15\n",
      "Thin-16-ARRH         11\n",
      "Thick-15-ARRH        11\n",
      "Thin_Slide_ARR_01    11\n",
      "Thin-14-ARRH         11\n",
      "                     ..\n",
      "thick-2-kam           1\n",
      "thick-17-AMU          1\n",
      "thick-16-AMU          1\n",
      "thick-11-kam          1\n",
      "DSI AYE 013-G-NU      1\n",
      "Name: count, Length: 234, dtype: int64\n"
     ]
    }
   ],
   "source": [
    "grouped_meta = metadata_df.groupby(['zoom_ration','slide_name']).size().reset_index(name='number')\n",
    "#print(grouped_annotations)\n",
    "slides_3 = pd.DataFrame(grouped_meta)\n",
    "#slides_2.head(26)\n",
    "slides_number_2 = slides_3['slide_name'].value_counts()\n",
    "print(slides_number_2)"
   ]
  },
  {
   "cell_type": "code",
   "execution_count": null,
   "id": "229aa2ea-21f2-4cdf-9e64-34b274115ab6",
   "metadata": {},
   "outputs": [],
   "source": []
  },
  {
   "cell_type": "code",
   "execution_count": 54,
   "id": "5c3671d5-844f-490e-a281-c54826b449ed",
   "metadata": {},
   "outputs": [
    {
     "name": "stdout",
     "output_type": "stream",
     "text": [
      "image_id\n",
      "65     7\n",
      "75     5\n",
      "66     5\n",
      "70     5\n",
      "88     5\n",
      "      ..\n",
      "187    1\n",
      "186    1\n",
      "181    1\n",
      "185    1\n",
      "182    1\n",
      "Name: count, Length: 262, dtype: int64\n"
     ]
    }
   ],
   "source": [
    "# Number of images\n",
    "category_counts = slides_2['image_id'].value_counts()\n",
    "\n",
    "# Print the counts\n",
    "print(category_counts)"
   ]
  },
  {
   "cell_type": "code",
   "execution_count": null,
   "id": "38c8d83f-6e54-4d22-a52f-42523c27a2b1",
   "metadata": {},
   "outputs": [],
   "source": []
  },
  {
   "cell_type": "code",
   "execution_count": 55,
   "id": "32a403da-0a4f-47a8-91b9-9a2b7f331300",
   "metadata": {},
   "outputs": [
    {
     "name": "stdout",
     "output_type": "stream",
     "text": [
      "category_name\n",
      "Trophozoite    265\n",
      "WBC            243\n",
      "PF              94\n",
      "PM              36\n",
      "Other           33\n",
      "Artifact        23\n",
      "Schizont        11\n",
      "PV               3\n",
      "PO               2\n",
      "Name: count, dtype: int64\n"
     ]
    }
   ],
   "source": [
    "# Get the count of each category\n",
    "category_counts = slides_2['category_name'].value_counts()\n",
    "\n",
    "# Print the counts\n",
    "print(category_counts)"
   ]
  },
  {
   "cell_type": "code",
   "execution_count": null,
   "id": "9d611500-733f-493e-a602-180e9a03ab1f",
   "metadata": {},
   "outputs": [],
   "source": []
  },
  {
   "cell_type": "code",
   "execution_count": 56,
   "id": "743b3569-e1ee-48db-a6fb-3bfb05ff2758",
   "metadata": {},
   "outputs": [
    {
     "data": {
      "image/png": "[encoded data removed]",
      "text/plain": [
       "<Figure size 1000x600 with 1 Axes>"
      ]
     },
     "metadata": {},
     "output_type": "display_data"
    }
   ],
   "source": [
    "import matplotlib.pyplot as plt\n",
    "\n",
    "# Get the count of each category\n",
    "category_counts = slides_2['category_name'].value_counts()\n",
    "\n",
    "# Create a bar plot\n",
    "plt.figure(figsize=(10, 6))\n",
    "plt.bar(category_counts.index, category_counts.values)\n",
    "plt.xlabel('Category Name')\n",
    "plt.ylabel('Count')\n",
    "plt.title('Category Counts')\n",
    "plt.xticks(rotation=90)\n",
    "plt.tight_layout()\n",
    "plt.show()"
   ]
  },
  {
   "cell_type": "code",
   "execution_count": null,
   "id": "183b6e81-c391-4f5b-9a80-28f886c17848",
   "metadata": {},
   "outputs": [],
   "source": []
  },
  {
   "cell_type": "code",
   "execution_count": 57,
   "id": "c343c190-8862-40a3-acdf-1584bddddb09",
   "metadata": {},
   "outputs": [
    {
     "name": "stdout",
     "output_type": "stream",
     "text": [
      "262\n",
      "627\n"
     ]
    }
   ],
   "source": [
    "import pandas as pd\n",
    "# Thick and Thin in annotations_df\n",
    "chris_annotations_df['is_thick'] = chris_annotations_df['file_name'].str.contains('THICK', case=False)\n",
    "chris_annotations_df['is_thin'] = chris_annotations_df['file_name'].str.contains('THIN', case=False)\n",
    "annotation_thick = chris_annotations_df['is_thick']\n",
    "annotation_thin = chris_annotations_df['is_thin']\n",
    "\n",
    "thick_annotations = chris_annotations_df[annotation_thick]\n",
    "thick_annotations = thick_annotations.drop('is_thick', axis = 1)\n",
    "thick_annotations = thick_annotations.drop('is_thin', axis = 1)\n",
    "thick_annotations = thick_annotations.drop('category_id', axis = 1)\n",
    "thick_annotations= thick_annotations.drop('category_name', axis = 1)\n",
    "thick_annotations= thick_annotations.groupby(['file_name','image_id']).size().reset_index(name='count')\n",
    "length_thick_annotations = len(thick_annotations)\n",
    "print(length_thick_annotations)\n",
    "\n",
    "thin_annotations = chris_annotations_df[annotation_thin]\n",
    "thin_annotations = thin_annotations.drop('is_thick', axis = 1)\n",
    "thin_annotations = thin_annotations.drop('is_thin', axis = 1)\n",
    "thin_annotations = thin_annotations.drop('category_id', axis = 1)\n",
    "thin_annotations = thin_annotations.drop('category_name', axis = 1)\n",
    "length_thin_annotations = len(thin_annotations)\n",
    "print(length_thin_annotations)"
   ]
  },
  {
   "cell_type": "code",
   "execution_count": null,
   "id": "32ab6ef8-87cd-4781-9f5f-54d197a875b2",
   "metadata": {},
   "outputs": [],
   "source": []
  },
  {
   "cell_type": "code",
   "execution_count": 58,
   "id": "60bd3582-04f1-40af-a88c-60f0fbc05e56",
   "metadata": {},
   "outputs": [
    {
     "name": "stdout",
     "output_type": "stream",
     "text": [
      "2661\n",
      "2472\n"
     ]
    }
   ],
   "source": [
    "# Thick and Thin in metadata_df\n",
    "metadata_df['is_thick'] = metadata_df['slide_name'].str.contains('THICK', case=False)\n",
    "metadata_df['is_thin'] = metadata_df['slide_name'].str.contains('THIN', case=False)\n",
    "metadata_thick = metadata_df['is_thick']\n",
    "metadata_thin = metadata_df['is_thin']\n",
    "\n",
    "thick_meta = metadata_df[metadata_thick]\n",
    "thick_meta = thick_meta.drop('is_thick', axis = 1)\n",
    "thick_meta = thick_meta.drop('is_thin', axis = 1)\n",
    "thick_meta = thick_meta.drop('stain', axis = 1)\n",
    "thick_meta = thick_meta.drop('username', axis = 1)\n",
    "thick_meta = thick_meta.groupby(['timestamp','slide_name','zoom_ration']).size().reset_index(name='Number')\n",
    "thick_meta = thick_meta.drop('Number', axis = 1)\n",
    "length_thick_meta = len(thick_meta)\n",
    "print(length_thick_meta)\n",
    "\n",
    "thin_meta = metadata_df[metadata_thin]\n",
    "thin_meta = thin_meta.drop('is_thick', axis = 1)\n",
    "thin_meta = thin_meta.drop('is_thin', axis = 1)\n",
    "thin_meta = thin_meta.drop('stain', axis = 1)\n",
    "thin_meta = thin_meta.drop('username', axis = 1)\n",
    "thin_meta = thin_meta.groupby(['timestamp','slide_name','zoom_ration']).size().reset_index(name='Number')\n",
    "thin_meta = thin_meta.drop('Number', axis = 1)\n",
    "length_thin_meta = len(thin_meta)\n",
    "print(length_thin_meta)"
   ]
  },
  {
   "cell_type": "code",
   "execution_count": null,
   "id": "17d1ecd9-c2ec-43d5-844e-37e1c6b91a8f",
   "metadata": {},
   "outputs": [],
   "source": []
  },
  {
   "cell_type": "code",
   "execution_count": 59,
   "id": "18a86c01-23f0-47ad-b4ea-4e2c17fb8ef4",
   "metadata": {},
   "outputs": [
    {
     "data": {
      "text/html": [
       "<div>\n",
       "<style scoped>\n",
       "    .dataframe tbody tr th:only-of-type {\n",
       "        vertical-align: middle;\n",
       "    }\n",
       "\n",
       "    .dataframe tbody tr th {\n",
       "        vertical-align: top;\n",
       "    }\n",
       "\n",
       "    .dataframe thead th {\n",
       "        text-align: right;\n",
       "    }\n",
       "</style>\n",
       "<table border=\"1\" class=\"dataframe\">\n",
       "  <thead>\n",
       "    <tr style=\"text-align: right;\">\n",
       "      <th></th>\n",
       "      <th>Image_ID</th>\n",
       "      <th>Category_name</th>\n",
       "      <th>Number</th>\n",
       "    </tr>\n",
       "  </thead>\n",
       "  <tbody>\n",
       "    <tr>\n",
       "      <th>0</th>\n",
       "      <td>1</td>\n",
       "      <td>Trophozoite</td>\n",
       "      <td>115</td>\n",
       "    </tr>\n",
       "    <tr>\n",
       "      <th>1</th>\n",
       "      <td>2</td>\n",
       "      <td>Trophozoite</td>\n",
       "      <td>142</td>\n",
       "    </tr>\n",
       "    <tr>\n",
       "      <th>2</th>\n",
       "      <td>3</td>\n",
       "      <td>Trophozoite</td>\n",
       "      <td>157</td>\n",
       "    </tr>\n",
       "    <tr>\n",
       "      <th>3</th>\n",
       "      <td>4</td>\n",
       "      <td>Trophozoite</td>\n",
       "      <td>46</td>\n",
       "    </tr>\n",
       "    <tr>\n",
       "      <th>4</th>\n",
       "      <td>5</td>\n",
       "      <td>Trophozoite</td>\n",
       "      <td>55</td>\n",
       "    </tr>\n",
       "  </tbody>\n",
       "</table>\n",
       "</div>"
      ],
      "text/plain": [
       "   Image_ID Category_name  Number\n",
       "0         1   Trophozoite     115\n",
       "1         2   Trophozoite     142\n",
       "2         3   Trophozoite     157\n",
       "3         4   Trophozoite      46\n",
       "4         5   Trophozoite      55"
      ]
     },
     "execution_count": 59,
     "metadata": {},
     "output_type": "execute_result"
    }
   ],
   "source": [
    "import numpy as np\n",
    "trophozoite_annotations = chris_annotations_df[chris_annotations_df['category_id'] == 1]\n",
    "\n",
    "# Create a mapping of category_id to category_name\n",
    "category_mapping = chris_annotations_df.groupby('category_id')['category_name'].first()\n",
    "\n",
    "# Replacing category_id with category_name in the groupby column\n",
    "trophozoite_annotations.loc[:,'category_id'] = trophozoite_annotations['category_id'].map(category_mapping)\n",
    "\n",
    "trophozoite_annotations = trophozoite_annotations.groupby(['image_id','category_id']).size().reset_index(name='Number')\n",
    "trophozoite_annotations.columns = ['Image_ID','Category_name','Number']\n",
    "trophozoite_annotations.head()"
   ]
  },
  {
   "cell_type": "code",
   "execution_count": null,
   "id": "68f27084-c726-49d0-8943-0d81ad251de0",
   "metadata": {},
   "outputs": [],
   "source": []
  },
  {
   "cell_type": "code",
   "execution_count": 60,
   "id": "457a9c1f-f6a6-4ea0-8501-706117fd4430",
   "metadata": {},
   "outputs": [
    {
     "data": {
      "image/png": "[encoded data removed]",
      "text/plain": [
       "<Figure size 1200x600 with 1 Axes>"
      ]
     },
     "metadata": {},
     "output_type": "display_data"
    }
   ],
   "source": [
    "import seaborn as sns\n",
    "import matplotlib.pyplot as plt\n",
    "\n",
    "sns.set_theme(style=\"whitegrid\")\n",
    "\n",
    "# Range of images \n",
    "image_range = trophozoite_annotations['Image_ID'].unique()[:35]\n",
    "\n",
    "# Filter the data to only include the selected image range\n",
    "filtered_data = trophozoite_annotations[trophozoite_annotations['Image_ID'].isin(image_range)]\n",
    "\n",
    "# Bar plot\n",
    "plt.figure(figsize=(12, 6))\n",
    "sns.barplot(x='Image_ID', y='Number', hue='Category_name', data=filtered_data, palette='viridis')\n",
    "plt.title('Number of Trophozoite for Each Image')\n",
    "plt.xlabel('Image ID')\n",
    "plt.ylabel('Number of Annotations')\n",
    "plt.legend(title='Category Name')\n",
    "plt.xticks(rotation=90)\n",
    "plt.show()"
   ]
  },
  {
   "cell_type": "code",
   "execution_count": null,
   "id": "14e3ba45-3835-47fe-91e6-9bf7207e3d0a",
   "metadata": {},
   "outputs": [],
   "source": []
  },
  {
   "cell_type": "code",
   "execution_count": 61,
   "id": "a271ca92-4ff2-407e-85bf-e7638528a6d0",
   "metadata": {},
   "outputs": [
    {
     "data": {
      "text/html": [
       "<div>\n",
       "<style scoped>\n",
       "    .dataframe tbody tr th:only-of-type {\n",
       "        vertical-align: middle;\n",
       "    }\n",
       "\n",
       "    .dataframe tbody tr th {\n",
       "        vertical-align: top;\n",
       "    }\n",
       "\n",
       "    .dataframe thead th {\n",
       "        text-align: right;\n",
       "    }\n",
       "</style>\n",
       "<table border=\"1\" class=\"dataframe\">\n",
       "  <thead>\n",
       "    <tr style=\"text-align: right;\">\n",
       "      <th></th>\n",
       "      <th>Image_ID</th>\n",
       "      <th>Category_name</th>\n",
       "      <th>Number</th>\n",
       "      <th>Slide_Name</th>\n",
       "    </tr>\n",
       "  </thead>\n",
       "  <tbody>\n",
       "    <tr>\n",
       "      <th>0</th>\n",
       "      <td>1</td>\n",
       "      <td>Trophozoite</td>\n",
       "      <td>115</td>\n",
       "      <td>Thick</td>\n",
       "    </tr>\n",
       "    <tr>\n",
       "      <th>1</th>\n",
       "      <td>2</td>\n",
       "      <td>Trophozoite</td>\n",
       "      <td>142</td>\n",
       "      <td>Thick</td>\n",
       "    </tr>\n",
       "    <tr>\n",
       "      <th>2</th>\n",
       "      <td>3</td>\n",
       "      <td>Trophozoite</td>\n",
       "      <td>157</td>\n",
       "      <td>Thick</td>\n",
       "    </tr>\n",
       "    <tr>\n",
       "      <th>3</th>\n",
       "      <td>4</td>\n",
       "      <td>Trophozoite</td>\n",
       "      <td>46</td>\n",
       "      <td>Thick</td>\n",
       "    </tr>\n",
       "    <tr>\n",
       "      <th>4</th>\n",
       "      <td>5</td>\n",
       "      <td>Trophozoite</td>\n",
       "      <td>55</td>\n",
       "      <td>Thick</td>\n",
       "    </tr>\n",
       "  </tbody>\n",
       "</table>\n",
       "</div>"
      ],
      "text/plain": [
       "   Image_ID Category_name  Number Slide_Name\n",
       "0         1   Trophozoite     115      Thick\n",
       "1         2   Trophozoite     142      Thick\n",
       "2         3   Trophozoite     157      Thick\n",
       "3         4   Trophozoite      46      Thick\n",
       "4         5   Trophozoite      55      Thick"
      ]
     },
     "execution_count": 61,
     "metadata": {},
     "output_type": "execute_result"
    }
   ],
   "source": [
    "# For Thick\n",
    "trophozoite_annotations['is_thick'] = metadata_df['slide_name'].str.contains('THICK', case=False)\n",
    "trophozoite_thick = trophozoite_annotations['is_thick']\n",
    "\n",
    "# New column indicating whether the slide is thick or thin\n",
    "trophozoite_annotations.loc[:, 'Slide_Name'] = np.where(trophozoite_thick, 'Thick','Thin')\n",
    "trophozoite_annotations_thick = trophozoite_annotations[trophozoite_thick]\n",
    "trophozoite_annotations_thick = trophozoite_annotations_thick.drop('is_thick', axis = 1)\n",
    "trophozoite_annotations_thick.head()"
   ]
  },
  {
   "cell_type": "code",
   "execution_count": null,
   "id": "93040e46-2ff1-4fd3-8a5f-4001e6c4788e",
   "metadata": {},
   "outputs": [],
   "source": []
  },
  {
   "cell_type": "code",
   "execution_count": 62,
   "id": "a2265a5e-eba5-4deb-8f65-41ac1ec12687",
   "metadata": {},
   "outputs": [
    {
     "data": {
      "image/png": "[encoded data removed]",
      "text/plain": [
       "<Figure size 1200x600 with 1 Axes>"
      ]
     },
     "metadata": {},
     "output_type": "display_data"
    }
   ],
   "source": [
    "import seaborn as sns\n",
    "import matplotlib.pyplot as plt\n",
    "\n",
    "sns.set_theme(style=\"whitegrid\")\n",
    "\n",
    "# Range of images \n",
    "image_range = trophozoite_annotations_thick['Image_ID'].unique()[:35]\n",
    "\n",
    "# Filter the data to only include the selected image range\n",
    "filtered_data_thick = trophozoite_annotations_thick[trophozoite_annotations_thick['Image_ID'].isin(image_range)]\n",
    "\n",
    "# Bar plot\n",
    "plt.figure(figsize=(12, 6))\n",
    "sns.barplot(x='Image_ID', y='Number', hue='Category_name', data=filtered_data_thick, palette='viridis')\n",
    "plt.title('Number of Trophozoite for Each Thick Image')\n",
    "plt.xlabel('Image ID')\n",
    "plt.ylabel('Number of Annotations')\n",
    "plt.legend(title='Category Name')\n",
    "plt.xticks(rotation=90)\n",
    "plt.show()"
   ]
  },
  {
   "cell_type": "code",
   "execution_count": null,
   "id": "f0929a9b-00a9-48ac-81ce-7aa718e35989",
   "metadata": {},
   "outputs": [],
   "source": []
  },
  {
   "cell_type": "code",
   "execution_count": 63,
   "id": "06d2535b-b247-4106-be1d-da14a1e73440",
   "metadata": {},
   "outputs": [
    {
     "data": {
      "text/html": [
       "<div>\n",
       "<style scoped>\n",
       "    .dataframe tbody tr th:only-of-type {\n",
       "        vertical-align: middle;\n",
       "    }\n",
       "\n",
       "    .dataframe tbody tr th {\n",
       "        vertical-align: top;\n",
       "    }\n",
       "\n",
       "    .dataframe thead th {\n",
       "        text-align: right;\n",
       "    }\n",
       "</style>\n",
       "<table border=\"1\" class=\"dataframe\">\n",
       "  <thead>\n",
       "    <tr style=\"text-align: right;\">\n",
       "      <th></th>\n",
       "      <th>Image_ID</th>\n",
       "      <th>Category_name</th>\n",
       "      <th>Number</th>\n",
       "      <th>Slide_Name</th>\n",
       "    </tr>\n",
       "  </thead>\n",
       "  <tbody>\n",
       "    <tr>\n",
       "      <th>17</th>\n",
       "      <td>18</td>\n",
       "      <td>Trophozoite</td>\n",
       "      <td>51</td>\n",
       "      <td>Thin</td>\n",
       "    </tr>\n",
       "    <tr>\n",
       "      <th>18</th>\n",
       "      <td>19</td>\n",
       "      <td>Trophozoite</td>\n",
       "      <td>69</td>\n",
       "      <td>Thin</td>\n",
       "    </tr>\n",
       "    <tr>\n",
       "      <th>19</th>\n",
       "      <td>20</td>\n",
       "      <td>Trophozoite</td>\n",
       "      <td>50</td>\n",
       "      <td>Thin</td>\n",
       "    </tr>\n",
       "    <tr>\n",
       "      <th>20</th>\n",
       "      <td>21</td>\n",
       "      <td>Trophozoite</td>\n",
       "      <td>62</td>\n",
       "      <td>Thin</td>\n",
       "    </tr>\n",
       "    <tr>\n",
       "      <th>21</th>\n",
       "      <td>22</td>\n",
       "      <td>Trophozoite</td>\n",
       "      <td>40</td>\n",
       "      <td>Thin</td>\n",
       "    </tr>\n",
       "  </tbody>\n",
       "</table>\n",
       "</div>"
      ],
      "text/plain": [
       "    Image_ID Category_name  Number Slide_Name\n",
       "17        18   Trophozoite      51       Thin\n",
       "18        19   Trophozoite      69       Thin\n",
       "19        20   Trophozoite      50       Thin\n",
       "20        21   Trophozoite      62       Thin\n",
       "21        22   Trophozoite      40       Thin"
      ]
     },
     "execution_count": 63,
     "metadata": {},
     "output_type": "execute_result"
    }
   ],
   "source": [
    "# For Thin\n",
    "trophozoite_annotations['is_thin'] = metadata_df['slide_name'].str.contains('THIN', case=False)\n",
    "trophozoite_thin = trophozoite_annotations['is_thin']\n",
    "# For Zoomratio\n",
    "#trophozoite_annotations['zoom_ration'] = metadata_df['zoom_ration']\n",
    "\n",
    "# New column indicating whether the slide is thick or thin\n",
    "trophozoite_annotations.loc[:, 'Slide_Name'] = np.where(trophozoite_thin, 'Thin','Thick')\n",
    "trophozoite_annotations_thin = trophozoite_annotations[trophozoite_thin]\n",
    "trophozoite_annotations_thin = trophozoite_annotations_thin.drop('is_thin', axis = 1)\n",
    "trophozoite_annotations_thin = trophozoite_annotations_thin.drop('is_thick', axis = 1)\n",
    "trophozoite_annotations_thin.head()\n",
    "#trophozoite_annotations_thin.info()"
   ]
  },
  {
   "cell_type": "code",
   "execution_count": null,
   "id": "e79981ca-8a52-4cf2-8103-9d9f9b08e6e1",
   "metadata": {},
   "outputs": [],
   "source": []
  },
  {
   "cell_type": "code",
   "execution_count": 64,
   "id": "b49e08f6-d9b2-4015-ae69-b0265a7f22dd",
   "metadata": {},
   "outputs": [
    {
     "data": {
      "image/png": "[encoded data removed]",
      "text/plain": [
       "<Figure size 1200x600 with 1 Axes>"
      ]
     },
     "metadata": {},
     "output_type": "display_data"
    }
   ],
   "source": [
    "import seaborn as sns\n",
    "import matplotlib.pyplot as plt\n",
    "\n",
    "sns.set_theme(style=\"whitegrid\")\n",
    "\n",
    "# Range of images \n",
    "image_range = trophozoite_annotations_thin['Image_ID'].unique()[:40]\n",
    "\n",
    "# Filter the data to only include the selected image range\n",
    "filtered_data_thin = trophozoite_annotations_thin[trophozoite_annotations_thin['Image_ID'].isin(image_range)]\n",
    "\n",
    "#annotation_range = filtered_data_thin['Number'].min(), filtered_data_thin['Number'].max()\n",
    "#annotation_range = (0,45)\n",
    "\n",
    "# Bar plot\n",
    "plt.figure(figsize=(12, 6))\n",
    "sns.barplot(x='Image_ID', y='Number', hue='Category_name', data=filtered_data_thin, palette='viridis')\n",
    "plt.title('Number of Trophozoite for Each Thin Image')\n",
    "plt.xlabel('Image ID')\n",
    "plt.ylabel('Number of Annotations')\n",
    "plt.legend(title='Category Name')\n",
    "plt.xticks(rotation=90)\n",
    "plt.show()"
   ]
  },
  {
   "cell_type": "code",
   "execution_count": null,
   "id": "1fc600ed-524b-43f2-b1d1-248880e55b98",
   "metadata": {},
   "outputs": [],
   "source": []
  },
  {
   "cell_type": "code",
   "execution_count": 65,
   "id": "055717c9-7027-4134-a8b3-61fc6fdb7e79",
   "metadata": {},
   "outputs": [
    {
     "name": "stdout",
     "output_type": "stream",
     "text": [
      "   Image_ID  Number Category_name\n",
      "0        58       1      Schizont\n",
      "1        60       1      Schizont\n",
      "2        61       1      Schizont\n",
      "3        65       1      Schizont\n",
      "4        75       1      Schizont\n"
     ]
    }
   ],
   "source": [
    "schizont_annotations = chris_annotations_df[chris_annotations_df['category_id'] == 2]\n",
    "\n",
    "schizont_annotations = schizont_annotations.groupby(['image_id']).size().reset_index(name='Number')\n",
    "schizont_annotations['category_id'] = 2\n",
    "\n",
    "category_mapping = chris_annotations_df[['category_id', 'category_name']].drop_duplicates()\n",
    "schizont_annotations.loc[:,'category_id'] = schizont_annotations['category_id'].replace(category_mapping.set_index('category_id')['category_name'])\n",
    "schizont_annotations.columns = ['Image_ID','Number','Category_name']\n",
    "print(schizont_annotations.head())"
   ]
  },
  {
   "cell_type": "code",
   "execution_count": null,
   "id": "0ad99e96-1aac-49cd-ad4a-b44976bd3b9e",
   "metadata": {},
   "outputs": [],
   "source": []
  },
  {
   "cell_type": "code",
   "execution_count": 66,
   "id": "8634facf-1fa4-4d81-92bc-6dff97099d6a",
   "metadata": {},
   "outputs": [
    {
     "name": "stdout",
     "output_type": "stream",
     "text": [
      "Empty DataFrame\n",
      "Columns: [Image_ID, Number, Category_name]\n",
      "Index: []\n"
     ]
    }
   ],
   "source": [
    "gametocyte_annotations = chris_annotations_df[chris_annotations_df['category_id'] == 3]\n",
    "\n",
    "gametocyte_annotations = gametocyte_annotations.groupby(['image_id']).size().reset_index(name='Number')\n",
    "gametocyte_annotations['category_id'] = 3\n",
    "\n",
    "category_mapping = chris_annotations_df[['category_id', 'category_name']].drop_duplicates()\n",
    "gametocyte_annotations.loc[:,'category_id'] = gametocyte_annotations['category_id'].replace(category_mapping.set_index('category_id')['category_name'])\n",
    "gametocyte_annotations.columns = ['Image_ID','Number','Category_name']\n",
    "print(gametocyte_annotations)"
   ]
  },
  {
   "cell_type": "code",
   "execution_count": null,
   "id": "68d495a6-1ccf-4fc2-9e52-3c74f1037b0e",
   "metadata": {},
   "outputs": [],
   "source": []
  },
  {
   "cell_type": "code",
   "execution_count": 67,
   "id": "7664017a-9632-4b87-9e3d-225f0b11178c",
   "metadata": {},
   "outputs": [
    {
     "name": "stdout",
     "output_type": "stream",
     "text": [
      "   image_id  category_id  count\n",
      "0         1            4     13\n",
      "1         2            4      4\n",
      "2         3            4      4\n",
      "3         4            4     19\n",
      "4         5            4     16\n"
     ]
    }
   ],
   "source": [
    "wbc_annotations = chris_annotations_df[chris_annotations_df['category_id'] == 4]\n",
    "wbc_annotations = wbc_annotations.drop('is_thick', axis = 1)\n",
    "wbc_annotations = wbc_annotations.drop('is_thin', axis = 1)\n",
    "wbc_annotations = wbc_annotations.groupby(['image_id','category_id']).size().reset_index(name='count')\n",
    "\n",
    "print(wbc_annotations.head())"
   ]
  },
  {
   "cell_type": "code",
   "execution_count": null,
   "id": "7549774f-7f4a-4d25-8064-ce2dc65cdcd0",
   "metadata": {},
   "outputs": [],
   "source": []
  }
 ],
 "metadata": {
  "kernelspec": {
   "display_name": "Python 3 (ipykernel)",
   "language": "python",
   "name": "python3"
  },
  "language_info": {
   "codemirror_mode": {
    "name": "ipython",
    "version": 3
   },
   "file_extension": ".py",
   "mimetype": "text/x-python",
   "name": "python",
   "nbconvert_exporter": "python",
   "pygments_lexer": "ipython3",
   "version": "3.11.7"
  }
 },
 "nbformat": 4,
 "nbformat_minor": 5
}
